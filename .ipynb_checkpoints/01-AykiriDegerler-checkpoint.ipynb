{
 "cells": [
  {
   "cell_type": "code",
   "execution_count": 39,
   "id": "3160355b",
   "metadata": {},
   "outputs": [],
   "source": [
    "import numpy as np\n",
    "import pandas as pd\n",
    "import matplotlib.pyplot as plt\n",
    "import seaborn as sns\n",
    "import missingno as msno\n",
    "from datetime import date\n",
    "from sklearn.metrics import accuracy_score\n",
    "from sklearn.model_selection import train_test_split\n",
    "from sklearn.neighbors import LocalOutlierFactor\n",
    "from sklearn.preprocessing import MinMaxScaler,LabelEncoder,StandardScaler,RobustScaler"
   ]
  },
  {
   "cell_type": "code",
   "execution_count": 40,
   "id": "f0447c74",
   "metadata": {},
   "outputs": [],
   "source": [
    "#pd.set_option(\"display.max_columns\",None)\n",
    "#pd.set_option(\"display.max_rows\",None)\n",
    "#pd.set_option(\"display.float_format\",lambda x: '%.3f' % x)\n",
    "#pd.set_option(\"display.width\", 500)"
   ]
  },
  {
   "cell_type": "code",
   "execution_count": 34,
   "id": "80df1dae",
   "metadata": {},
   "outputs": [],
   "source": [
    "def load_application_train():\n",
    "    data=pd.read_csv(\"application_train.csv\")\n",
    "    return data"
   ]
  },
  {
   "cell_type": "code",
   "execution_count": 35,
   "id": "eb2f597f",
   "metadata": {},
   "outputs": [],
   "source": [
    "def load():\n",
    "    data=pd.read_csv(\"titanic.csv\")\n",
    "    return data"
   ]
  },
  {
   "cell_type": "code",
   "execution_count": 36,
   "id": "43278b5a",
   "metadata": {},
   "outputs": [],
   "source": [
    "df=load()"
   ]
  },
  {
   "cell_type": "code",
   "execution_count": 37,
   "id": "6dee6a4e",
   "metadata": {},
   "outputs": [
    {
     "data": {
      "text/html": [
       "<div>\n",
       "<style scoped>\n",
       "    .dataframe tbody tr th:only-of-type {\n",
       "        vertical-align: middle;\n",
       "    }\n",
       "\n",
       "    .dataframe tbody tr th {\n",
       "        vertical-align: top;\n",
       "    }\n",
       "\n",
       "    .dataframe thead th {\n",
       "        text-align: right;\n",
       "    }\n",
       "</style>\n",
       "<table border=\"1\" class=\"dataframe\">\n",
       "  <thead>\n",
       "    <tr style=\"text-align: right;\">\n",
       "      <th></th>\n",
       "      <th>PassengerId</th>\n",
       "      <th>Survived</th>\n",
       "      <th>Pclass</th>\n",
       "      <th>Name</th>\n",
       "      <th>Sex</th>\n",
       "      <th>Age</th>\n",
       "      <th>SibSp</th>\n",
       "      <th>Parch</th>\n",
       "      <th>Ticket</th>\n",
       "      <th>Fare</th>\n",
       "      <th>Cabin</th>\n",
       "      <th>Embarked</th>\n",
       "    </tr>\n",
       "  </thead>\n",
       "  <tbody>\n",
       "    <tr>\n",
       "      <th>0</th>\n",
       "      <td>1</td>\n",
       "      <td>0</td>\n",
       "      <td>3</td>\n",
       "      <td>Braund, Mr. Owen Harris</td>\n",
       "      <td>male</td>\n",
       "      <td>22.000</td>\n",
       "      <td>1</td>\n",
       "      <td>0</td>\n",
       "      <td>A/5 21171</td>\n",
       "      <td>7.250</td>\n",
       "      <td>NaN</td>\n",
       "      <td>S</td>\n",
       "    </tr>\n",
       "    <tr>\n",
       "      <th>1</th>\n",
       "      <td>2</td>\n",
       "      <td>1</td>\n",
       "      <td>1</td>\n",
       "      <td>Cumings, Mrs. John Bradley (Florence Briggs Th...</td>\n",
       "      <td>female</td>\n",
       "      <td>38.000</td>\n",
       "      <td>1</td>\n",
       "      <td>0</td>\n",
       "      <td>PC 17599</td>\n",
       "      <td>71.283</td>\n",
       "      <td>C85</td>\n",
       "      <td>C</td>\n",
       "    </tr>\n",
       "    <tr>\n",
       "      <th>2</th>\n",
       "      <td>3</td>\n",
       "      <td>1</td>\n",
       "      <td>3</td>\n",
       "      <td>Heikkinen, Miss. Laina</td>\n",
       "      <td>female</td>\n",
       "      <td>26.000</td>\n",
       "      <td>0</td>\n",
       "      <td>0</td>\n",
       "      <td>STON/O2. 3101282</td>\n",
       "      <td>7.925</td>\n",
       "      <td>NaN</td>\n",
       "      <td>S</td>\n",
       "    </tr>\n",
       "    <tr>\n",
       "      <th>3</th>\n",
       "      <td>4</td>\n",
       "      <td>1</td>\n",
       "      <td>1</td>\n",
       "      <td>Futrelle, Mrs. Jacques Heath (Lily May Peel)</td>\n",
       "      <td>female</td>\n",
       "      <td>35.000</td>\n",
       "      <td>1</td>\n",
       "      <td>0</td>\n",
       "      <td>113803</td>\n",
       "      <td>53.100</td>\n",
       "      <td>C123</td>\n",
       "      <td>S</td>\n",
       "    </tr>\n",
       "    <tr>\n",
       "      <th>4</th>\n",
       "      <td>5</td>\n",
       "      <td>0</td>\n",
       "      <td>3</td>\n",
       "      <td>Allen, Mr. William Henry</td>\n",
       "      <td>male</td>\n",
       "      <td>35.000</td>\n",
       "      <td>0</td>\n",
       "      <td>0</td>\n",
       "      <td>373450</td>\n",
       "      <td>8.050</td>\n",
       "      <td>NaN</td>\n",
       "      <td>S</td>\n",
       "    </tr>\n",
       "  </tbody>\n",
       "</table>\n",
       "</div>"
      ],
      "text/plain": [
       "   PassengerId  Survived  Pclass                                               Name     Sex    Age  SibSp  Parch            Ticket   Fare Cabin Embarked\n",
       "0            1         0       3                            Braund, Mr. Owen Harris    male 22.000      1      0         A/5 21171  7.250   NaN        S\n",
       "1            2         1       1  Cumings, Mrs. John Bradley (Florence Briggs Th...  female 38.000      1      0          PC 17599 71.283   C85        C\n",
       "2            3         1       3                             Heikkinen, Miss. Laina  female 26.000      0      0  STON/O2. 3101282  7.925   NaN        S\n",
       "3            4         1       1       Futrelle, Mrs. Jacques Heath (Lily May Peel)  female 35.000      1      0            113803 53.100  C123        S\n",
       "4            5         0       3                           Allen, Mr. William Henry    male 35.000      0      0            373450  8.050   NaN        S"
      ]
     },
     "execution_count": 37,
     "metadata": {},
     "output_type": "execute_result"
    }
   ],
   "source": [
    "df.head()"
   ]
  },
  {
   "cell_type": "markdown",
   "id": "776f0c31",
   "metadata": {},
   "source": [
    "## Aykırı degerleri yakalama"
   ]
  },
  {
   "cell_type": "code",
   "execution_count": 41,
   "id": "be55c9de",
   "metadata": {
    "scrolled": false
   },
   "outputs": [
    {
     "data": {
      "text/plain": [
       "<Axes: xlabel='Age'>"
      ]
     },
     "execution_count": 41,
     "metadata": {},
     "output_type": "execute_result"
    },
    {
     "data": {
      "image/png": "[encoded data removed]",
      "text/plain": [
       "<Figure size 640x480 with 1 Axes>"
      ]
     },
     "metadata": {},
     "output_type": "display_data"
    }
   ],
   "source": [
    "sns.boxplot(x=df[\"Age\"])"
   ]
  },
  {
   "cell_type": "markdown",
   "id": "0641d460",
   "metadata": {},
   "source": [
    "## Aykırı degerleri yakalama\n",
    "1-Eşik değerleri bulmak"
   ]
  },
  {
   "cell_type": "code",
   "execution_count": 42,
   "id": "bb149c4d",
   "metadata": {},
   "outputs": [],
   "source": [
    "q1=df[\"Age\"].quantile(0.25)"
   ]
  },
  {
   "cell_type": "code",
   "execution_count": 43,
   "id": "7ac1f081",
   "metadata": {},
   "outputs": [
    {
     "data": {
      "text/plain": [
       "20.125"
      ]
     },
     "execution_count": 43,
     "metadata": {},
     "output_type": "execute_result"
    }
   ],
   "source": [
    "q1 #ilk çeyrek"
   ]
  },
  {
   "cell_type": "code",
   "execution_count": 44,
   "id": "30f87f83",
   "metadata": {},
   "outputs": [],
   "source": [
    "q3=df[\"Age\"].quantile(0.75)"
   ]
  },
  {
   "cell_type": "code",
   "execution_count": 45,
   "id": "3eea2568",
   "metadata": {},
   "outputs": [
    {
     "data": {
      "text/plain": [
       "38.0"
      ]
     },
     "execution_count": 45,
     "metadata": {},
     "output_type": "execute_result"
    }
   ],
   "source": [
    "q3  #son çeyrek"
   ]
  },
  {
   "cell_type": "code",
   "execution_count": 47,
   "id": "98e26220",
   "metadata": {},
   "outputs": [
    {
     "data": {
      "text/plain": [
       "17.875"
      ]
     },
     "execution_count": 47,
     "metadata": {},
     "output_type": "execute_result"
    }
   ],
   "source": [
    "iqr=q3-q1\n",
    "iqr #IQR"
   ]
  },
  {
   "cell_type": "code",
   "execution_count": 51,
   "id": "ec5650a4",
   "metadata": {},
   "outputs": [],
   "source": [
    "up=q3+1.5*iqr  #upper whisker\n",
    "low=q1-1.5*iqr #lower whisker"
   ]
  },
  {
   "cell_type": "code",
   "execution_count": 53,
   "id": "44390c31",
   "metadata": {},
   "outputs": [
    {
     "name": "stdout",
     "output_type": "stream",
     "text": [
      "64.8125\n"
     ]
    },
    {
     "data": {
      "text/plain": [
       "-6.6875"
      ]
     },
     "execution_count": 53,
     "metadata": {},
     "output_type": "execute_result"
    }
   ],
   "source": [
    "print(up)\n",
    "low #yaş - olamayacağı için bunu ciddiye almayız"
   ]
  },
  {
   "cell_type": "code",
   "execution_count": null,
   "id": "292db6f1",
   "metadata": {},
   "outputs": [],
   "source": []
  },
  {
   "cell_type": "code",
   "execution_count": 54,
   "id": "3c951e04",
   "metadata": {},
   "outputs": [
    {
     "data": {
      "text/html": [
       "<div>\n",
       "<style scoped>\n",
       "    .dataframe tbody tr th:only-of-type {\n",
       "        vertical-align: middle;\n",
       "    }\n",
       "\n",
       "    .dataframe tbody tr th {\n",
       "        vertical-align: top;\n",
       "    }\n",
       "\n",
       "    .dataframe thead th {\n",
       "        text-align: right;\n",
       "    }\n",
       "</style>\n",
       "<table border=\"1\" class=\"dataframe\">\n",
       "  <thead>\n",
       "    <tr style=\"text-align: right;\">\n",
       "      <th></th>\n",
       "      <th>PassengerId</th>\n",
       "      <th>Survived</th>\n",
       "      <th>Pclass</th>\n",
       "      <th>Name</th>\n",
       "      <th>Sex</th>\n",
       "      <th>Age</th>\n",
       "      <th>SibSp</th>\n",
       "      <th>Parch</th>\n",
       "      <th>Ticket</th>\n",
       "      <th>Fare</th>\n",
       "      <th>Cabin</th>\n",
       "      <th>Embarked</th>\n",
       "    </tr>\n",
       "  </thead>\n",
       "  <tbody>\n",
       "    <tr>\n",
       "      <th>33</th>\n",
       "      <td>34</td>\n",
       "      <td>0</td>\n",
       "      <td>2</td>\n",
       "      <td>Wheadon, Mr. Edward H</td>\n",
       "      <td>male</td>\n",
       "      <td>66.000</td>\n",
       "      <td>0</td>\n",
       "      <td>0</td>\n",
       "      <td>C.A. 24579</td>\n",
       "      <td>10.500</td>\n",
       "      <td>NaN</td>\n",
       "      <td>S</td>\n",
       "    </tr>\n",
       "    <tr>\n",
       "      <th>54</th>\n",
       "      <td>55</td>\n",
       "      <td>0</td>\n",
       "      <td>1</td>\n",
       "      <td>Ostby, Mr. Engelhart Cornelius</td>\n",
       "      <td>male</td>\n",
       "      <td>65.000</td>\n",
       "      <td>0</td>\n",
       "      <td>1</td>\n",
       "      <td>113509</td>\n",
       "      <td>61.979</td>\n",
       "      <td>B30</td>\n",
       "      <td>C</td>\n",
       "    </tr>\n",
       "    <tr>\n",
       "      <th>96</th>\n",
       "      <td>97</td>\n",
       "      <td>0</td>\n",
       "      <td>1</td>\n",
       "      <td>Goldschmidt, Mr. George B</td>\n",
       "      <td>male</td>\n",
       "      <td>71.000</td>\n",
       "      <td>0</td>\n",
       "      <td>0</td>\n",
       "      <td>PC 17754</td>\n",
       "      <td>34.654</td>\n",
       "      <td>A5</td>\n",
       "      <td>C</td>\n",
       "    </tr>\n",
       "    <tr>\n",
       "      <th>116</th>\n",
       "      <td>117</td>\n",
       "      <td>0</td>\n",
       "      <td>3</td>\n",
       "      <td>Connors, Mr. Patrick</td>\n",
       "      <td>male</td>\n",
       "      <td>70.500</td>\n",
       "      <td>0</td>\n",
       "      <td>0</td>\n",
       "      <td>370369</td>\n",
       "      <td>7.750</td>\n",
       "      <td>NaN</td>\n",
       "      <td>Q</td>\n",
       "    </tr>\n",
       "    <tr>\n",
       "      <th>280</th>\n",
       "      <td>281</td>\n",
       "      <td>0</td>\n",
       "      <td>3</td>\n",
       "      <td>Duane, Mr. Frank</td>\n",
       "      <td>male</td>\n",
       "      <td>65.000</td>\n",
       "      <td>0</td>\n",
       "      <td>0</td>\n",
       "      <td>336439</td>\n",
       "      <td>7.750</td>\n",
       "      <td>NaN</td>\n",
       "      <td>Q</td>\n",
       "    </tr>\n",
       "    <tr>\n",
       "      <th>456</th>\n",
       "      <td>457</td>\n",
       "      <td>0</td>\n",
       "      <td>1</td>\n",
       "      <td>Millet, Mr. Francis Davis</td>\n",
       "      <td>male</td>\n",
       "      <td>65.000</td>\n",
       "      <td>0</td>\n",
       "      <td>0</td>\n",
       "      <td>13509</td>\n",
       "      <td>26.550</td>\n",
       "      <td>E38</td>\n",
       "      <td>S</td>\n",
       "    </tr>\n",
       "    <tr>\n",
       "      <th>493</th>\n",
       "      <td>494</td>\n",
       "      <td>0</td>\n",
       "      <td>1</td>\n",
       "      <td>Artagaveytia, Mr. Ramon</td>\n",
       "      <td>male</td>\n",
       "      <td>71.000</td>\n",
       "      <td>0</td>\n",
       "      <td>0</td>\n",
       "      <td>PC 17609</td>\n",
       "      <td>49.504</td>\n",
       "      <td>NaN</td>\n",
       "      <td>C</td>\n",
       "    </tr>\n",
       "    <tr>\n",
       "      <th>630</th>\n",
       "      <td>631</td>\n",
       "      <td>1</td>\n",
       "      <td>1</td>\n",
       "      <td>Barkworth, Mr. Algernon Henry Wilson</td>\n",
       "      <td>male</td>\n",
       "      <td>80.000</td>\n",
       "      <td>0</td>\n",
       "      <td>0</td>\n",
       "      <td>27042</td>\n",
       "      <td>30.000</td>\n",
       "      <td>A23</td>\n",
       "      <td>S</td>\n",
       "    </tr>\n",
       "    <tr>\n",
       "      <th>672</th>\n",
       "      <td>673</td>\n",
       "      <td>0</td>\n",
       "      <td>2</td>\n",
       "      <td>Mitchell, Mr. Henry Michael</td>\n",
       "      <td>male</td>\n",
       "      <td>70.000</td>\n",
       "      <td>0</td>\n",
       "      <td>0</td>\n",
       "      <td>C.A. 24580</td>\n",
       "      <td>10.500</td>\n",
       "      <td>NaN</td>\n",
       "      <td>S</td>\n",
       "    </tr>\n",
       "    <tr>\n",
       "      <th>745</th>\n",
       "      <td>746</td>\n",
       "      <td>0</td>\n",
       "      <td>1</td>\n",
       "      <td>Crosby, Capt. Edward Gifford</td>\n",
       "      <td>male</td>\n",
       "      <td>70.000</td>\n",
       "      <td>1</td>\n",
       "      <td>1</td>\n",
       "      <td>WE/P 5735</td>\n",
       "      <td>71.000</td>\n",
       "      <td>B22</td>\n",
       "      <td>S</td>\n",
       "    </tr>\n",
       "    <tr>\n",
       "      <th>851</th>\n",
       "      <td>852</td>\n",
       "      <td>0</td>\n",
       "      <td>3</td>\n",
       "      <td>Svensson, Mr. Johan</td>\n",
       "      <td>male</td>\n",
       "      <td>74.000</td>\n",
       "      <td>0</td>\n",
       "      <td>0</td>\n",
       "      <td>347060</td>\n",
       "      <td>7.775</td>\n",
       "      <td>NaN</td>\n",
       "      <td>S</td>\n",
       "    </tr>\n",
       "  </tbody>\n",
       "</table>\n",
       "</div>"
      ],
      "text/plain": [
       "     PassengerId  Survived  Pclass                                  Name   Sex    Age  SibSp  Parch      Ticket   Fare Cabin Embarked\n",
       "33            34         0       2                 Wheadon, Mr. Edward H  male 66.000      0      0  C.A. 24579 10.500   NaN        S\n",
       "54            55         0       1        Ostby, Mr. Engelhart Cornelius  male 65.000      0      1      113509 61.979   B30        C\n",
       "96            97         0       1             Goldschmidt, Mr. George B  male 71.000      0      0    PC 17754 34.654    A5        C\n",
       "116          117         0       3                  Connors, Mr. Patrick  male 70.500      0      0      370369  7.750   NaN        Q\n",
       "280          281         0       3                      Duane, Mr. Frank  male 65.000      0      0      336439  7.750   NaN        Q\n",
       "456          457         0       1             Millet, Mr. Francis Davis  male 65.000      0      0       13509 26.550   E38        S\n",
       "493          494         0       1               Artagaveytia, Mr. Ramon  male 71.000      0      0    PC 17609 49.504   NaN        C\n",
       "630          631         1       1  Barkworth, Mr. Algernon Henry Wilson  male 80.000      0      0       27042 30.000   A23        S\n",
       "672          673         0       2           Mitchell, Mr. Henry Michael  male 70.000      0      0  C.A. 24580 10.500   NaN        S\n",
       "745          746         0       1          Crosby, Capt. Edward Gifford  male 70.000      1      1   WE/P 5735 71.000   B22        S\n",
       "851          852         0       3                   Svensson, Mr. Johan  male 74.000      0      0      347060  7.775   NaN        S"
      ]
     },
     "execution_count": 54,
     "metadata": {},
     "output_type": "execute_result"
    }
   ],
   "source": [
    "df[(df[\"Age\"]<low) | (df[\"Age\"]>up)] #bunlar aykırı degerler"
   ]
  },
  {
   "cell_type": "code",
   "execution_count": 55,
   "id": "775db971",
   "metadata": {},
   "outputs": [
    {
     "data": {
      "text/plain": [
       "Index([33, 54, 96, 116, 280, 456, 493, 630, 672, 745, 851], dtype='int64')"
      ]
     },
     "execution_count": 55,
     "metadata": {},
     "output_type": "execute_result"
    }
   ],
   "source": [
    "df[(df[\"Age\"]<low) | (df[\"Age\"]>up)].index"
   ]
  },
  {
   "cell_type": "code",
   "execution_count": 57,
   "id": "9ce5a5e2",
   "metadata": {},
   "outputs": [
    {
     "data": {
      "text/plain": [
       "True"
      ]
     },
     "execution_count": 57,
     "metadata": {},
     "output_type": "execute_result"
    }
   ],
   "source": [
    "df[(df[\"Age\"]<low) | (df[\"Age\"]>up)].any(axis=None)  ## AYKIRI VAR MI YOK MU BAKAR"
   ]
  },
  {
   "cell_type": "code",
   "execution_count": 62,
   "id": "2badb0e5",
   "metadata": {},
   "outputs": [
    {
     "data": {
      "text/plain": [
       "False"
      ]
     },
     "execution_count": 62,
     "metadata": {},
     "output_type": "execute_result"
    }
   ],
   "source": [
    "df[(df[\"Age\"]<low)].any(axis=None) #DF nin içinde -6.6875 dan küçük yaş var mı??"
   ]
  },
  {
   "cell_type": "markdown",
   "id": "aae9b347",
   "metadata": {},
   "source": [
    "1-)Esik deger belirlerndi\n",
    "2-)Aykırı degerlere erisildi\n",
    "3-)Hızlıca aykırı deger var mı kontrolu yapıldı \n",
    "TEK TEK DEGSİKLENLER İCİN YAPILMASI UZUN SÜRER\n",
    "BU İSİ FONKSİYONLARSTIRMAMIZ GEREKİYOR"
   ]
  },
  {
   "cell_type": "markdown",
   "id": "984aa46b",
   "metadata": {},
   "source": [
    "## Fonksiyonlastırma\n",
    "1-) Esik Deger Belirleme"
   ]
  },
  {
   "cell_type": "code",
   "execution_count": 72,
   "id": "17b7c8bc",
   "metadata": {},
   "outputs": [],
   "source": [
    "def outlier_thresholds(dataframe, col_name, q1=0.25, q3=0.75):\n",
    "    quartile1 = dataframe[col_name].quantile(q1)\n",
    "    quartile3 = dataframe[col_name].quantile(q3)\n",
    "    interquantile_range = quartile3 - quartile1\n",
    "    up_limit = quartile3 + 1.5 * interquantile_range\n",
    "    low_limit = quartile1 - 1.5 * interquantile_range\n",
    "    return low_limit, up_limit"
   ]
  },
  {
   "cell_type": "code",
   "execution_count": 76,
   "id": "6cc7af36",
   "metadata": {},
   "outputs": [],
   "source": [
    "low,up=outlier_thresholds(df, \"Age\")"
   ]
  },
  {
   "cell_type": "code",
   "execution_count": 75,
   "id": "3208bd7a",
   "metadata": {},
   "outputs": [
    {
     "data": {
      "text/plain": [
       "(-26.724, 65.6344)"
      ]
     },
     "execution_count": 75,
     "metadata": {},
     "output_type": "execute_result"
    }
   ],
   "source": [
    "outlier_thresholds(df,\"Fare\")"
   ]
  },
  {
   "cell_type": "code",
   "execution_count": 77,
   "id": "ee904e22",
   "metadata": {},
   "outputs": [
    {
     "name": "stdout",
     "output_type": "stream",
     "text": [
      "-6.6875 64.8125\n"
     ]
    }
   ],
   "source": [
    "print(low,up)"
   ]
  },
  {
   "cell_type": "code",
   "execution_count": 80,
   "id": "f3c9a656",
   "metadata": {},
   "outputs": [
    {
     "data": {
      "text/plain": [
       "Index([33, 54, 96, 116, 280, 456, 493, 630, 672, 745, 851], dtype='int64')"
      ]
     },
     "execution_count": 80,
     "metadata": {},
     "output_type": "execute_result"
    }
   ],
   "source": [
    "df[(df[\"Age\"]<low) | (df[\"Age\"]>up)].index"
   ]
  },
  {
   "cell_type": "markdown",
   "id": "1fea8680",
   "metadata": {},
   "source": [
    "2-)Aykırı deger var mı meselesi"
   ]
  },
  {
   "cell_type": "code",
   "execution_count": 84,
   "id": "8fafb140",
   "metadata": {},
   "outputs": [],
   "source": [
    "def chech_outlier(dataframe,col_name):\n",
    "    low_limit,up_limit=outlier_thresholds(dataframe,col_name)\n",
    "    if dataframe[(dataframe[col_name]>up_limit) | (dataframe[col_name]<low_limit)].any(axis=None):\n",
    "        return True\n",
    "    else:\n",
    "        return False"
   ]
  },
  {
   "cell_type": "code",
   "execution_count": 85,
   "id": "35980186",
   "metadata": {},
   "outputs": [
    {
     "data": {
      "text/plain": [
       "True"
      ]
     },
     "execution_count": 85,
     "metadata": {},
     "output_type": "execute_result"
    }
   ],
   "source": [
    "chech_outlier(df,\"Age\")"
   ]
  },
  {
   "cell_type": "code",
   "execution_count": 86,
   "id": "58c2b88a",
   "metadata": {},
   "outputs": [
    {
     "data": {
      "text/plain": [
       "True"
      ]
     },
     "execution_count": 86,
     "metadata": {},
     "output_type": "execute_result"
    }
   ],
   "source": [
    "chech_outlier(df,\"Fare\")"
   ]
  },
  {
   "cell_type": "markdown",
   "id": "b5b4b449",
   "metadata": {},
   "source": [
    "3-) Veri seti içindeki sayısal değişkenlerin tümüne bu işlemi uygulama(Fonksiyonel Preproscessing, Scriptlevel preprossesnng)"
   ]
  },
  {
   "cell_type": "code",
   "execution_count": 102,
   "id": "1779807e",
   "metadata": {},
   "outputs": [],
   "source": [
    "def grab_col_names(dataframe,cat_th=10,car_th=20):\n",
    "    cat_cols=[col for col in dataframe.columns if dataframe[col].dtypes==\"O\"] #tipi obcejt olanları al\n",
    "    num_but_cat=[col for col in dataframe.columns if dataframe[col].nunique()<cat_th and\n",
    "             dataframe[col].dtypes!=\"O\"] #numerik görünen kategörikleri aldık\n",
    "    cat_but_car=[col for col in dataframe.columns if dataframe[col].nunique()>car_th and\n",
    "                dataframe[col].dtypes==\"O\"] #kategorik görünen kardinalleri aldık.\n",
    "    \n",
    "    cat_cols=cat_cols+num_but_cat #kategörikler güncellendi\n",
    "    cat_cols=[col for col in cat_cols if col not in cat_but_car] #cat_cols içinde kardinalleri ayırdık\n",
    "    \n",
    "    num_cols=[col for col in dataframe.columns if dataframe[col].dtypes!=\"O\"] #tipi objectden farkı olanları getir\n",
    "    num_cols=[col for col in num_cols if col not in num_but_cat]\n",
    "    \n",
    "    print(f\"Observations(Gözlem):{dataframe.shape[0]}\")\n",
    "    print(f\"Variables(Öznitelik): {dataframe.shape[1]}\")\n",
    "    print(f\"cat_cols:{len(cat_cols)}\")\n",
    "    print(f\"num_cols:{len(num_cols)} \")\n",
    "    print(f\"cat_but_car:{len(cat_but_car)} \")\n",
    "    print(f\"num_but_cat:{len(num_but_cat)} \")\n",
    "    \n",
    "    return cat_cols,num_cols,cat_but_car"
   ]
  },
  {
   "cell_type": "code",
   "execution_count": 103,
   "id": "36492da7",
   "metadata": {},
   "outputs": [
    {
     "name": "stdout",
     "output_type": "stream",
     "text": [
      "Observations(Gözlem):891\n",
      "Variables(Öznitelik): 12\n",
      "cat_cols:6\n",
      "num_cols:3 \n",
      "cat_but_car:3 \n",
      "num_but_cat:4 \n"
     ]
    }
   ],
   "source": [
    "cat_cols,num_cols,cat_but_car=grab_col_names(df)"
   ]
  },
  {
   "cell_type": "code",
   "execution_count": 104,
   "id": "63dfc574",
   "metadata": {},
   "outputs": [
    {
     "data": {
      "text/plain": [
       "['Sex', 'Embarked', 'Survived', 'Pclass', 'SibSp', 'Parch']"
      ]
     },
     "execution_count": 104,
     "metadata": {},
     "output_type": "execute_result"
    }
   ],
   "source": [
    "cat_cols"
   ]
  },
  {
   "cell_type": "code",
   "execution_count": 105,
   "id": "e6cf6bc4",
   "metadata": {},
   "outputs": [
    {
     "data": {
      "text/plain": [
       "['PassengerId', 'Age', 'Fare']"
      ]
     },
     "execution_count": 105,
     "metadata": {},
     "output_type": "execute_result"
    }
   ],
   "source": [
    "num_cols #PassengerId hoşumuza gitmedi"
   ]
  },
  {
   "cell_type": "code",
   "execution_count": 106,
   "id": "068ed617",
   "metadata": {},
   "outputs": [
    {
     "name": "stdout",
     "output_type": "stream",
     "text": [
      "['Age', 'Fare']\n"
     ]
    }
   ],
   "source": [
    "num_cols=[col for col in num_cols if col not in \"PassengerId\"]\n",
    "print(num_cols)"
   ]
  },
  {
   "cell_type": "code",
   "execution_count": 108,
   "id": "d8e34864",
   "metadata": {},
   "outputs": [
    {
     "name": "stdout",
     "output_type": "stream",
     "text": [
      "Age True\n",
      "Fare True\n"
     ]
    }
   ],
   "source": [
    "for col in num_cols:\n",
    "    print(col,chech_outlier(df,col))  #içinde aykırı deger var mı yokmu çok hızlı bir şekilde baktık"
   ]
  },
  {
   "cell_type": "code",
   "execution_count": null,
   "id": "38f66acf",
   "metadata": {},
   "outputs": [],
   "source": [
    "#dff=load_application_train()\n",
    "#cat_cols,num_cols,cat_but_car=grab_col_names(dff)\n",
    "#for col in num_cols:\n",
    "    #print(col,chech_outlier(dff,col))  "
   ]
  },
  {
   "cell_type": "markdown",
   "id": "94398623",
   "metadata": {},
   "source": [
    "## Aykırı degerlere erişmek"
   ]
  },
  {
   "cell_type": "code",
   "execution_count": 114,
   "id": "ed5a734e",
   "metadata": {},
   "outputs": [],
   "source": [
    "def grab_outliers(dataframe,col_name,index=False):\n",
    "    low,up=outlier_thresholds(dataframe,col_name)\n",
    "    \n",
    "    if dataframe[((dataframe[col_name]<low) | (dataframe[col_name]>up))].shape[0]>10:\n",
    "        print(dataframe[((dataframe[col_name]<low)) | (dataframe[col_name]>up)].head())\n",
    "    else:\n",
    "        print(dataframe[((dataframe[col_name]<low)) | (dataframe[col_name]>up)])\n",
    "        \n",
    "    if index:\n",
    "        outlier_index=dataframe[((dataframe[col_name]<low)| (dataframe[col_name]>up))].index\n",
    "        return outlier_index"
   ]
  },
  {
   "cell_type": "code",
   "execution_count": 118,
   "id": "97b479b7",
   "metadata": {},
   "outputs": [
    {
     "name": "stdout",
     "output_type": "stream",
     "text": [
      "     PassengerId  Survived  Pclass                            Name   Sex    Age  SibSp  Parch      Ticket   Fare Cabin Embarked\n",
      "33            34         0       2           Wheadon, Mr. Edward H  male 66.000      0      0  C.A. 24579 10.500   NaN        S\n",
      "54            55         0       1  Ostby, Mr. Engelhart Cornelius  male 65.000      0      1      113509 61.979   B30        C\n",
      "96            97         0       1       Goldschmidt, Mr. George B  male 71.000      0      0    PC 17754 34.654    A5        C\n",
      "116          117         0       3            Connors, Mr. Patrick  male 70.500      0      0      370369  7.750   NaN        Q\n",
      "280          281         0       3                Duane, Mr. Frank  male 65.000      0      0      336439  7.750   NaN        Q\n"
     ]
    }
   ],
   "source": [
    "grab_outliers(df,\"Age\")"
   ]
  },
  {
   "cell_type": "code",
   "execution_count": 119,
   "id": "dac6087e",
   "metadata": {},
   "outputs": [
    {
     "name": "stdout",
     "output_type": "stream",
     "text": [
      "     PassengerId  Survived  Pclass                            Name   Sex    Age  SibSp  Parch      Ticket   Fare Cabin Embarked\n",
      "33            34         0       2           Wheadon, Mr. Edward H  male 66.000      0      0  C.A. 24579 10.500   NaN        S\n",
      "54            55         0       1  Ostby, Mr. Engelhart Cornelius  male 65.000      0      1      113509 61.979   B30        C\n",
      "96            97         0       1       Goldschmidt, Mr. George B  male 71.000      0      0    PC 17754 34.654    A5        C\n",
      "116          117         0       3            Connors, Mr. Patrick  male 70.500      0      0      370369  7.750   NaN        Q\n",
      "280          281         0       3                Duane, Mr. Frank  male 65.000      0      0      336439  7.750   NaN        Q\n"
     ]
    }
   ],
   "source": [
    "age_index=grab_outliers(df,\"Age\",True)"
   ]
  },
  {
   "cell_type": "markdown",
   "id": "3b429959",
   "metadata": {},
   "source": [
    "1-)Aykırı degeri fonksiyonla bulma\\n\n",
    "2-)Aykırı deger var mı sorusunu fonksiyonla bulma\n",
    "3-)Aykırı degerleri fonksiyonla yakalama\n",
    "4-)Kolonları türlerine göre getir"
   ]
  },
  {
   "cell_type": "code",
   "execution_count": null,
   "id": "a4aaf081",
   "metadata": {},
   "outputs": [],
   "source": []
  }
 ],
 "metadata": {
  "kernelspec": {
   "display_name": "Python 3 (ipykernel)",
   "language": "python",
   "name": "python3"
  },
  "language_info": {
   "codemirror_mode": {
    "name": "ipython",
    "version": 3
   },
   "file_extension": ".py",
   "mimetype": "text/x-python",
   "name": "python",
   "nbconvert_exporter": "python",
   "pygments_lexer": "ipython3",
   "version": "3.11.5"
  }
 },
 "nbformat": 4,
 "nbformat_minor": 5
}

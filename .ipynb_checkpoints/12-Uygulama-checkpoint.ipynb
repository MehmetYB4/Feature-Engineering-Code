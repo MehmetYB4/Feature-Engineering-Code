{
 "cells": [
  {
   "cell_type": "code",
   "execution_count": 1,
   "id": "81030abd-6809-47a6-951c-e016b03cb463",
   "metadata": {
    "tags": []
   },
   "outputs": [],
   "source": [
    "import numpy as np\n",
    "import pandas as pd\n",
    "import matplotlib.pyplot as plt\n",
    "import seaborn as sns\n",
    "import missingno as msnofrom\n",
    "from sklearn.preprocessing import MinMaxScaler,LabelEncoder,StandardScaler,RobustScaler"
   ]
  },
  {
   "cell_type": "code",
   "execution_count": 2,
   "id": "f69a8261-7f1d-4120-a556-68a5a4a990cc",
   "metadata": {
    "tags": []
   },
   "outputs": [],
   "source": [
    "pd.set_option(\"display.max_columns\",None)\n",
    "pd.set_option(\"display.max_rows\",None)\n",
    "pd.set_option(\"display.float_format\",lambda x: '%.3f' % x)\n",
    "pd.set_option(\"display.width\", 500)"
   ]
  },
  {
   "cell_type": "code",
   "execution_count": 21,
   "id": "3aa1fcda-9ebf-4b52-a24d-963bfc21432a",
   "metadata": {
    "tags": []
   },
   "outputs": [],
   "source": [
    "def load():\n",
    "    data=pd.read_csv(\"titanic.csv\")\n",
    "    return data\n",
    "def load_application_train():\n",
    "    data=pd.read_csv(\"application_train.csv\")\n",
    "    return data\n",
    "def grab_col_names(dataframe,cat_th=10,car_th=20):\n",
    "    cat_cols=[col for col in dataframe.columns if dataframe[col].dtypes==\"O\"] #tipi obcejt olanları al\n",
    "    num_but_cat=[col for col in dataframe.columns if dataframe[col].nunique()<cat_th and\n",
    "             dataframe[col].dtypes!=\"O\"] #numerik görünen kategörikleri aldık\n",
    "    cat_but_car=[col for col in dataframe.columns if dataframe[col].nunique()>car_th and\n",
    "                dataframe[col].dtypes==\"O\"] #kategorik görünen kardinalleri aldık.\n",
    "    \n",
    "    cat_cols=cat_cols+num_but_cat #kategörikler güncellendi\n",
    "    cat_cols=[col for col in cat_cols if col not in cat_but_car] #cat_cols içinde kardinalleri ayırdık\n",
    "    \n",
    "    num_cols=[col for col in dataframe.columns if dataframe[col].dtypes!=\"O\"] #tipi objectden farkı olanları getir\n",
    "    num_cols=[col for col in num_cols if col not in num_but_cat]\n",
    "    \n",
    "    print(f\"Observations(Gözlem):{dataframe.shape[0]}\")\n",
    "    print(f\"Variables(Öznitelik): {dataframe.shape[1]}\")\n",
    "    print(f\"cat_cols:{len(cat_cols)}\")\n",
    "    print(f\"num_cols:{len(num_cols)} \")\n",
    "    print(f\"cat_but_car:{len(cat_but_car)} \")\n",
    "    print(f\"num_but_cat:{len(num_but_cat)} \")\n",
    "    \n",
    "    return cat_cols,num_cols,cat_but_car\n",
    "def outlier_thresholds(dataframe, col_name, q1=0.25, q3=0.75):\n",
    "    quartile1 = dataframe[col_name].quantile(q1)\n",
    "    quartile3 = dataframe[col_name].quantile(q3)\n",
    "    interquantile_range = quartile3 - quartile1\n",
    "    up_limit = quartile3 + 1.5 * interquantile_range\n",
    "    low_limit = quartile1 - 1.5 * interquantile_range\n",
    "    return low_limit, up_limit\n",
    "\n",
    "def chech_outlier(dataframe,col_name):\n",
    "    low_limit,up_limit=outlier_thresholds(dataframe,col_name)\n",
    "    if dataframe[(dataframe[col_name]>up_limit) | (dataframe[col_name]<low_limit)].any(axis=None):\n",
    "        return True\n",
    "    else:\n",
    "        return False\n",
    "    \n",
    "def grab_outliers(dataframe,col_name,index=False):\n",
    "    low,up=outlier_thresholds(dataframe,col_name)\n",
    "\n",
    "    if dataframe[((dataframe[col_name]<low) | (dataframe[col_name]>up))].shape[0]>10:\n",
    "        print(dataframe[((dataframe[col_name]<low)) | (dataframe[col_name]>up)].head())\n",
    "    else:\n",
    "        print(dataframe[((dataframe[col_name]<low)) | (dataframe[col_name]>up)])\n",
    "\n",
    "    if index:\n",
    "        outlier_index=dataframe[((dataframe[col_name]<low)| (dataframe[col_name]>up))].index\n",
    "        return outlier_index"
   ]
  },
  {
   "cell_type": "code",
   "execution_count": 5,
   "id": "9ac22a2e-ccb8-47ef-9cd7-48678463d4f3",
   "metadata": {
    "tags": []
   },
   "outputs": [
    {
     "data": {
      "text/plain": [
       "(891, 12)"
      ]
     },
     "execution_count": 5,
     "metadata": {},
     "output_type": "execute_result"
    }
   ],
   "source": [
    "df=load()\n",
    "df.shape"
   ]
  },
  {
   "cell_type": "code",
   "execution_count": 6,
   "id": "d34967cd-ea8a-48cc-9e0c-b59eea37618a",
   "metadata": {
    "tags": []
   },
   "outputs": [
    {
     "data": {
      "text/html": [
       "<div>\n",
       "<style scoped>\n",
       "    .dataframe tbody tr th:only-of-type {\n",
       "        vertical-align: middle;\n",
       "    }\n",
       "\n",
       "    .dataframe tbody tr th {\n",
       "        vertical-align: top;\n",
       "    }\n",
       "\n",
       "    .dataframe thead th {\n",
       "        text-align: right;\n",
       "    }\n",
       "</style>\n",
       "<table border=\"1\" class=\"dataframe\">\n",
       "  <thead>\n",
       "    <tr style=\"text-align: right;\">\n",
       "      <th></th>\n",
       "      <th>PassengerId</th>\n",
       "      <th>Survived</th>\n",
       "      <th>Pclass</th>\n",
       "      <th>Name</th>\n",
       "      <th>Sex</th>\n",
       "      <th>Age</th>\n",
       "      <th>SibSp</th>\n",
       "      <th>Parch</th>\n",
       "      <th>Ticket</th>\n",
       "      <th>Fare</th>\n",
       "      <th>Cabin</th>\n",
       "      <th>Embarked</th>\n",
       "    </tr>\n",
       "  </thead>\n",
       "  <tbody>\n",
       "    <tr>\n",
       "      <th>0</th>\n",
       "      <td>1</td>\n",
       "      <td>0</td>\n",
       "      <td>3</td>\n",
       "      <td>Braund, Mr. Owen Harris</td>\n",
       "      <td>male</td>\n",
       "      <td>22.000</td>\n",
       "      <td>1</td>\n",
       "      <td>0</td>\n",
       "      <td>A/5 21171</td>\n",
       "      <td>7.250</td>\n",
       "      <td>NaN</td>\n",
       "      <td>S</td>\n",
       "    </tr>\n",
       "    <tr>\n",
       "      <th>1</th>\n",
       "      <td>2</td>\n",
       "      <td>1</td>\n",
       "      <td>1</td>\n",
       "      <td>Cumings, Mrs. John Bradley (Florence Briggs Th...</td>\n",
       "      <td>female</td>\n",
       "      <td>38.000</td>\n",
       "      <td>1</td>\n",
       "      <td>0</td>\n",
       "      <td>PC 17599</td>\n",
       "      <td>71.283</td>\n",
       "      <td>C85</td>\n",
       "      <td>C</td>\n",
       "    </tr>\n",
       "    <tr>\n",
       "      <th>2</th>\n",
       "      <td>3</td>\n",
       "      <td>1</td>\n",
       "      <td>3</td>\n",
       "      <td>Heikkinen, Miss. Laina</td>\n",
       "      <td>female</td>\n",
       "      <td>26.000</td>\n",
       "      <td>0</td>\n",
       "      <td>0</td>\n",
       "      <td>STON/O2. 3101282</td>\n",
       "      <td>7.925</td>\n",
       "      <td>NaN</td>\n",
       "      <td>S</td>\n",
       "    </tr>\n",
       "    <tr>\n",
       "      <th>3</th>\n",
       "      <td>4</td>\n",
       "      <td>1</td>\n",
       "      <td>1</td>\n",
       "      <td>Futrelle, Mrs. Jacques Heath (Lily May Peel)</td>\n",
       "      <td>female</td>\n",
       "      <td>35.000</td>\n",
       "      <td>1</td>\n",
       "      <td>0</td>\n",
       "      <td>113803</td>\n",
       "      <td>53.100</td>\n",
       "      <td>C123</td>\n",
       "      <td>S</td>\n",
       "    </tr>\n",
       "    <tr>\n",
       "      <th>4</th>\n",
       "      <td>5</td>\n",
       "      <td>0</td>\n",
       "      <td>3</td>\n",
       "      <td>Allen, Mr. William Henry</td>\n",
       "      <td>male</td>\n",
       "      <td>35.000</td>\n",
       "      <td>0</td>\n",
       "      <td>0</td>\n",
       "      <td>373450</td>\n",
       "      <td>8.050</td>\n",
       "      <td>NaN</td>\n",
       "      <td>S</td>\n",
       "    </tr>\n",
       "  </tbody>\n",
       "</table>\n",
       "</div>"
      ],
      "text/plain": [
       "   PassengerId  Survived  Pclass                                               Name     Sex    Age  SibSp  Parch            Ticket   Fare Cabin Embarked\n",
       "0            1         0       3                            Braund, Mr. Owen Harris    male 22.000      1      0         A/5 21171  7.250   NaN        S\n",
       "1            2         1       1  Cumings, Mrs. John Bradley (Florence Briggs Th...  female 38.000      1      0          PC 17599 71.283   C85        C\n",
       "2            3         1       3                             Heikkinen, Miss. Laina  female 26.000      0      0  STON/O2. 3101282  7.925   NaN        S\n",
       "3            4         1       1       Futrelle, Mrs. Jacques Heath (Lily May Peel)  female 35.000      1      0            113803 53.100  C123        S\n",
       "4            5         0       3                           Allen, Mr. William Henry    male 35.000      0      0            373450  8.050   NaN        S"
      ]
     },
     "execution_count": 6,
     "metadata": {},
     "output_type": "execute_result"
    }
   ],
   "source": [
    "df.head()"
   ]
  },
  {
   "cell_type": "code",
   "execution_count": 7,
   "id": "09770bf1-4bdd-4753-81df-7c996cbd17c8",
   "metadata": {
    "tags": []
   },
   "outputs": [],
   "source": [
    "##DEgisken isimlerini büyültelim\n",
    "df.columns=[col.upper() for col in df.columns]"
   ]
  },
  {
   "cell_type": "markdown",
   "id": "f425c358-351a-43cf-aa90-b3e0cded52c8",
   "metadata": {
    "tags": []
   },
   "source": [
    "## 1-) Feature Engineering"
   ]
  },
  {
   "cell_type": "code",
   "execution_count": 11,
   "id": "3aa5fc8c-0c2d-47f5-8c2c-7fef28190f3d",
   "metadata": {
    "tags": []
   },
   "outputs": [],
   "source": [
    "# Cabin bool\n",
    "df[\"NEW_CABIN_BOOL\"] = df[\"CABIN\"].notnull().astype('int')\n",
    "# Name count\n",
    "df[\"NEW_NAME_COUNT\"] = df[\"NAME\"].str.len()\n",
    "# name word count\n",
    "df[\"NEW_NAME_WORD_COUNT\"] = df[\"NAME\"].apply(lambda x: len(str(x).split(\" \")))\n",
    "# name dr\n",
    "df[\"NEW_NAME_DR\"] = df[\"NAME\"].apply(lambda x: len([x for x in x.split() if x.startswith(\"Dr\")]))\n",
    "# name title\n",
    "df['NEW_TITLE'] = df.NAME.str.extract(' ([A-Za-z]+)\\.', expand=False)\n",
    "# family size\n",
    "df[\"NEW_FAMILY_SIZE\"] = df[\"SIBSP\"] + df[\"PARCH\"] + 1\n",
    "# age_pclass\n",
    "df[\"NEW_AGE_PCLASS\"] = df[\"AGE\"] * df[\"PCLASS\"]\n",
    "# is alone\n",
    "df.loc[((df['SIBSP'] + df['PARCH']) > 0), \"NEW_IS_ALONE\"] = \"NO\"\n",
    "df.loc[((df['SIBSP'] + df['PARCH']) == 0), \"NEW_IS_ALONE\"] = \"YES\"\n",
    "# age level\n",
    "df.loc[(df['AGE'] < 18), 'NEW_AGE_CAT'] = 'young'\n",
    "df.loc[(df['AGE'] >= 18) & (df['AGE'] < 56), 'NEW_AGE_CAT'] = 'mature'\n",
    "df.loc[(df['AGE'] >= 56), 'NEW_AGE_CAT'] = 'senior'\n",
    "# sex x age\n",
    "df.loc[(df['SEX'] == 'MALE') & (df['AGE'] <= 21), 'NEW_SEX_CAT'] = 'youngmale'\n",
    "df.loc[(df['SEX'] == 'MALE') & (df['AGE'] > 21) & (df['AGE'] < 50), 'NEW_SEX_CAT'] = 'maturemale'\n",
    "df.loc[(df['SEX'] == 'MALE') & (df['AGE'] >= 50), 'NEW_SEX_CAT'] = 'seniormale'\n",
    "df.loc[(df['SEX'] == 'FEMALE') & (df['AGE'] <= 21), 'NEW_SEX_CAT'] = 'youngfemale'\n",
    "df.loc[(df['SEX'] == 'FEMALE') & (df['AGE'] > 21) & (df['AGE'] < 50), 'NEW_SEX_CAT'] = 'maturefemale'\n",
    "df.loc[(df['SEX'] == 'FEMALE') & (df['AGE'] >= 50), 'NEW_SEX_CAT'] = 'seniorfemale'"
   ]
  },
  {
   "cell_type": "code",
   "execution_count": 12,
   "id": "7f024143-33ac-4df5-b22f-f44dcb986650",
   "metadata": {
    "tags": []
   },
   "outputs": [
    {
     "data": {
      "text/html": [
       "<div>\n",
       "<style scoped>\n",
       "    .dataframe tbody tr th:only-of-type {\n",
       "        vertical-align: middle;\n",
       "    }\n",
       "\n",
       "    .dataframe tbody tr th {\n",
       "        vertical-align: top;\n",
       "    }\n",
       "\n",
       "    .dataframe thead th {\n",
       "        text-align: right;\n",
       "    }\n",
       "</style>\n",
       "<table border=\"1\" class=\"dataframe\">\n",
       "  <thead>\n",
       "    <tr style=\"text-align: right;\">\n",
       "      <th></th>\n",
       "      <th>PASSENGERID</th>\n",
       "      <th>SURVIVED</th>\n",
       "      <th>PCLASS</th>\n",
       "      <th>NAME</th>\n",
       "      <th>SEX</th>\n",
       "      <th>AGE</th>\n",
       "      <th>SIBSP</th>\n",
       "      <th>PARCH</th>\n",
       "      <th>TICKET</th>\n",
       "      <th>FARE</th>\n",
       "      <th>CABIN</th>\n",
       "      <th>EMBARKED</th>\n",
       "      <th>NEW_CABIN_BOOL</th>\n",
       "      <th>NEW_NAME_COUNT</th>\n",
       "      <th>NEW_NAME_WORD_COUNT</th>\n",
       "      <th>NEW_NAME_DR</th>\n",
       "      <th>NEW_TITLE</th>\n",
       "      <th>NEW_FAMILY_SIZE</th>\n",
       "      <th>NEW_AGE_PCLASS</th>\n",
       "      <th>NEW_IS_ALONE</th>\n",
       "      <th>NEW_AGE_CAT</th>\n",
       "      <th>NEW_SEX_CAT</th>\n",
       "    </tr>\n",
       "  </thead>\n",
       "  <tbody>\n",
       "    <tr>\n",
       "      <th>0</th>\n",
       "      <td>1</td>\n",
       "      <td>0</td>\n",
       "      <td>3</td>\n",
       "      <td>Braund, Mr. Owen Harris</td>\n",
       "      <td>male</td>\n",
       "      <td>22.000</td>\n",
       "      <td>1</td>\n",
       "      <td>0</td>\n",
       "      <td>A/5 21171</td>\n",
       "      <td>7.250</td>\n",
       "      <td>NaN</td>\n",
       "      <td>S</td>\n",
       "      <td>0</td>\n",
       "      <td>23</td>\n",
       "      <td>4</td>\n",
       "      <td>0</td>\n",
       "      <td>Mr</td>\n",
       "      <td>2</td>\n",
       "      <td>66.000</td>\n",
       "      <td>NO</td>\n",
       "      <td>mature</td>\n",
       "      <td>nan</td>\n",
       "    </tr>\n",
       "    <tr>\n",
       "      <th>1</th>\n",
       "      <td>2</td>\n",
       "      <td>1</td>\n",
       "      <td>1</td>\n",
       "      <td>Cumings, Mrs. John Bradley (Florence Briggs Th...</td>\n",
       "      <td>female</td>\n",
       "      <td>38.000</td>\n",
       "      <td>1</td>\n",
       "      <td>0</td>\n",
       "      <td>PC 17599</td>\n",
       "      <td>71.283</td>\n",
       "      <td>C85</td>\n",
       "      <td>C</td>\n",
       "      <td>1</td>\n",
       "      <td>51</td>\n",
       "      <td>7</td>\n",
       "      <td>0</td>\n",
       "      <td>Mrs</td>\n",
       "      <td>2</td>\n",
       "      <td>38.000</td>\n",
       "      <td>NO</td>\n",
       "      <td>mature</td>\n",
       "      <td>nan</td>\n",
       "    </tr>\n",
       "    <tr>\n",
       "      <th>2</th>\n",
       "      <td>3</td>\n",
       "      <td>1</td>\n",
       "      <td>3</td>\n",
       "      <td>Heikkinen, Miss. Laina</td>\n",
       "      <td>female</td>\n",
       "      <td>26.000</td>\n",
       "      <td>0</td>\n",
       "      <td>0</td>\n",
       "      <td>STON/O2. 3101282</td>\n",
       "      <td>7.925</td>\n",
       "      <td>NaN</td>\n",
       "      <td>S</td>\n",
       "      <td>0</td>\n",
       "      <td>22</td>\n",
       "      <td>3</td>\n",
       "      <td>0</td>\n",
       "      <td>Miss</td>\n",
       "      <td>1</td>\n",
       "      <td>78.000</td>\n",
       "      <td>YES</td>\n",
       "      <td>mature</td>\n",
       "      <td>nan</td>\n",
       "    </tr>\n",
       "    <tr>\n",
       "      <th>3</th>\n",
       "      <td>4</td>\n",
       "      <td>1</td>\n",
       "      <td>1</td>\n",
       "      <td>Futrelle, Mrs. Jacques Heath (Lily May Peel)</td>\n",
       "      <td>female</td>\n",
       "      <td>35.000</td>\n",
       "      <td>1</td>\n",
       "      <td>0</td>\n",
       "      <td>113803</td>\n",
       "      <td>53.100</td>\n",
       "      <td>C123</td>\n",
       "      <td>S</td>\n",
       "      <td>1</td>\n",
       "      <td>44</td>\n",
       "      <td>7</td>\n",
       "      <td>0</td>\n",
       "      <td>Mrs</td>\n",
       "      <td>2</td>\n",
       "      <td>35.000</td>\n",
       "      <td>NO</td>\n",
       "      <td>mature</td>\n",
       "      <td>nan</td>\n",
       "    </tr>\n",
       "    <tr>\n",
       "      <th>4</th>\n",
       "      <td>5</td>\n",
       "      <td>0</td>\n",
       "      <td>3</td>\n",
       "      <td>Allen, Mr. William Henry</td>\n",
       "      <td>male</td>\n",
       "      <td>35.000</td>\n",
       "      <td>0</td>\n",
       "      <td>0</td>\n",
       "      <td>373450</td>\n",
       "      <td>8.050</td>\n",
       "      <td>NaN</td>\n",
       "      <td>S</td>\n",
       "      <td>0</td>\n",
       "      <td>24</td>\n",
       "      <td>4</td>\n",
       "      <td>0</td>\n",
       "      <td>Mr</td>\n",
       "      <td>1</td>\n",
       "      <td>105.000</td>\n",
       "      <td>YES</td>\n",
       "      <td>mature</td>\n",
       "      <td>nan</td>\n",
       "    </tr>\n",
       "  </tbody>\n",
       "</table>\n",
       "</div>"
      ],
      "text/plain": [
       "   PASSENGERID  SURVIVED  PCLASS                                               NAME     SEX    AGE  SIBSP  PARCH            TICKET   FARE CABIN EMBARKED  NEW_CABIN_BOOL  NEW_NAME_COUNT  NEW_NAME_WORD_COUNT  NEW_NAME_DR NEW_TITLE  NEW_FAMILY_SIZE  NEW_AGE_PCLASS NEW_IS_ALONE NEW_AGE_CAT NEW_SEX_CAT\n",
       "0            1         0       3                            Braund, Mr. Owen Harris    male 22.000      1      0         A/5 21171  7.250   NaN        S               0              23                    4            0        Mr                2          66.000           NO      mature         nan\n",
       "1            2         1       1  Cumings, Mrs. John Bradley (Florence Briggs Th...  female 38.000      1      0          PC 17599 71.283   C85        C               1              51                    7            0       Mrs                2          38.000           NO      mature         nan\n",
       "2            3         1       3                             Heikkinen, Miss. Laina  female 26.000      0      0  STON/O2. 3101282  7.925   NaN        S               0              22                    3            0      Miss                1          78.000          YES      mature         nan\n",
       "3            4         1       1       Futrelle, Mrs. Jacques Heath (Lily May Peel)  female 35.000      1      0            113803 53.100  C123        S               1              44                    7            0       Mrs                2          35.000           NO      mature         nan\n",
       "4            5         0       3                           Allen, Mr. William Henry    male 35.000      0      0            373450  8.050   NaN        S               0              24                    4            0        Mr                1         105.000          YES      mature         nan"
      ]
     },
     "execution_count": 12,
     "metadata": {},
     "output_type": "execute_result"
    }
   ],
   "source": [
    "df.head()"
   ]
  },
  {
   "cell_type": "code",
   "execution_count": 13,
   "id": "d49b6f0e-8b20-4f33-b74e-c76a206e77e3",
   "metadata": {
    "tags": []
   },
   "outputs": [
    {
     "data": {
      "text/plain": [
       "(891, 22)"
      ]
     },
     "execution_count": 13,
     "metadata": {},
     "output_type": "execute_result"
    }
   ],
   "source": [
    "df.shape"
   ]
  },
  {
   "cell_type": "code",
   "execution_count": 14,
   "id": "8a28c530-50d3-4f33-8076-5d04c0c34286",
   "metadata": {
    "tags": []
   },
   "outputs": [
    {
     "name": "stdout",
     "output_type": "stream",
     "text": [
      "Observations(Gözlem):891\n",
      "Variables(Öznitelik): 22\n",
      "cat_cols:14\n",
      "num_cols:5 \n",
      "cat_but_car:3 \n",
      "num_but_cat:8 \n"
     ]
    }
   ],
   "source": [
    "cat_cols,num_cols,cat_but_car=grab_col_names(df)"
   ]
  },
  {
   "cell_type": "code",
   "execution_count": 15,
   "id": "5bbb39b0-c798-4918-b621-8ca99a8198bb",
   "metadata": {
    "tags": []
   },
   "outputs": [
    {
     "data": {
      "text/plain": [
       "['SEX',\n",
       " 'EMBARKED',\n",
       " 'NEW_TITLE',\n",
       " 'NEW_IS_ALONE',\n",
       " 'NEW_AGE_CAT',\n",
       " 'NEW_SEX_CAT',\n",
       " 'SURVIVED',\n",
       " 'PCLASS',\n",
       " 'SIBSP',\n",
       " 'PARCH',\n",
       " 'NEW_CABIN_BOOL',\n",
       " 'NEW_NAME_WORD_COUNT',\n",
       " 'NEW_NAME_DR',\n",
       " 'NEW_FAMILY_SIZE']"
      ]
     },
     "execution_count": 15,
     "metadata": {},
     "output_type": "execute_result"
    }
   ],
   "source": [
    "cat_cols"
   ]
  },
  {
   "cell_type": "code",
   "execution_count": 16,
   "id": "9ceb60c7-c695-4bdf-bad8-3ad36bd88102",
   "metadata": {
    "tags": []
   },
   "outputs": [
    {
     "data": {
      "text/plain": [
       "['PASSENGERID', 'AGE', 'FARE', 'NEW_NAME_COUNT', 'NEW_AGE_PCLASS']"
      ]
     },
     "execution_count": 16,
     "metadata": {},
     "output_type": "execute_result"
    }
   ],
   "source": [
    "num_cols"
   ]
  },
  {
   "cell_type": "code",
   "execution_count": 17,
   "id": "c33ca277-10af-44d9-a9f7-04b95e1d3a2b",
   "metadata": {
    "tags": []
   },
   "outputs": [],
   "source": [
    "num_cols=[col for col in num_cols if \"PASSENGERID\" not in col]"
   ]
  },
  {
   "cell_type": "code",
   "execution_count": 18,
   "id": "e4b7cd33-50a7-4563-829c-64dafaed7778",
   "metadata": {
    "tags": []
   },
   "outputs": [
    {
     "data": {
      "text/plain": [
       "['AGE', 'FARE', 'NEW_NAME_COUNT', 'NEW_AGE_PCLASS']"
      ]
     },
     "execution_count": 18,
     "metadata": {},
     "output_type": "execute_result"
    }
   ],
   "source": [
    "num_cols"
   ]
  },
  {
   "cell_type": "markdown",
   "id": "0342798e-acca-45a5-843e-63d0a789de14",
   "metadata": {},
   "source": [
    "## 2. Outliers (Aykırı Değerler)\n"
   ]
  },
  {
   "cell_type": "code",
   "execution_count": 19,
   "id": "68352266-3af8-4abd-afa0-167c3d02a37f",
   "metadata": {
    "tags": []
   },
   "outputs": [
    {
     "ename": "NameError",
     "evalue": "name 'check_outlier' is not defined",
     "output_type": "error",
     "traceback": [
      "\u001b[1;31m---------------------------------------------------------------------------\u001b[0m",
      "\u001b[1;31mNameError\u001b[0m                                 Traceback (most recent call last)",
      "Cell \u001b[1;32mIn[19], line 2\u001b[0m\n\u001b[0;32m      1\u001b[0m \u001b[38;5;28;01mfor\u001b[39;00m col \u001b[38;5;129;01min\u001b[39;00m num_cols:\n\u001b[1;32m----> 2\u001b[0m     \u001b[38;5;28mprint\u001b[39m(col,check_outlier(df))\n",
      "\u001b[1;31mNameError\u001b[0m: name 'check_outlier' is not defined"
     ]
    }
   ],
   "source": [
    "for col in num_cols:\n",
    "    print(col,check_outlier(df))"
   ]
  },
  {
   "cell_type": "code",
   "execution_count": null,
   "id": "21bbbf81-95fe-4607-ae78-ab840e6c3a06",
   "metadata": {},
   "outputs": [],
   "source": []
  }
 ],
 "metadata": {
  "kernelspec": {
   "display_name": "Python 3 (ipykernel)",
   "language": "python",
   "name": "python3"
  },
  "language_info": {
   "codemirror_mode": {
    "name": "ipython",
    "version": 3
   },
   "file_extension": ".py",
   "mimetype": "text/x-python",
   "name": "python",
   "nbconvert_exporter": "python",
   "pygments_lexer": "ipython3",
   "version": "3.11.5"
  }
 },
 "nbformat": 4,
 "nbformat_minor": 5
}

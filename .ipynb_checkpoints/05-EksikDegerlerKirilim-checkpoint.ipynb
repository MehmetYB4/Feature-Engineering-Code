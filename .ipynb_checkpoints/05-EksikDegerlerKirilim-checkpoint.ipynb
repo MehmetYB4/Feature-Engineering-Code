{
 "cells": [
  {
   "cell_type": "code",
   "execution_count": 13,
   "id": "760ea09b",
   "metadata": {},
   "outputs": [],
   "source": [
    "import numpy as np\n",
    "import pandas as pd\n",
    "import matplotlib.pyplot as plt\n",
    "import seaborn as sns\n",
    "import missingno as msno\n",
    "pd.set_option(\"display.float_format\",lambda x: '%.3f' % x)\n",
    "pd.set_option(\"display.max_columns\",None)\n",
    "pd.set_option(\"display.max_rows\",None)\n",
    "pd.set_option(\"display.width\", 500)"
   ]
  },
  {
   "cell_type": "code",
   "execution_count": 14,
   "id": "9c8dce44",
   "metadata": {},
   "outputs": [],
   "source": [
    "def load():\n",
    "    data=pd.read_csv(\"titanic.csv\")\n",
    "    return data"
   ]
  },
  {
   "cell_type": "code",
   "execution_count": 15,
   "id": "93679322",
   "metadata": {},
   "outputs": [],
   "source": [
    "df=load()"
   ]
  },
  {
   "cell_type": "code",
   "execution_count": 16,
   "id": "44db3452",
   "metadata": {},
   "outputs": [
    {
     "data": {
      "text/plain": [
       "Sex\n",
       "female   27.916\n",
       "male     30.727\n",
       "Name: Age, dtype: float64"
      ]
     },
     "execution_count": 16,
     "metadata": {},
     "output_type": "execute_result"
    }
   ],
   "source": [
    "df.groupby(\"Sex\")[\"Age\"].mean()"
   ]
  },
  {
   "cell_type": "code",
   "execution_count": 17,
   "id": "d0e61f29",
   "metadata": {},
   "outputs": [
    {
     "data": {
      "text/plain": [
       "29.69911764705882"
      ]
     },
     "execution_count": 17,
     "metadata": {},
     "output_type": "execute_result"
    }
   ],
   "source": [
    "df[\"Age\"].mean()"
   ]
  },
  {
   "cell_type": "markdown",
   "id": "ed6ca365",
   "metadata": {},
   "source": [
    "Erkeklerin ve kadınların ortalaması farklı, ben hepsine toplam ortalamayı atamak yerine Erkeklere erkeklere göre kadınlara kadınlar göre degerleri doldursam daha doğru olur."
   ]
  },
  {
   "cell_type": "code",
   "execution_count": 20,
   "id": "7a55f5af",
   "metadata": {},
   "outputs": [
    {
     "data": {
      "text/plain": [
       "0"
      ]
     },
     "execution_count": 20,
     "metadata": {},
     "output_type": "execute_result"
    }
   ],
   "source": [
    "df[\"Age\"].fillna(df.groupby(\"Sex\")[\"Age\"].transform(\"mean\")).isnull().sum()\n",
    "#Kırılımlara göre atadık"
   ]
  },
  {
   "cell_type": "code",
   "execution_count": 23,
   "id": "5d8666e8",
   "metadata": {},
   "outputs": [],
   "source": [
    "#Başka bir yol\n",
    "\n",
    "df.loc[(df[\"Age\"].isnull() & (df[\"Sex\"]==\"female\")), \"Age\"] = df.groupby(\"Sex\")[\"Age\"].mean()[\"female\"]\n",
    "df.loc[(df[\"Age\"].isnull() & (df[\"Sex\"]==\"male\")), \"Age\"] = df.groupby(\"Sex\")[\"Age\"].mean()[\"male\"]"
   ]
  },
  {
   "cell_type": "code",
   "execution_count": 24,
   "id": "dd3920f5",
   "metadata": {},
   "outputs": [
    {
     "data": {
      "text/plain": [
       "PassengerId      0\n",
       "Survived         0\n",
       "Pclass           0\n",
       "Name             0\n",
       "Sex              0\n",
       "Age              0\n",
       "SibSp            0\n",
       "Parch            0\n",
       "Ticket           0\n",
       "Fare             0\n",
       "Cabin          687\n",
       "Embarked         2\n",
       "dtype: int64"
      ]
     },
     "execution_count": 24,
     "metadata": {},
     "output_type": "execute_result"
    }
   ],
   "source": [
    "df.isnull().sum()"
   ]
  },
  {
   "cell_type": "markdown",
   "id": "22326015",
   "metadata": {},
   "source": []
  },
  {
   "cell_type": "code",
   "execution_count": null,
   "id": "f40273f2",
   "metadata": {},
   "outputs": [],
   "source": []
  },
  {
   "cell_type": "code",
   "execution_count": null,
   "id": "81131617",
   "metadata": {},
   "outputs": [],
   "source": []
  }
 ],
 "metadata": {
  "kernelspec": {
   "display_name": "Python 3 (ipykernel)",
   "language": "python",
   "name": "python3"
  },
  "language_info": {
   "codemirror_mode": {
    "name": "ipython",
    "version": 3
   },
   "file_extension": ".py",
   "mimetype": "text/x-python",
   "name": "python",
   "nbconvert_exporter": "python",
   "pygments_lexer": "ipython3",
   "version": "3.11.5"
  }
 },
 "nbformat": 4,
 "nbformat_minor": 5
}

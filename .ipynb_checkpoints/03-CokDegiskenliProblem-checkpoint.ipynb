{
 "cells": [
  {
   "cell_type": "code",
   "execution_count": 1,
   "id": "d8fc997a",
   "metadata": {},
   "outputs": [],
   "source": [
    "import numpy as np\n",
    "import pandas as pd\n",
    "import matplotlib.pyplot as plt\n",
    "import seaborn as sns\n",
    "import missingno as msno\n",
    "from datetime import date\n",
    "from sklearn.metrics import accuracy_score\n",
    "from sklearn.model_selection import train_test_split\n",
    "from sklearn.neighbors import LocalOutlierFactor\n",
    "from sklearn.preprocessing import MinMaxScaler,LabelEncoder,StandardScaler,RobustScaler"
   ]
  },
  {
   "cell_type": "code",
   "execution_count": 8,
   "id": "59d2dc3f",
   "metadata": {},
   "outputs": [],
   "source": [
    "def outlier_thresholds(dataframe, col_name, q1=0.25, q3=0.75):\n",
    "    quartile1 = dataframe[col_name].quantile(q1)\n",
    "    quartile3 = dataframe[col_name].quantile(q3)\n",
    "    interquantile_range = quartile3 - quartile1\n",
    "    up_limit = quartile3 + 1.5 * interquantile_range\n",
    "    low_limit = quartile1 - 1.5 * interquantile_range\n",
    "    return low_limit, up_limit\n",
    "\n",
    "def chech_outlier(dataframe,col_name):\n",
    "    low_limit,up_limit=outlier_thresholds(dataframe,col_name)\n",
    "    if dataframe[(dataframe[col_name]>up_limit) | (dataframe[col_name]<low_limit)].any(axis=None):\n",
    "        return True\n",
    "    else:\n",
    "        return False\n",
    "\n",
    "def grab_col_names(dataframe,cat_th=10,car_th=20):\n",
    "    cat_cols=[col for col in dataframe.columns if dataframe[col].dtypes==\"O\"] #tipi obcejt olanları al\n",
    "    num_but_cat=[col for col in dataframe.columns if dataframe[col].nunique()<cat_th and\n",
    "             dataframe[col].dtypes!=\"O\"] #numerik görünen kategörikleri aldık\n",
    "    cat_but_car=[col for col in dataframe.columns if dataframe[col].nunique()>car_th and\n",
    "                dataframe[col].dtypes==\"O\"] #kategorik görünen kardinalleri aldık.\n",
    "    \n",
    "    cat_cols=cat_cols+num_but_cat #kategörikler güncellendi\n",
    "    cat_cols=[col for col in cat_cols if col not in cat_but_car] #cat_cols içinde kardinalleri ayırdık\n",
    "    \n",
    "    num_cols=[col for col in dataframe.columns if dataframe[col].dtypes!=\"O\"] #tipi objectden farkı olanları getir\n",
    "    num_cols=[col for col in num_cols if col not in num_but_cat]\n",
    "    \n",
    "    print(f\"Observations(Gözlem):{dataframe.shape[0]}\")\n",
    "    print(f\"Variables(Öznitelik): {dataframe.shape[1]}\")\n",
    "    print(f\"cat_cols:{len(cat_cols)}\")\n",
    "    print(f\"num_cols:{len(num_cols)} \")\n",
    "    print(f\"cat_but_car:{len(cat_but_car)} \")\n",
    "    print(f\"num_but_cat:{len(num_but_cat)} \")\n",
    "    \n",
    "    return cat_cols,num_cols,cat_but_car\n",
    "\n",
    "def grab_outliers(dataframe,col_name,index=False):\n",
    "    low,up=outlier_thresholds(dataframe,col_name)\n",
    "    \n",
    "    if dataframe[((dataframe[col_name]<low) | (dataframe[col_name]>up))].shape[0]>10:\n",
    "        print(dataframe[((dataframe[col_name]<low)) | (dataframe[col_name]>up)].head())\n",
    "    else:\n",
    "        print(dataframe[((dataframe[col_name]<low)) | (dataframe[col_name]>up)])\n",
    "        \n",
    "    if index:\n",
    "        outlier_index=dataframe[((dataframe[col_name]<low)| (dataframe[col_name]>up))].index\n",
    "        return outlier_index"
   ]
  },
  {
   "cell_type": "code",
   "execution_count": 9,
   "id": "004d3f94",
   "metadata": {},
   "outputs": [],
   "source": [
    "def load_application_train():\n",
    "    data=pd.read_csv(\"application_train.csv\")\n",
    "    return data"
   ]
  },
  {
   "cell_type": "code",
   "execution_count": 10,
   "id": "4d01fd03",
   "metadata": {},
   "outputs": [],
   "source": [
    "def load():\n",
    "    data=pd.read_csv(\"titanic.csv\")\n",
    "    return data"
   ]
  },
  {
   "cell_type": "code",
   "execution_count": 11,
   "id": "73143c86",
   "metadata": {},
   "outputs": [
    {
     "data": {
      "text/html": [
       "<div>\n",
       "<style scoped>\n",
       "    .dataframe tbody tr th:only-of-type {\n",
       "        vertical-align: middle;\n",
       "    }\n",
       "\n",
       "    .dataframe tbody tr th {\n",
       "        vertical-align: top;\n",
       "    }\n",
       "\n",
       "    .dataframe thead th {\n",
       "        text-align: right;\n",
       "    }\n",
       "</style>\n",
       "<table border=\"1\" class=\"dataframe\">\n",
       "  <thead>\n",
       "    <tr style=\"text-align: right;\">\n",
       "      <th></th>\n",
       "      <th>carat</th>\n",
       "      <th>depth</th>\n",
       "      <th>table</th>\n",
       "      <th>price</th>\n",
       "      <th>x</th>\n",
       "      <th>y</th>\n",
       "      <th>z</th>\n",
       "    </tr>\n",
       "  </thead>\n",
       "  <tbody>\n",
       "    <tr>\n",
       "      <th>0</th>\n",
       "      <td>0.23</td>\n",
       "      <td>61.5</td>\n",
       "      <td>55.0</td>\n",
       "      <td>326</td>\n",
       "      <td>3.95</td>\n",
       "      <td>3.98</td>\n",
       "      <td>2.43</td>\n",
       "    </tr>\n",
       "    <tr>\n",
       "      <th>1</th>\n",
       "      <td>0.21</td>\n",
       "      <td>59.8</td>\n",
       "      <td>61.0</td>\n",
       "      <td>326</td>\n",
       "      <td>3.89</td>\n",
       "      <td>3.84</td>\n",
       "      <td>2.31</td>\n",
       "    </tr>\n",
       "    <tr>\n",
       "      <th>2</th>\n",
       "      <td>0.23</td>\n",
       "      <td>56.9</td>\n",
       "      <td>65.0</td>\n",
       "      <td>327</td>\n",
       "      <td>4.05</td>\n",
       "      <td>4.07</td>\n",
       "      <td>2.31</td>\n",
       "    </tr>\n",
       "    <tr>\n",
       "      <th>3</th>\n",
       "      <td>0.29</td>\n",
       "      <td>62.4</td>\n",
       "      <td>58.0</td>\n",
       "      <td>334</td>\n",
       "      <td>4.20</td>\n",
       "      <td>4.23</td>\n",
       "      <td>2.63</td>\n",
       "    </tr>\n",
       "    <tr>\n",
       "      <th>4</th>\n",
       "      <td>0.31</td>\n",
       "      <td>63.3</td>\n",
       "      <td>58.0</td>\n",
       "      <td>335</td>\n",
       "      <td>4.34</td>\n",
       "      <td>4.35</td>\n",
       "      <td>2.75</td>\n",
       "    </tr>\n",
       "  </tbody>\n",
       "</table>\n",
       "</div>"
      ],
      "text/plain": [
       "   carat  depth  table  price     x     y     z\n",
       "0   0.23   61.5   55.0    326  3.95  3.98  2.43\n",
       "1   0.21   59.8   61.0    326  3.89  3.84  2.31\n",
       "2   0.23   56.9   65.0    327  4.05  4.07  2.31\n",
       "3   0.29   62.4   58.0    334  4.20  4.23  2.63\n",
       "4   0.31   63.3   58.0    335  4.34  4.35  2.75"
      ]
     },
     "execution_count": 11,
     "metadata": {},
     "output_type": "execute_result"
    }
   ],
   "source": [
    "df = sns.load_dataset(\"diamonds\")\n",
    "df=df.select_dtypes(include=[\"float64\",\"int64\"])\n",
    "df=df.dropna()\n",
    "df.head()"
   ]
  },
  {
   "cell_type": "code",
   "execution_count": 13,
   "id": "432e9bfc",
   "metadata": {},
   "outputs": [
    {
     "name": "stdout",
     "output_type": "stream",
     "text": [
      "carat True\n",
      "depth True\n",
      "table True\n",
      "price True\n",
      "x True\n",
      "y True\n",
      "z True\n"
     ]
    }
   ],
   "source": [
    "for col in df:\n",
    "    print(col,chech_outlier(df,col))"
   ]
  },
  {
   "cell_type": "code",
   "execution_count": 15,
   "id": "ab896ef1",
   "metadata": {},
   "outputs": [
    {
     "data": {
      "text/plain": [
       "(1889, 7)"
      ]
     },
     "execution_count": 15,
     "metadata": {},
     "output_type": "execute_result"
    }
   ],
   "source": [
    "low,up=outlier_thresholds(df,\"carat\")\n",
    "df[((df[\"carat\"]>up)| (df[\"carat\"]<low))].shape"
   ]
  },
  {
   "cell_type": "code",
   "execution_count": 16,
   "id": "2125907d",
   "metadata": {},
   "outputs": [
    {
     "data": {
      "text/plain": [
       "(2545, 7)"
      ]
     },
     "execution_count": 16,
     "metadata": {},
     "output_type": "execute_result"
    }
   ],
   "source": [
    "low,up=outlier_thresholds(df,\"depth\")\n",
    "df[((df[\"depth\"]>up)| (df[\"depth\"]<low))].shape"
   ]
  },
  {
   "cell_type": "markdown",
   "id": "22f1bd94",
   "metadata": {},
   "source": [
    "ÇoK FAZLA AYKIRI DEGER VAR\n",
    "BU AYKIRI DEGERLERİ SİLESEK VERİ KAYBI YAPARIZ\n",
    "BU AYKIRI DEGERLERİ BASKILARSAK GÜRÜLTÜ YAPARIZ\n",
    "BU YÜZDEN ESKTRA EKSTRA AYKIRI DEGER ANALİZİ YAPACAĞIZ(eşik degeri biz belirliyeceğiz)"
   ]
  },
  {
   "cell_type": "code",
   "execution_count": 22,
   "id": "efd8f418",
   "metadata": {},
   "outputs": [
    {
     "data": {
      "text/plain": [
       "array([-1.58352526, -1.59732899, -1.62278873, -1.33002541, -1.30712521])"
      ]
     },
     "execution_count": 22,
     "metadata": {},
     "output_type": "execute_result"
    }
   ],
   "source": [
    "clf=LocalOutlierFactor(n_neighbors=20)\n",
    "\n",
    "clf.fit_predict(df)\n",
    "df_scores=clf.negative_outlier_factor_\n",
    "#df_scores=-df_scores\n",
    "df_scores[0:5]"
   ]
  },
  {
   "cell_type": "code",
   "execution_count": 23,
   "id": "bcce7778",
   "metadata": {},
   "outputs": [
    {
     "data": {
      "text/plain": [
       "array([-8.60430658, -8.20889984, -5.86084355, -4.98415175, -4.81502092])"
      ]
     },
     "execution_count": 23,
     "metadata": {},
     "output_type": "execute_result"
    }
   ],
   "source": [
    "np.sort(df_scores)[0:5]  #en kötü 5 gözlem"
   ]
  },
  {
   "cell_type": "code",
   "execution_count": 24,
   "id": "9dadc978",
   "metadata": {},
   "outputs": [
    {
     "data": {
      "text/plain": [
       "<Axes: >"
      ]
     },
     "execution_count": 24,
     "metadata": {},
     "output_type": "execute_result"
    },
    {
     "data": {
      "image/png": "[encoded data removed]",
      "text/plain": [
       "<Figure size 640x480 with 1 Axes>"
      ]
     },
     "metadata": {},
     "output_type": "display_data"
    }
   ],
   "source": [
    "scores=pd.DataFrame(np.sort(df_scores))\n",
    "scores.plot(stacked=True,xlim=[0,50],style=\".-\")"
   ]
  },
  {
   "cell_type": "markdown",
   "id": "ec223aae",
   "metadata": {},
   "source": [
    "Grafiğe bakarsak sondan 3. indexi eşik değer olarak kabul edebililirz"
   ]
  },
  {
   "cell_type": "code",
   "execution_count": 26,
   "id": "68a7bbac",
   "metadata": {},
   "outputs": [
    {
     "name": "stdout",
     "output_type": "stream",
     "text": [
      "-4.984151747711709\n"
     ]
    }
   ],
   "source": [
    "th=np.sort(df_scores)[3]\n",
    "print(th)"
   ]
  },
  {
   "cell_type": "code",
   "execution_count": 30,
   "id": "b304cc7f",
   "metadata": {},
   "outputs": [
    {
     "name": "stdout",
     "output_type": "stream",
     "text": [
      "(3, 7)\n"
     ]
    },
    {
     "data": {
      "text/html": [
       "<div>\n",
       "<style scoped>\n",
       "    .dataframe tbody tr th:only-of-type {\n",
       "        vertical-align: middle;\n",
       "    }\n",
       "\n",
       "    .dataframe tbody tr th {\n",
       "        vertical-align: top;\n",
       "    }\n",
       "\n",
       "    .dataframe thead th {\n",
       "        text-align: right;\n",
       "    }\n",
       "</style>\n",
       "<table border=\"1\" class=\"dataframe\">\n",
       "  <thead>\n",
       "    <tr style=\"text-align: right;\">\n",
       "      <th></th>\n",
       "      <th>carat</th>\n",
       "      <th>depth</th>\n",
       "      <th>table</th>\n",
       "      <th>price</th>\n",
       "      <th>x</th>\n",
       "      <th>y</th>\n",
       "      <th>z</th>\n",
       "    </tr>\n",
       "  </thead>\n",
       "  <tbody>\n",
       "    <tr>\n",
       "      <th>41918</th>\n",
       "      <td>1.03</td>\n",
       "      <td>78.2</td>\n",
       "      <td>54.0</td>\n",
       "      <td>1262</td>\n",
       "      <td>5.72</td>\n",
       "      <td>5.59</td>\n",
       "      <td>4.42</td>\n",
       "    </tr>\n",
       "    <tr>\n",
       "      <th>48410</th>\n",
       "      <td>0.51</td>\n",
       "      <td>61.8</td>\n",
       "      <td>54.7</td>\n",
       "      <td>1970</td>\n",
       "      <td>5.12</td>\n",
       "      <td>5.15</td>\n",
       "      <td>31.80</td>\n",
       "    </tr>\n",
       "    <tr>\n",
       "      <th>49189</th>\n",
       "      <td>0.51</td>\n",
       "      <td>61.8</td>\n",
       "      <td>55.0</td>\n",
       "      <td>2075</td>\n",
       "      <td>5.15</td>\n",
       "      <td>31.80</td>\n",
       "      <td>5.12</td>\n",
       "    </tr>\n",
       "  </tbody>\n",
       "</table>\n",
       "</div>"
      ],
      "text/plain": [
       "       carat  depth  table  price     x      y      z\n",
       "41918   1.03   78.2   54.0   1262  5.72   5.59   4.42\n",
       "48410   0.51   61.8   54.7   1970  5.12   5.15  31.80\n",
       "49189   0.51   61.8   55.0   2075  5.15  31.80   5.12"
      ]
     },
     "execution_count": 30,
     "metadata": {},
     "output_type": "execute_result"
    }
   ],
   "source": [
    "print(df[df_scores<th].shape)\n",
    "df[df_scores<th]"
   ]
  },
  {
   "cell_type": "markdown",
   "id": "89f2a40e",
   "metadata": {},
   "source": [
    "Görüldüğü binlerce aykırı deger var denilen değişkenlerde 3 tane aykırı deger bulduk"
   ]
  },
  {
   "cell_type": "code",
   "execution_count": 33,
   "id": "517acabd",
   "metadata": {},
   "outputs": [
    {
     "data": {
      "text/html": [
       "<div>\n",
       "<style scoped>\n",
       "    .dataframe tbody tr th:only-of-type {\n",
       "        vertical-align: middle;\n",
       "    }\n",
       "\n",
       "    .dataframe tbody tr th {\n",
       "        vertical-align: top;\n",
       "    }\n",
       "\n",
       "    .dataframe thead th {\n",
       "        text-align: right;\n",
       "    }\n",
       "</style>\n",
       "<table border=\"1\" class=\"dataframe\">\n",
       "  <thead>\n",
       "    <tr style=\"text-align: right;\">\n",
       "      <th></th>\n",
       "      <th>count</th>\n",
       "      <th>mean</th>\n",
       "      <th>std</th>\n",
       "      <th>min</th>\n",
       "      <th>1%</th>\n",
       "      <th>5%</th>\n",
       "      <th>50%</th>\n",
       "      <th>75%</th>\n",
       "      <th>90%</th>\n",
       "      <th>99%</th>\n",
       "      <th>max</th>\n",
       "    </tr>\n",
       "  </thead>\n",
       "  <tbody>\n",
       "    <tr>\n",
       "      <th>carat</th>\n",
       "      <td>53940.0</td>\n",
       "      <td>0.797940</td>\n",
       "      <td>0.474011</td>\n",
       "      <td>0.2</td>\n",
       "      <td>0.24</td>\n",
       "      <td>0.30</td>\n",
       "      <td>0.70</td>\n",
       "      <td>1.04</td>\n",
       "      <td>1.51</td>\n",
       "      <td>2.18</td>\n",
       "      <td>5.01</td>\n",
       "    </tr>\n",
       "    <tr>\n",
       "      <th>depth</th>\n",
       "      <td>53940.0</td>\n",
       "      <td>61.749405</td>\n",
       "      <td>1.432621</td>\n",
       "      <td>43.0</td>\n",
       "      <td>57.90</td>\n",
       "      <td>59.30</td>\n",
       "      <td>61.80</td>\n",
       "      <td>62.50</td>\n",
       "      <td>63.30</td>\n",
       "      <td>65.60</td>\n",
       "      <td>79.00</td>\n",
       "    </tr>\n",
       "    <tr>\n",
       "      <th>table</th>\n",
       "      <td>53940.0</td>\n",
       "      <td>57.457184</td>\n",
       "      <td>2.234491</td>\n",
       "      <td>43.0</td>\n",
       "      <td>53.00</td>\n",
       "      <td>54.00</td>\n",
       "      <td>57.00</td>\n",
       "      <td>59.00</td>\n",
       "      <td>60.00</td>\n",
       "      <td>64.00</td>\n",
       "      <td>95.00</td>\n",
       "    </tr>\n",
       "    <tr>\n",
       "      <th>price</th>\n",
       "      <td>53940.0</td>\n",
       "      <td>3932.799722</td>\n",
       "      <td>3989.439738</td>\n",
       "      <td>326.0</td>\n",
       "      <td>429.00</td>\n",
       "      <td>544.00</td>\n",
       "      <td>2401.00</td>\n",
       "      <td>5324.25</td>\n",
       "      <td>9821.00</td>\n",
       "      <td>17378.22</td>\n",
       "      <td>18823.00</td>\n",
       "    </tr>\n",
       "    <tr>\n",
       "      <th>x</th>\n",
       "      <td>53940.0</td>\n",
       "      <td>5.731157</td>\n",
       "      <td>1.121761</td>\n",
       "      <td>0.0</td>\n",
       "      <td>4.02</td>\n",
       "      <td>4.29</td>\n",
       "      <td>5.70</td>\n",
       "      <td>6.54</td>\n",
       "      <td>7.31</td>\n",
       "      <td>8.36</td>\n",
       "      <td>10.74</td>\n",
       "    </tr>\n",
       "    <tr>\n",
       "      <th>y</th>\n",
       "      <td>53940.0</td>\n",
       "      <td>5.734526</td>\n",
       "      <td>1.142135</td>\n",
       "      <td>0.0</td>\n",
       "      <td>4.04</td>\n",
       "      <td>4.30</td>\n",
       "      <td>5.71</td>\n",
       "      <td>6.54</td>\n",
       "      <td>7.30</td>\n",
       "      <td>8.34</td>\n",
       "      <td>58.90</td>\n",
       "    </tr>\n",
       "    <tr>\n",
       "      <th>z</th>\n",
       "      <td>53940.0</td>\n",
       "      <td>3.538734</td>\n",
       "      <td>0.705699</td>\n",
       "      <td>0.0</td>\n",
       "      <td>2.48</td>\n",
       "      <td>2.65</td>\n",
       "      <td>3.53</td>\n",
       "      <td>4.04</td>\n",
       "      <td>4.52</td>\n",
       "      <td>5.15</td>\n",
       "      <td>31.80</td>\n",
       "    </tr>\n",
       "  </tbody>\n",
       "</table>\n",
       "</div>"
      ],
      "text/plain": [
       "         count         mean          std    min      1%      5%      50%  \\\n",
       "carat  53940.0     0.797940     0.474011    0.2    0.24    0.30     0.70   \n",
       "depth  53940.0    61.749405     1.432621   43.0   57.90   59.30    61.80   \n",
       "table  53940.0    57.457184     2.234491   43.0   53.00   54.00    57.00   \n",
       "price  53940.0  3932.799722  3989.439738  326.0  429.00  544.00  2401.00   \n",
       "x      53940.0     5.731157     1.121761    0.0    4.02    4.29     5.70   \n",
       "y      53940.0     5.734526     1.142135    0.0    4.04    4.30     5.71   \n",
       "z      53940.0     3.538734     0.705699    0.0    2.48    2.65     3.53   \n",
       "\n",
       "           75%      90%       99%       max  \n",
       "carat     1.04     1.51      2.18      5.01  \n",
       "depth    62.50    63.30     65.60     79.00  \n",
       "table    59.00    60.00     64.00     95.00  \n",
       "price  5324.25  9821.00  17378.22  18823.00  \n",
       "x         6.54     7.31      8.36     10.74  \n",
       "y         6.54     7.30      8.34     58.90  \n",
       "z         4.04     4.52      5.15     31.80  "
      ]
     },
     "execution_count": 33,
     "metadata": {},
     "output_type": "execute_result"
    }
   ],
   "source": [
    "df.describe([0.01,0.05,0.75,0.90,0.99]).T"
   ]
  },
  {
   "cell_type": "markdown",
   "id": "bf81f25a",
   "metadata": {},
   "source": [
    "depth in max degeri aykırı degil ama 78.2 degeri aykırı. Bu da çok degişkenlş aykırı deger analizidir"
   ]
  },
  {
   "cell_type": "code",
   "execution_count": 34,
   "id": "4e281bde",
   "metadata": {},
   "outputs": [
    {
     "data": {
      "text/plain": [
       "Index([41918, 48410, 49189], dtype='int64')"
      ]
     },
     "execution_count": 34,
     "metadata": {},
     "output_type": "execute_result"
    }
   ],
   "source": [
    "df[df_scores<th].index"
   ]
  },
  {
   "cell_type": "code",
   "execution_count": 37,
   "id": "254653fe",
   "metadata": {},
   "outputs": [
    {
     "data": {
      "text/plain": [
       "(53940, 7)"
      ]
     },
     "execution_count": 37,
     "metadata": {},
     "output_type": "execute_result"
    }
   ],
   "source": [
    "df.shape"
   ]
  },
  {
   "cell_type": "code",
   "execution_count": 36,
   "id": "43256ac0",
   "metadata": {},
   "outputs": [
    {
     "data": {
      "text/html": [
       "<div>\n",
       "<style scoped>\n",
       "    .dataframe tbody tr th:only-of-type {\n",
       "        vertical-align: middle;\n",
       "    }\n",
       "\n",
       "    .dataframe tbody tr th {\n",
       "        vertical-align: top;\n",
       "    }\n",
       "\n",
       "    .dataframe thead th {\n",
       "        text-align: right;\n",
       "    }\n",
       "</style>\n",
       "<table border=\"1\" class=\"dataframe\">\n",
       "  <thead>\n",
       "    <tr style=\"text-align: right;\">\n",
       "      <th></th>\n",
       "      <th>carat</th>\n",
       "      <th>depth</th>\n",
       "      <th>table</th>\n",
       "      <th>price</th>\n",
       "      <th>x</th>\n",
       "      <th>y</th>\n",
       "      <th>z</th>\n",
       "    </tr>\n",
       "  </thead>\n",
       "  <tbody>\n",
       "    <tr>\n",
       "      <th>0</th>\n",
       "      <td>0.23</td>\n",
       "      <td>61.5</td>\n",
       "      <td>55.0</td>\n",
       "      <td>326</td>\n",
       "      <td>3.95</td>\n",
       "      <td>3.98</td>\n",
       "      <td>2.43</td>\n",
       "    </tr>\n",
       "    <tr>\n",
       "      <th>1</th>\n",
       "      <td>0.21</td>\n",
       "      <td>59.8</td>\n",
       "      <td>61.0</td>\n",
       "      <td>326</td>\n",
       "      <td>3.89</td>\n",
       "      <td>3.84</td>\n",
       "      <td>2.31</td>\n",
       "    </tr>\n",
       "    <tr>\n",
       "      <th>2</th>\n",
       "      <td>0.23</td>\n",
       "      <td>56.9</td>\n",
       "      <td>65.0</td>\n",
       "      <td>327</td>\n",
       "      <td>4.05</td>\n",
       "      <td>4.07</td>\n",
       "      <td>2.31</td>\n",
       "    </tr>\n",
       "    <tr>\n",
       "      <th>3</th>\n",
       "      <td>0.29</td>\n",
       "      <td>62.4</td>\n",
       "      <td>58.0</td>\n",
       "      <td>334</td>\n",
       "      <td>4.20</td>\n",
       "      <td>4.23</td>\n",
       "      <td>2.63</td>\n",
       "    </tr>\n",
       "    <tr>\n",
       "      <th>4</th>\n",
       "      <td>0.31</td>\n",
       "      <td>63.3</td>\n",
       "      <td>58.0</td>\n",
       "      <td>335</td>\n",
       "      <td>4.34</td>\n",
       "      <td>4.35</td>\n",
       "      <td>2.75</td>\n",
       "    </tr>\n",
       "    <tr>\n",
       "      <th>...</th>\n",
       "      <td>...</td>\n",
       "      <td>...</td>\n",
       "      <td>...</td>\n",
       "      <td>...</td>\n",
       "      <td>...</td>\n",
       "      <td>...</td>\n",
       "      <td>...</td>\n",
       "    </tr>\n",
       "    <tr>\n",
       "      <th>53935</th>\n",
       "      <td>0.72</td>\n",
       "      <td>60.8</td>\n",
       "      <td>57.0</td>\n",
       "      <td>2757</td>\n",
       "      <td>5.75</td>\n",
       "      <td>5.76</td>\n",
       "      <td>3.50</td>\n",
       "    </tr>\n",
       "    <tr>\n",
       "      <th>53936</th>\n",
       "      <td>0.72</td>\n",
       "      <td>63.1</td>\n",
       "      <td>55.0</td>\n",
       "      <td>2757</td>\n",
       "      <td>5.69</td>\n",
       "      <td>5.75</td>\n",
       "      <td>3.61</td>\n",
       "    </tr>\n",
       "    <tr>\n",
       "      <th>53937</th>\n",
       "      <td>0.70</td>\n",
       "      <td>62.8</td>\n",
       "      <td>60.0</td>\n",
       "      <td>2757</td>\n",
       "      <td>5.66</td>\n",
       "      <td>5.68</td>\n",
       "      <td>3.56</td>\n",
       "    </tr>\n",
       "    <tr>\n",
       "      <th>53938</th>\n",
       "      <td>0.86</td>\n",
       "      <td>61.0</td>\n",
       "      <td>58.0</td>\n",
       "      <td>2757</td>\n",
       "      <td>6.15</td>\n",
       "      <td>6.12</td>\n",
       "      <td>3.74</td>\n",
       "    </tr>\n",
       "    <tr>\n",
       "      <th>53939</th>\n",
       "      <td>0.75</td>\n",
       "      <td>62.2</td>\n",
       "      <td>55.0</td>\n",
       "      <td>2757</td>\n",
       "      <td>5.83</td>\n",
       "      <td>5.87</td>\n",
       "      <td>3.64</td>\n",
       "    </tr>\n",
       "  </tbody>\n",
       "</table>\n",
       "<p>53937 rows × 7 columns</p>\n",
       "</div>"
      ],
      "text/plain": [
       "       carat  depth  table  price     x     y     z\n",
       "0       0.23   61.5   55.0    326  3.95  3.98  2.43\n",
       "1       0.21   59.8   61.0    326  3.89  3.84  2.31\n",
       "2       0.23   56.9   65.0    327  4.05  4.07  2.31\n",
       "3       0.29   62.4   58.0    334  4.20  4.23  2.63\n",
       "4       0.31   63.3   58.0    335  4.34  4.35  2.75\n",
       "...      ...    ...    ...    ...   ...   ...   ...\n",
       "53935   0.72   60.8   57.0   2757  5.75  5.76  3.50\n",
       "53936   0.72   63.1   55.0   2757  5.69  5.75  3.61\n",
       "53937   0.70   62.8   60.0   2757  5.66  5.68  3.56\n",
       "53938   0.86   61.0   58.0   2757  6.15  6.12  3.74\n",
       "53939   0.75   62.2   55.0   2757  5.83  5.87  3.64\n",
       "\n",
       "[53937 rows x 7 columns]"
      ]
     },
     "execution_count": 36,
     "metadata": {},
     "output_type": "execute_result"
    }
   ],
   "source": [
    "df.drop(axis=0,labels=df[df_scores<th].index)"
   ]
  },
  {
   "cell_type": "markdown",
   "id": "8f30c1d1",
   "metadata": {},
   "source": [
    "çok değişkenli analizde gözlem sayısı çoksa değişkeni baskılamak tortuya sebep olur. Bu pek kullanılmaz\n",
    "Eğer ağaç ile çalışıyorsak ucundan traşlıyacağız(ilk yöntem) ya da hiç dokunma.\n",
    "Doğrusal ise silmek daha doğrudur."
   ]
  },
  {
   "cell_type": "code",
   "execution_count": null,
   "id": "7e6d943b",
   "metadata": {},
   "outputs": [],
   "source": [
    "df[df_scores<th].drop(axis=0,labels=df[df_scores<th].index)"
   ]
  }
 ],
 "metadata": {
  "kernelspec": {
   "display_name": "Python 3 (ipykernel)",
   "language": "python",
   "name": "python3"
  },
  "language_info": {
   "codemirror_mode": {
    "name": "ipython",
    "version": 3
   },
   "file_extension": ".py",
   "mimetype": "text/x-python",
   "name": "python",
   "nbconvert_exporter": "python",
   "pygments_lexer": "ipython3",
   "version": "3.11.5"
  }
 },
 "nbformat": 4,
 "nbformat_minor": 5
}

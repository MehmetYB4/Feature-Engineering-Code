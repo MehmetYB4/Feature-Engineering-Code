{
 "cells": [
  {
   "cell_type": "code",
   "execution_count": 1,
   "id": "4872ce2d",
   "metadata": {},
   "outputs": [],
   "source": [
    "import numpy as np\n",
    "import pandas as pd\n",
    "import matplotlib.pyplot as plt\n",
    "import seaborn as sns\n",
    "import missingno as msno"
   ]
  },
  {
   "cell_type": "code",
   "execution_count": 2,
   "id": "3113b458",
   "metadata": {},
   "outputs": [],
   "source": [
    "def load():\n",
    "    data=pd.read_csv(\"titanic.csv\")\n",
    "    return data"
   ]
  },
  {
   "cell_type": "code",
   "execution_count": 3,
   "id": "7fad23cf",
   "metadata": {},
   "outputs": [],
   "source": [
    "df=load()"
   ]
  },
  {
   "cell_type": "code",
   "execution_count": 4,
   "id": "4f9072ec",
   "metadata": {},
   "outputs": [
    {
     "data": {
      "text/html": [
       "<div>\n",
       "<style scoped>\n",
       "    .dataframe tbody tr th:only-of-type {\n",
       "        vertical-align: middle;\n",
       "    }\n",
       "\n",
       "    .dataframe tbody tr th {\n",
       "        vertical-align: top;\n",
       "    }\n",
       "\n",
       "    .dataframe thead th {\n",
       "        text-align: right;\n",
       "    }\n",
       "</style>\n",
       "<table border=\"1\" class=\"dataframe\">\n",
       "  <thead>\n",
       "    <tr style=\"text-align: right;\">\n",
       "      <th></th>\n",
       "      <th>PassengerId</th>\n",
       "      <th>Survived</th>\n",
       "      <th>Pclass</th>\n",
       "      <th>Name</th>\n",
       "      <th>Sex</th>\n",
       "      <th>Age</th>\n",
       "      <th>SibSp</th>\n",
       "      <th>Parch</th>\n",
       "      <th>Ticket</th>\n",
       "      <th>Fare</th>\n",
       "      <th>Cabin</th>\n",
       "      <th>Embarked</th>\n",
       "    </tr>\n",
       "  </thead>\n",
       "  <tbody>\n",
       "    <tr>\n",
       "      <th>0</th>\n",
       "      <td>1</td>\n",
       "      <td>0</td>\n",
       "      <td>3</td>\n",
       "      <td>Braund, Mr. Owen Harris</td>\n",
       "      <td>male</td>\n",
       "      <td>22.0</td>\n",
       "      <td>1</td>\n",
       "      <td>0</td>\n",
       "      <td>A/5 21171</td>\n",
       "      <td>7.2500</td>\n",
       "      <td>NaN</td>\n",
       "      <td>S</td>\n",
       "    </tr>\n",
       "    <tr>\n",
       "      <th>1</th>\n",
       "      <td>2</td>\n",
       "      <td>1</td>\n",
       "      <td>1</td>\n",
       "      <td>Cumings, Mrs. John Bradley (Florence Briggs Th...</td>\n",
       "      <td>female</td>\n",
       "      <td>38.0</td>\n",
       "      <td>1</td>\n",
       "      <td>0</td>\n",
       "      <td>PC 17599</td>\n",
       "      <td>71.2833</td>\n",
       "      <td>C85</td>\n",
       "      <td>C</td>\n",
       "    </tr>\n",
       "    <tr>\n",
       "      <th>2</th>\n",
       "      <td>3</td>\n",
       "      <td>1</td>\n",
       "      <td>3</td>\n",
       "      <td>Heikkinen, Miss. Laina</td>\n",
       "      <td>female</td>\n",
       "      <td>26.0</td>\n",
       "      <td>0</td>\n",
       "      <td>0</td>\n",
       "      <td>STON/O2. 3101282</td>\n",
       "      <td>7.9250</td>\n",
       "      <td>NaN</td>\n",
       "      <td>S</td>\n",
       "    </tr>\n",
       "    <tr>\n",
       "      <th>3</th>\n",
       "      <td>4</td>\n",
       "      <td>1</td>\n",
       "      <td>1</td>\n",
       "      <td>Futrelle, Mrs. Jacques Heath (Lily May Peel)</td>\n",
       "      <td>female</td>\n",
       "      <td>35.0</td>\n",
       "      <td>1</td>\n",
       "      <td>0</td>\n",
       "      <td>113803</td>\n",
       "      <td>53.1000</td>\n",
       "      <td>C123</td>\n",
       "      <td>S</td>\n",
       "    </tr>\n",
       "    <tr>\n",
       "      <th>4</th>\n",
       "      <td>5</td>\n",
       "      <td>0</td>\n",
       "      <td>3</td>\n",
       "      <td>Allen, Mr. William Henry</td>\n",
       "      <td>male</td>\n",
       "      <td>35.0</td>\n",
       "      <td>0</td>\n",
       "      <td>0</td>\n",
       "      <td>373450</td>\n",
       "      <td>8.0500</td>\n",
       "      <td>NaN</td>\n",
       "      <td>S</td>\n",
       "    </tr>\n",
       "  </tbody>\n",
       "</table>\n",
       "</div>"
      ],
      "text/plain": [
       "   PassengerId  Survived  Pclass  \\\n",
       "0            1         0       3   \n",
       "1            2         1       1   \n",
       "2            3         1       3   \n",
       "3            4         1       1   \n",
       "4            5         0       3   \n",
       "\n",
       "                                                Name     Sex   Age  SibSp  \\\n",
       "0                            Braund, Mr. Owen Harris    male  22.0      1   \n",
       "1  Cumings, Mrs. John Bradley (Florence Briggs Th...  female  38.0      1   \n",
       "2                             Heikkinen, Miss. Laina  female  26.0      0   \n",
       "3       Futrelle, Mrs. Jacques Heath (Lily May Peel)  female  35.0      1   \n",
       "4                           Allen, Mr. William Henry    male  35.0      0   \n",
       "\n",
       "   Parch            Ticket     Fare Cabin Embarked  \n",
       "0      0         A/5 21171   7.2500   NaN        S  \n",
       "1      0          PC 17599  71.2833   C85        C  \n",
       "2      0  STON/O2. 3101282   7.9250   NaN        S  \n",
       "3      0            113803  53.1000  C123        S  \n",
       "4      0            373450   8.0500   NaN        S  "
      ]
     },
     "execution_count": 4,
     "metadata": {},
     "output_type": "execute_result"
    }
   ],
   "source": [
    "df.head()"
   ]
  },
  {
   "cell_type": "code",
   "execution_count": 5,
   "id": "8e168e68",
   "metadata": {},
   "outputs": [],
   "source": [
    "def outlier_thresholds(dataframe, col_name, q1=0.25, q3=0.75):\n",
    "    quartile1 = dataframe[col_name].quantile(q1)\n",
    "    quartile3 = dataframe[col_name].quantile(q3)\n",
    "    interquantile_range = quartile3 - quartile1\n",
    "    up_limit = quartile3 + 1.5 * interquantile_range\n",
    "    low_limit = quartile1 - 1.5 * interquantile_range\n",
    "    return low_limit, up_limit\n",
    "\n",
    "def chech_outlier(dataframe,col_name):\n",
    "    low_limit,up_limit=outlier_thresholds(dataframe,col_name)\n",
    "    if dataframe[(dataframe[col_name]>up_limit) | (dataframe[col_name]<low_limit)].any(axis=None):\n",
    "        return True\n",
    "    else:\n",
    "        return False\n",
    "\n",
    "def grab_col_names(dataframe,cat_th=10,car_th=20):\n",
    "    cat_cols=[col for col in dataframe.columns if dataframe[col].dtypes==\"O\"] #tipi obcejt olanları al\n",
    "    num_but_cat=[col for col in dataframe.columns if dataframe[col].nunique()<cat_th and\n",
    "             dataframe[col].dtypes!=\"O\"] #numerik görünen kategörikleri aldık\n",
    "    cat_but_car=[col for col in dataframe.columns if dataframe[col].nunique()>car_th and\n",
    "                dataframe[col].dtypes==\"O\"] #kategorik görünen kardinalleri aldık.\n",
    "\n",
    "    cat_cols=cat_cols+num_but_cat #kategörikler güncellendi\n",
    "    cat_cols=[col for col in cat_cols if col not in cat_but_car] #cat_cols içinde kardinalleri ayırdık\n",
    "\n",
    "    num_cols=[col for col in dataframe.columns if dataframe[col].dtypes!=\"O\"] #tipi objectden farkı olanları getir\n",
    "    num_cols=[col for col in num_cols if col not in num_but_cat]\n",
    "\n",
    "    print(f\"Observations(Gözlem):{dataframe.shape[0]}\")\n",
    "    print(f\"Variables(Öznitelik): {dataframe.shape[1]}\")\n",
    "    print(f\"cat_cols:{len(cat_cols)}\")\n",
    "    print(f\"num_cols:{len(num_cols)} \")\n",
    "    print(f\"cat_but_car:{len(cat_but_car)} \")\n",
    "    print(f\"num_but_cat:{len(num_but_cat)} \")\n",
    "\n",
    "    return cat_cols,num_cols,cat_but_car\n",
    "\n",
    "def grab_outliers(dataframe,col_name,index=False):\n",
    "    low,up=outlier_thresholds(dataframe,col_name)\n",
    "\n",
    "    if dataframe[((dataframe[col_name]<low) | (dataframe[col_name]>up))].shape[0]>10:\n",
    "        print(dataframe[((dataframe[col_name]<low)) | (dataframe[col_name]>up)].head())\n",
    "    else:\n",
    "        print(dataframe[((dataframe[col_name]<low)) | (dataframe[col_name]>up)])\n",
    "\n",
    "    if index:\n",
    "        outlier_index=dataframe[((dataframe[col_name]<low)| (dataframe[col_name]>up))].index\n",
    "        return outlier_index"
   ]
  },
  {
   "cell_type": "code",
   "execution_count": 6,
   "id": "2ea73b80",
   "metadata": {},
   "outputs": [],
   "source": [
    "low,up=outlier_thresholds(df,\"Fare\")"
   ]
  },
  {
   "cell_type": "code",
   "execution_count": 7,
   "id": "afbc170d",
   "metadata": {},
   "outputs": [
    {
     "data": {
      "text/plain": [
       "(891, 12)"
      ]
     },
     "execution_count": 7,
     "metadata": {},
     "output_type": "execute_result"
    }
   ],
   "source": [
    "df.shape"
   ]
  },
  {
   "cell_type": "code",
   "execution_count": 8,
   "id": "012395a3",
   "metadata": {},
   "outputs": [
    {
     "data": {
      "text/plain": [
       "(775, 12)"
      ]
     },
     "execution_count": 8,
     "metadata": {},
     "output_type": "execute_result"
    }
   ],
   "source": [
    "df[~((df[\"Fare\"]<low)| (df[\"Fare\"]>up))].shape   #Aykırı degerlerden kurtulduk."
   ]
  },
  {
   "cell_type": "markdown",
   "id": "5b6e76a3",
   "metadata": {},
   "source": [
    "## silme yöntemi"
   ]
  },
  {
   "cell_type": "code",
   "execution_count": 9,
   "id": "f7152a46",
   "metadata": {},
   "outputs": [],
   "source": [
    "def remove_outlier(dataframe,col_name):\n",
    "    low_limit,up_limit=outlier_thresholds(dataframe,col_name)\n",
    "    dataframe=dataframe[~((dataframe[col_name]<low_limit) | (dataframe[col_name]>up_limit))]\n",
    "    return dataframe"
   ]
  },
  {
   "cell_type": "code",
   "execution_count": 10,
   "id": "99dec0b1",
   "metadata": {},
   "outputs": [
    {
     "name": "stdout",
     "output_type": "stream",
     "text": [
      "Observations(Gözlem):891\n",
      "Variables(Öznitelik): 12\n",
      "cat_cols:6\n",
      "num_cols:3 \n",
      "cat_but_car:3 \n",
      "num_but_cat:4 \n"
     ]
    }
   ],
   "source": [
    "cat_cols,num_cols,cat_but_car=grab_col_names(df)"
   ]
  },
  {
   "cell_type": "code",
   "execution_count": 11,
   "id": "e21a3291",
   "metadata": {},
   "outputs": [
    {
     "data": {
      "text/plain": [
       "['PassengerId', 'Age', 'Fare']"
      ]
     },
     "execution_count": 11,
     "metadata": {},
     "output_type": "execute_result"
    }
   ],
   "source": [
    "num_cols"
   ]
  },
  {
   "cell_type": "code",
   "execution_count": 12,
   "id": "11fe6013",
   "metadata": {},
   "outputs": [],
   "source": [
    "num_cols=[col for col in num_cols if col not in \"PassengerId\"]"
   ]
  },
  {
   "cell_type": "code",
   "execution_count": 13,
   "id": "75aa9970",
   "metadata": {},
   "outputs": [
    {
     "data": {
      "text/plain": [
       "['Age', 'Fare']"
      ]
     },
     "execution_count": 13,
     "metadata": {},
     "output_type": "execute_result"
    }
   ],
   "source": [
    "num_cols"
   ]
  },
  {
   "cell_type": "code",
   "execution_count": 14,
   "id": "47362d12",
   "metadata": {},
   "outputs": [],
   "source": [
    "for col in num_cols:\n",
    "    new_df=remove_outlier(df,col)"
   ]
  },
  {
   "cell_type": "markdown",
   "id": "a71ca74d",
   "metadata": {},
   "source": [
    "df.shape[0]-new_df.shape[0] ##116 aykırı deger silindi"
   ]
  },
  {
   "cell_type": "markdown",
   "id": "944eac88",
   "metadata": {},
   "source": [
    "## baskılama yöntemi\n",
    "Silme yöntemi veri kaybetmemize neden olur. Baskılamada aykırı degerler esik degerlerle degistirilir."
   ]
  },
  {
   "cell_type": "code",
   "execution_count": 18,
   "id": "5413ce3b",
   "metadata": {},
   "outputs": [
    {
     "data": {
      "text/plain": [
       "0       7.2500\n",
       "2       7.9250\n",
       "3      53.1000\n",
       "4       8.0500\n",
       "5       8.4583\n",
       "        ...   \n",
       "886    13.0000\n",
       "887    30.0000\n",
       "888    23.4500\n",
       "889    30.0000\n",
       "890     7.7500\n",
       "Name: Fare, Length: 775, dtype: float64"
      ]
     },
     "execution_count": 18,
     "metadata": {},
     "output_type": "execute_result"
    }
   ],
   "source": [
    "df[~((df[\"Fare\"]<low)| (df[\"Fare\"]>up))][\"Fare\"]"
   ]
  },
  {
   "cell_type": "code",
   "execution_count": 19,
   "id": "160fb597",
   "metadata": {},
   "outputs": [
    {
     "data": {
      "text/plain": [
       "0       7.2500\n",
       "2       7.9250\n",
       "3      53.1000\n",
       "4       8.0500\n",
       "5       8.4583\n",
       "        ...   \n",
       "886    13.0000\n",
       "887    30.0000\n",
       "888    23.4500\n",
       "889    30.0000\n",
       "890     7.7500\n",
       "Name: Fare, Length: 775, dtype: float64"
      ]
     },
     "execution_count": 19,
     "metadata": {},
     "output_type": "execute_result"
    }
   ],
   "source": [
    "df.loc[~((df[\"Fare\"]<low)| (df[\"Fare\"]>up)),\"Fare\"]"
   ]
  },
  {
   "cell_type": "code",
   "execution_count": 23,
   "id": "2347af8f",
   "metadata": {},
   "outputs": [],
   "source": [
    "df.loc[(df[\"Fare\"]>up),\"Fare\"] = up #updan büyük olanları atadık\n",
    "df.loc[(df[\"Fare\"]<low),\"Fare\"] = low "
   ]
  },
  {
   "cell_type": "code",
   "execution_count": 24,
   "id": "3480c7dd",
   "metadata": {},
   "outputs": [
    {
     "data": {
      "text/plain": [
       "Series([], Name: Fare, dtype: float64)"
      ]
     },
     "execution_count": 24,
     "metadata": {},
     "output_type": "execute_result"
    }
   ],
   "source": [
    "df.loc[(df[\"Fare\"]>up),\"Fare\"] "
   ]
  },
  {
   "cell_type": "code",
   "execution_count": 25,
   "id": "d6df06cb",
   "metadata": {},
   "outputs": [],
   "source": [
    "def replace_with_threshlods(dataframe,veriable):\n",
    "    low_limit,up_limit=outlier_thresholds(dataframe,veriable)\n",
    "    dataframe.loc[(dataframe[veriable]>up_limit),veriable]=up_limit\n",
    "    dataframe.loc[(dataframe[veriable]>low_limit),veriable]=low_limit"
   ]
  },
  {
   "cell_type": "code",
   "execution_count": 26,
   "id": "0d5f1d09",
   "metadata": {},
   "outputs": [],
   "source": [
    "df=load()"
   ]
  },
  {
   "cell_type": "code",
   "execution_count": 27,
   "id": "f64e659e",
   "metadata": {},
   "outputs": [
    {
     "data": {
      "text/plain": [
       "(891, 12)"
      ]
     },
     "execution_count": 27,
     "metadata": {},
     "output_type": "execute_result"
    }
   ],
   "source": [
    "df.shape"
   ]
  },
  {
   "cell_type": "code",
   "execution_count": 29,
   "id": "967b1c08",
   "metadata": {},
   "outputs": [
    {
     "name": "stdout",
     "output_type": "stream",
     "text": [
      "Observations(Gözlem):891\n",
      "Variables(Öznitelik): 12\n",
      "cat_cols:6\n",
      "num_cols:3 \n",
      "cat_but_car:3 \n",
      "num_but_cat:4 \n"
     ]
    }
   ],
   "source": [
    "cat_cols,num_cols,cat_but_car=grab_col_names(df)\n",
    "num_cols=[col for col in num_cols if col not in \"PassengerId\"]"
   ]
  },
  {
   "cell_type": "code",
   "execution_count": 31,
   "id": "7ab33a0d",
   "metadata": {},
   "outputs": [
    {
     "name": "stdout",
     "output_type": "stream",
     "text": [
      "Age True\n",
      "Fare True\n"
     ]
    }
   ],
   "source": [
    "for col in num_cols:\n",
    "    print(col,chech_outlier(df,col))"
   ]
  },
  {
   "cell_type": "code",
   "execution_count": 32,
   "id": "9653b341",
   "metadata": {},
   "outputs": [],
   "source": [
    "for col in num_cols:\n",
    "    replace_with_threshlods(df,col)"
   ]
  },
  {
   "cell_type": "code",
   "execution_count": 33,
   "id": "f2dc9a4c",
   "metadata": {},
   "outputs": [
    {
     "name": "stdout",
     "output_type": "stream",
     "text": [
      "Age False\n",
      "Fare False\n"
     ]
    }
   ],
   "source": [
    "for col in num_cols:\n",
    "    print(col,chech_outlier(df,col))"
   ]
  },
  {
   "cell_type": "markdown",
   "id": "52b98602",
   "metadata": {},
   "source": [
    "1-)Aykırı deger saptama  **\n",
    "2-)Aykırı deger var mı kontrolü  \n",
    "3-)Aykırı degerleri al\n",
    "\n",
    "1-)Aykırı degerleri sil\n",
    "2-)Aykırı degerleri baskıla **"
   ]
  }
 ],
 "metadata": {
  "kernelspec": {
   "display_name": "Python 3 (ipykernel)",
   "language": "python",
   "name": "python3"
  },
  "language_info": {
   "codemirror_mode": {
    "name": "ipython",
    "version": 3
   },
   "file_extension": ".py",
   "mimetype": "text/x-python",
   "name": "python",
   "nbconvert_exporter": "python",
   "pygments_lexer": "ipython3",
   "version": "3.11.5"
  }
 },
 "nbformat": 4,
 "nbformat_minor": 5
}

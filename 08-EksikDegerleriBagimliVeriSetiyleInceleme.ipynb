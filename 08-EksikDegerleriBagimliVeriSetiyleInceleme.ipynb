{
 "cells": [
  {
   "cell_type": "code",
   "execution_count": 1,
   "id": "b0e475e5",
   "metadata": {},
   "outputs": [],
   "source": [
    "import numpy as np\n",
    "import pandas as pd\n",
    "import matplotlib.pyplot as plt\n",
    "import seaborn as sns\n",
    "import missingno as msno"
   ]
  },
  {
   "cell_type": "code",
   "execution_count": 2,
   "id": "3226c766",
   "metadata": {},
   "outputs": [],
   "source": [
    "def load():\n",
    "    data=pd.read_csv(\"titanic.csv\")\n",
    "    return data\n",
    "def missing_values_table(dataframe,na_name=False):\n",
    "    na_columns=[col for col in dataframe.columns if dataframe[col].isnull().sum()>0]\n",
    "    n_miss=dataframe[na_columns].isnull().sum().sort_values(ascending=False)\n",
    "    ratio=(dataframe[na_columns].isnull().sum() / dataframe.shape[0]*100).sort_values(ascending=True)\n",
    "    missing_df=pd.concat([n_miss,np.round(ratio,2)],axis=1,keys=[\"n_miss\",\"ratio\"])\n",
    "    print(missing_df,end=\"\\n\")\n",
    "    if na_name:\n",
    "        return na_columns"
   ]
  },
  {
   "cell_type": "code",
   "execution_count": 3,
   "id": "1e2e4f92",
   "metadata": {},
   "outputs": [],
   "source": [
    "df=load()"
   ]
  },
  {
   "cell_type": "code",
   "execution_count": 4,
   "id": "1d94a3bf",
   "metadata": {},
   "outputs": [
    {
     "name": "stdout",
     "output_type": "stream",
     "text": [
      "          n_miss  ratio\n",
      "Cabin        687  77.10\n",
      "Age          177  19.87\n",
      "Embarked       2   0.22\n"
     ]
    }
   ],
   "source": [
    "na_cols=missing_values_table(df,True)"
   ]
  },
  {
   "cell_type": "code",
   "execution_count": 5,
   "id": "44e6108d",
   "metadata": {},
   "outputs": [
    {
     "data": {
      "text/plain": [
       "['Age', 'Cabin', 'Embarked']"
      ]
     },
     "execution_count": 5,
     "metadata": {},
     "output_type": "execute_result"
    }
   ],
   "source": [
    "na_cols"
   ]
  },
  {
   "cell_type": "code",
   "execution_count": 14,
   "id": "1b6803ee",
   "metadata": {},
   "outputs": [],
   "source": [
    "def missing_vs_target(dataframe,target,na_columns):\n",
    "    temp_df=dataframe.copy()\n",
    "    for col in na_columns:\n",
    "        temp_df[col+\"_NA_FLAG\"]=np.where(temp_df[col].isnull(),1,0)\n",
    "        \n",
    "    na_flags=temp_df.loc[:,temp_df.columns.str.contains(\"_NA_\")].columns\n",
    "    for col in na_flags:\n",
    "        print(pd.DataFrame({target: temp_df.groupby(col)[target].mean(),\n",
    "                            \"Count\":temp_df.groupby(col)[target].count()}),end=\"\\n\\n\")\n"
   ]
  },
  {
   "cell_type": "code",
   "execution_count": 15,
   "id": "22ce62f0",
   "metadata": {},
   "outputs": [
    {
     "name": "stdout",
     "output_type": "stream",
     "text": [
      "             Survived  Count\n",
      "Age_NA_FLAG                 \n",
      "0            0.406162    714\n",
      "1            0.293785    177\n",
      "\n",
      "               Survived  Count\n",
      "Cabin_NA_FLAG                 \n",
      "0              0.666667    204\n",
      "1              0.299854    687\n",
      "\n",
      "                  Survived  Count\n",
      "Embarked_NA_FLAG                 \n",
      "0                 0.382452    889\n",
      "1                 1.000000      2\n",
      "\n"
     ]
    }
   ],
   "source": [
    "missing_vs_target(df,\"Survived\",na_cols)"
   ]
  },
  {
   "cell_type": "code",
   "execution_count": null,
   "id": "2b0f5acb",
   "metadata": {},
   "outputs": [],
   "source": []
  }
 ],
 "metadata": {
  "kernelspec": {
   "display_name": "Python 3 (ipykernel)",
   "language": "python",
   "name": "python3"
  },
  "language_info": {
   "codemirror_mode": {
    "name": "ipython",
    "version": 3
   },
   "file_extension": ".py",
   "mimetype": "text/x-python",
   "name": "python",
   "nbconvert_exporter": "python",
   "pygments_lexer": "ipython3",
   "version": "3.11.5"
  }
 },
 "nbformat": 4,
 "nbformat_minor": 5
}

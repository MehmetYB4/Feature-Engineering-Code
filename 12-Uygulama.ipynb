{
 "cells": [
  {
   "cell_type": "code",
   "execution_count": 96,
   "id": "81030abd-6809-47a6-951c-e016b03cb463",
   "metadata": {
    "tags": []
   },
   "outputs": [],
   "source": [
    "import numpy as np\n",
    "import pandas as pd\n",
    "import matplotlib.pyplot as plt\n",
    "import seaborn as sns\n",
    "import missingno as msnofrom\n",
    "from sklearn.preprocessing import MinMaxScaler,LabelEncoder,StandardScaler,RobustScaler"
   ]
  },
  {
   "cell_type": "code",
   "execution_count": 97,
   "id": "f69a8261-7f1d-4120-a556-68a5a4a990cc",
   "metadata": {
    "tags": []
   },
   "outputs": [],
   "source": [
    "pd.set_option(\"display.max_columns\",None)\n",
    "pd.set_option(\"display.max_rows\",None)\n",
    "pd.set_option(\"display.float_format\",lambda x: '%.3f' % x)\n",
    "pd.set_option(\"display.width\", 500)"
   ]
  },
  {
   "cell_type": "code",
   "execution_count": 98,
   "id": "3aa1fcda-9ebf-4b52-a24d-963bfc21432a",
   "metadata": {
    "tags": []
   },
   "outputs": [],
   "source": [
    "def load():\n",
    "    data=pd.read_csv(\"titanic.csv\")\n",
    "    return data\n",
    "def load_application_train():\n",
    "    data=pd.read_csv(\"application_train.csv\")\n",
    "    return data\n",
    "def grab_col_names(dataframe,cat_th=10,car_th=20):\n",
    "    cat_cols=[col for col in dataframe.columns if dataframe[col].dtypes==\"O\"] #tipi obcejt olanları al\n",
    "    num_but_cat=[col for col in dataframe.columns if dataframe[col].nunique()<cat_th and\n",
    "             dataframe[col].dtypes!=\"O\"] #numerik görünen kategörikleri aldık\n",
    "    cat_but_car=[col for col in dataframe.columns if dataframe[col].nunique()>car_th and\n",
    "                dataframe[col].dtypes==\"O\"] #kategorik görünen kardinalleri aldık.\n",
    "    \n",
    "    cat_cols=cat_cols+num_but_cat #kategörikler güncellendi\n",
    "    cat_cols=[col for col in cat_cols if col not in cat_but_car] #cat_cols içinde kardinalleri ayırdık\n",
    "    \n",
    "    num_cols=[col for col in dataframe.columns if dataframe[col].dtypes!=\"O\"] #tipi objectden farkı olanları getir\n",
    "    num_cols=[col for col in num_cols if col not in num_but_cat]\n",
    "    \n",
    "    print(f\"Observations(Gözlem):{dataframe.shape[0]}\")\n",
    "    print(f\"Variables(Öznitelik): {dataframe.shape[1]}\")\n",
    "    print(f\"cat_cols:{len(cat_cols)}\")\n",
    "    print(f\"num_cols:{len(num_cols)} \")\n",
    "    print(f\"cat_but_car:{len(cat_but_car)} \")\n",
    "    print(f\"num_but_cat:{len(num_but_cat)} \")\n",
    "    \n",
    "    return cat_cols,num_cols,cat_but_car\n",
    "def outlier_thresholds(dataframe, col_name, q1=0.25, q3=0.75):\n",
    "    quartile1 = dataframe[col_name].quantile(q1)\n",
    "    quartile3 = dataframe[col_name].quantile(q3)\n",
    "    interquantile_range = quartile3 - quartile1\n",
    "    up_limit = quartile3 + 1.5 * interquantile_range\n",
    "    low_limit = quartile1 - 1.5 * interquantile_range\n",
    "    return low_limit, up_limit\n",
    "\n",
    "def chech_outlier(dataframe,col_name):\n",
    "    low_limit,up_limit=outlier_thresholds(dataframe,col_name)\n",
    "    if dataframe[(dataframe[col_name]>up_limit) | (dataframe[col_name]<low_limit)].any(axis=None):\n",
    "        return True\n",
    "    else:\n",
    "        return False\n",
    "    \n",
    "def grab_outliers(dataframe,col_name,index=False):\n",
    "    low,up=outlier_thresholds(dataframe,col_name)\n",
    "\n",
    "    if dataframe[((dataframe[col_name]<low) | (dataframe[col_name]>up))].shape[0]>10:\n",
    "        print(dataframe[((dataframe[col_name]<low)) | (dataframe[col_name]>up)].head())\n",
    "    else:\n",
    "        print(dataframe[((dataframe[col_name]<low)) | (dataframe[col_name]>up)])\n",
    "\n",
    "    if index:\n",
    "        outlier_index=dataframe[((dataframe[col_name]<low)| (dataframe[col_name]>up))].index\n",
    "        return outlier_index\n",
    "    \n",
    "def replace_with_threshlods(dataframe,veriable):\n",
    "    low_limit,up_limit=outlier_thresholds(dataframe,veriable)\n",
    "    dataframe.loc[(dataframe[veriable]>up_limit),veriable]=up_limit\n",
    "    dataframe.loc[(dataframe[veriable]>low_limit),veriable]=low_limit\n",
    "\n",
    "def remove_outlier(dataframe,col_name):\n",
    "    low_limit,up_limit=outlier_thresholds(dataframe,col_name)\n",
    "    dataframe=dataframe[~((dataframe[col_name]<low_limit) | (dataframe[col_name]>up_limit))]\n",
    "    return dataframe"
   ]
  },
  {
   "cell_type": "code",
   "execution_count": 99,
   "id": "9ac22a2e-ccb8-47ef-9cd7-48678463d4f3",
   "metadata": {
    "tags": []
   },
   "outputs": [
    {
     "data": {
      "text/plain": [
       "(891, 12)"
      ]
     },
     "execution_count": 99,
     "metadata": {},
     "output_type": "execute_result"
    }
   ],
   "source": [
    "df=load()\n",
    "df.shape"
   ]
  },
  {
   "cell_type": "code",
   "execution_count": 100,
   "id": "d34967cd-ea8a-48cc-9e0c-b59eea37618a",
   "metadata": {
    "tags": []
   },
   "outputs": [
    {
     "data": {
      "text/html": [
       "<div>\n",
       "<style scoped>\n",
       "    .dataframe tbody tr th:only-of-type {\n",
       "        vertical-align: middle;\n",
       "    }\n",
       "\n",
       "    .dataframe tbody tr th {\n",
       "        vertical-align: top;\n",
       "    }\n",
       "\n",
       "    .dataframe thead th {\n",
       "        text-align: right;\n",
       "    }\n",
       "</style>\n",
       "<table border=\"1\" class=\"dataframe\">\n",
       "  <thead>\n",
       "    <tr style=\"text-align: right;\">\n",
       "      <th></th>\n",
       "      <th>PassengerId</th>\n",
       "      <th>Survived</th>\n",
       "      <th>Pclass</th>\n",
       "      <th>Name</th>\n",
       "      <th>Sex</th>\n",
       "      <th>Age</th>\n",
       "      <th>SibSp</th>\n",
       "      <th>Parch</th>\n",
       "      <th>Ticket</th>\n",
       "      <th>Fare</th>\n",
       "      <th>Cabin</th>\n",
       "      <th>Embarked</th>\n",
       "    </tr>\n",
       "  </thead>\n",
       "  <tbody>\n",
       "    <tr>\n",
       "      <th>0</th>\n",
       "      <td>1</td>\n",
       "      <td>0</td>\n",
       "      <td>3</td>\n",
       "      <td>Braund, Mr. Owen Harris</td>\n",
       "      <td>male</td>\n",
       "      <td>22.000</td>\n",
       "      <td>1</td>\n",
       "      <td>0</td>\n",
       "      <td>A/5 21171</td>\n",
       "      <td>7.250</td>\n",
       "      <td>NaN</td>\n",
       "      <td>S</td>\n",
       "    </tr>\n",
       "    <tr>\n",
       "      <th>1</th>\n",
       "      <td>2</td>\n",
       "      <td>1</td>\n",
       "      <td>1</td>\n",
       "      <td>Cumings, Mrs. John Bradley (Florence Briggs Th...</td>\n",
       "      <td>female</td>\n",
       "      <td>38.000</td>\n",
       "      <td>1</td>\n",
       "      <td>0</td>\n",
       "      <td>PC 17599</td>\n",
       "      <td>71.283</td>\n",
       "      <td>C85</td>\n",
       "      <td>C</td>\n",
       "    </tr>\n",
       "    <tr>\n",
       "      <th>2</th>\n",
       "      <td>3</td>\n",
       "      <td>1</td>\n",
       "      <td>3</td>\n",
       "      <td>Heikkinen, Miss. Laina</td>\n",
       "      <td>female</td>\n",
       "      <td>26.000</td>\n",
       "      <td>0</td>\n",
       "      <td>0</td>\n",
       "      <td>STON/O2. 3101282</td>\n",
       "      <td>7.925</td>\n",
       "      <td>NaN</td>\n",
       "      <td>S</td>\n",
       "    </tr>\n",
       "    <tr>\n",
       "      <th>3</th>\n",
       "      <td>4</td>\n",
       "      <td>1</td>\n",
       "      <td>1</td>\n",
       "      <td>Futrelle, Mrs. Jacques Heath (Lily May Peel)</td>\n",
       "      <td>female</td>\n",
       "      <td>35.000</td>\n",
       "      <td>1</td>\n",
       "      <td>0</td>\n",
       "      <td>113803</td>\n",
       "      <td>53.100</td>\n",
       "      <td>C123</td>\n",
       "      <td>S</td>\n",
       "    </tr>\n",
       "    <tr>\n",
       "      <th>4</th>\n",
       "      <td>5</td>\n",
       "      <td>0</td>\n",
       "      <td>3</td>\n",
       "      <td>Allen, Mr. William Henry</td>\n",
       "      <td>male</td>\n",
       "      <td>35.000</td>\n",
       "      <td>0</td>\n",
       "      <td>0</td>\n",
       "      <td>373450</td>\n",
       "      <td>8.050</td>\n",
       "      <td>NaN</td>\n",
       "      <td>S</td>\n",
       "    </tr>\n",
       "  </tbody>\n",
       "</table>\n",
       "</div>"
      ],
      "text/plain": [
       "   PassengerId  Survived  Pclass                                               Name     Sex    Age  SibSp  Parch            Ticket   Fare Cabin Embarked\n",
       "0            1         0       3                            Braund, Mr. Owen Harris    male 22.000      1      0         A/5 21171  7.250   NaN        S\n",
       "1            2         1       1  Cumings, Mrs. John Bradley (Florence Briggs Th...  female 38.000      1      0          PC 17599 71.283   C85        C\n",
       "2            3         1       3                             Heikkinen, Miss. Laina  female 26.000      0      0  STON/O2. 3101282  7.925   NaN        S\n",
       "3            4         1       1       Futrelle, Mrs. Jacques Heath (Lily May Peel)  female 35.000      1      0            113803 53.100  C123        S\n",
       "4            5         0       3                           Allen, Mr. William Henry    male 35.000      0      0            373450  8.050   NaN        S"
      ]
     },
     "execution_count": 100,
     "metadata": {},
     "output_type": "execute_result"
    }
   ],
   "source": [
    "df.head()"
   ]
  },
  {
   "cell_type": "code",
   "execution_count": 101,
   "id": "09770bf1-4bdd-4753-81df-7c996cbd17c8",
   "metadata": {
    "tags": []
   },
   "outputs": [],
   "source": [
    "##DEgisken isimlerini büyültelim\n",
    "df.columns=[col.upper() for col in df.columns]"
   ]
  },
  {
   "cell_type": "markdown",
   "id": "f425c358-351a-43cf-aa90-b3e0cded52c8",
   "metadata": {
    "tags": []
   },
   "source": [
    "## 1-) Feature Engineering"
   ]
  },
  {
   "cell_type": "code",
   "execution_count": 102,
   "id": "3aa5fc8c-0c2d-47f5-8c2c-7fef28190f3d",
   "metadata": {
    "tags": []
   },
   "outputs": [],
   "source": [
    "# Cabin bool\n",
    "df[\"NEW_CABIN_BOOL\"] = df[\"CABIN\"].notnull().astype('int')\n",
    "# Name count\n",
    "df[\"NEW_NAME_COUNT\"] = df[\"NAME\"].str.len()\n",
    "# name word count\n",
    "df[\"NEW_NAME_WORD_COUNT\"] = df[\"NAME\"].apply(lambda x: len(str(x).split(\" \")))\n",
    "# name dr\n",
    "df[\"NEW_NAME_DR\"] = df[\"NAME\"].apply(lambda x: len([x for x in x.split() if x.startswith(\"Dr\")]))\n",
    "# name title\n",
    "df['NEW_TITLE'] = df.NAME.str.extract(' ([A-Za-z]+)\\.', expand=False)\n",
    "# family size\n",
    "df[\"NEW_FAMILY_SIZE\"] = df[\"SIBSP\"] + df[\"PARCH\"] + 1\n",
    "# age_pclass\n",
    "df[\"NEW_AGE_PCLASS\"] = df[\"AGE\"] * df[\"PCLASS\"]\n",
    "# is alone\n",
    "df.loc[((df['SIBSP'] + df['PARCH']) > 0), \"NEW_IS_ALONE\"] = \"NO\"\n",
    "df.loc[((df['SIBSP'] + df['PARCH']) == 0), \"NEW_IS_ALONE\"] = \"YES\"\n",
    "# age level\n",
    "df.loc[(df['AGE'] < 18), 'NEW_AGE_CAT'] = 'young'\n",
    "df.loc[(df['AGE'] >= 18) & (df['AGE'] < 56), 'NEW_AGE_CAT'] = 'mature'\n",
    "df.loc[(df['AGE'] >= 56), 'NEW_AGE_CAT'] = 'senior'\n",
    "# sex x age\n",
    "df.loc[(df['SEX'] == 'MALE') & (df['AGE'] <= 21), 'NEW_SEX_CAT'] = 'youngmale'\n",
    "df.loc[(df['SEX'] == 'MALE') & (df['AGE'] > 21) & (df['AGE'] < 50), 'NEW_SEX_CAT'] = 'maturemale'\n",
    "df.loc[(df['SEX'] == 'MALE') & (df['AGE'] >= 50), 'NEW_SEX_CAT'] = 'seniormale'\n",
    "df.loc[(df['SEX'] == 'FEMALE') & (df['AGE'] <= 21), 'NEW_SEX_CAT'] = 'youngfemale'\n",
    "df.loc[(df['SEX'] == 'FEMALE') & (df['AGE'] > 21) & (df['AGE'] < 50), 'NEW_SEX_CAT'] = 'maturefemale'\n",
    "df.loc[(df['SEX'] == 'FEMALE') & (df['AGE'] >= 50), 'NEW_SEX_CAT'] = 'seniorfemale'"
   ]
  },
  {
   "cell_type": "code",
   "execution_count": 103,
   "id": "7f024143-33ac-4df5-b22f-f44dcb986650",
   "metadata": {
    "tags": []
   },
   "outputs": [
    {
     "data": {
      "text/html": [
       "<div>\n",
       "<style scoped>\n",
       "    .dataframe tbody tr th:only-of-type {\n",
       "        vertical-align: middle;\n",
       "    }\n",
       "\n",
       "    .dataframe tbody tr th {\n",
       "        vertical-align: top;\n",
       "    }\n",
       "\n",
       "    .dataframe thead th {\n",
       "        text-align: right;\n",
       "    }\n",
       "</style>\n",
       "<table border=\"1\" class=\"dataframe\">\n",
       "  <thead>\n",
       "    <tr style=\"text-align: right;\">\n",
       "      <th></th>\n",
       "      <th>PASSENGERID</th>\n",
       "      <th>SURVIVED</th>\n",
       "      <th>PCLASS</th>\n",
       "      <th>NAME</th>\n",
       "      <th>SEX</th>\n",
       "      <th>AGE</th>\n",
       "      <th>SIBSP</th>\n",
       "      <th>PARCH</th>\n",
       "      <th>TICKET</th>\n",
       "      <th>FARE</th>\n",
       "      <th>CABIN</th>\n",
       "      <th>EMBARKED</th>\n",
       "      <th>NEW_CABIN_BOOL</th>\n",
       "      <th>NEW_NAME_COUNT</th>\n",
       "      <th>NEW_NAME_WORD_COUNT</th>\n",
       "      <th>NEW_NAME_DR</th>\n",
       "      <th>NEW_TITLE</th>\n",
       "      <th>NEW_FAMILY_SIZE</th>\n",
       "      <th>NEW_AGE_PCLASS</th>\n",
       "      <th>NEW_IS_ALONE</th>\n",
       "      <th>NEW_AGE_CAT</th>\n",
       "      <th>NEW_SEX_CAT</th>\n",
       "    </tr>\n",
       "  </thead>\n",
       "  <tbody>\n",
       "    <tr>\n",
       "      <th>0</th>\n",
       "      <td>1</td>\n",
       "      <td>0</td>\n",
       "      <td>3</td>\n",
       "      <td>Braund, Mr. Owen Harris</td>\n",
       "      <td>male</td>\n",
       "      <td>22.000</td>\n",
       "      <td>1</td>\n",
       "      <td>0</td>\n",
       "      <td>A/5 21171</td>\n",
       "      <td>7.250</td>\n",
       "      <td>NaN</td>\n",
       "      <td>S</td>\n",
       "      <td>0</td>\n",
       "      <td>23</td>\n",
       "      <td>4</td>\n",
       "      <td>0</td>\n",
       "      <td>Mr</td>\n",
       "      <td>2</td>\n",
       "      <td>66.000</td>\n",
       "      <td>NO</td>\n",
       "      <td>mature</td>\n",
       "      <td>nan</td>\n",
       "    </tr>\n",
       "    <tr>\n",
       "      <th>1</th>\n",
       "      <td>2</td>\n",
       "      <td>1</td>\n",
       "      <td>1</td>\n",
       "      <td>Cumings, Mrs. John Bradley (Florence Briggs Th...</td>\n",
       "      <td>female</td>\n",
       "      <td>38.000</td>\n",
       "      <td>1</td>\n",
       "      <td>0</td>\n",
       "      <td>PC 17599</td>\n",
       "      <td>71.283</td>\n",
       "      <td>C85</td>\n",
       "      <td>C</td>\n",
       "      <td>1</td>\n",
       "      <td>51</td>\n",
       "      <td>7</td>\n",
       "      <td>0</td>\n",
       "      <td>Mrs</td>\n",
       "      <td>2</td>\n",
       "      <td>38.000</td>\n",
       "      <td>NO</td>\n",
       "      <td>mature</td>\n",
       "      <td>nan</td>\n",
       "    </tr>\n",
       "    <tr>\n",
       "      <th>2</th>\n",
       "      <td>3</td>\n",
       "      <td>1</td>\n",
       "      <td>3</td>\n",
       "      <td>Heikkinen, Miss. Laina</td>\n",
       "      <td>female</td>\n",
       "      <td>26.000</td>\n",
       "      <td>0</td>\n",
       "      <td>0</td>\n",
       "      <td>STON/O2. 3101282</td>\n",
       "      <td>7.925</td>\n",
       "      <td>NaN</td>\n",
       "      <td>S</td>\n",
       "      <td>0</td>\n",
       "      <td>22</td>\n",
       "      <td>3</td>\n",
       "      <td>0</td>\n",
       "      <td>Miss</td>\n",
       "      <td>1</td>\n",
       "      <td>78.000</td>\n",
       "      <td>YES</td>\n",
       "      <td>mature</td>\n",
       "      <td>nan</td>\n",
       "    </tr>\n",
       "    <tr>\n",
       "      <th>3</th>\n",
       "      <td>4</td>\n",
       "      <td>1</td>\n",
       "      <td>1</td>\n",
       "      <td>Futrelle, Mrs. Jacques Heath (Lily May Peel)</td>\n",
       "      <td>female</td>\n",
       "      <td>35.000</td>\n",
       "      <td>1</td>\n",
       "      <td>0</td>\n",
       "      <td>113803</td>\n",
       "      <td>53.100</td>\n",
       "      <td>C123</td>\n",
       "      <td>S</td>\n",
       "      <td>1</td>\n",
       "      <td>44</td>\n",
       "      <td>7</td>\n",
       "      <td>0</td>\n",
       "      <td>Mrs</td>\n",
       "      <td>2</td>\n",
       "      <td>35.000</td>\n",
       "      <td>NO</td>\n",
       "      <td>mature</td>\n",
       "      <td>nan</td>\n",
       "    </tr>\n",
       "    <tr>\n",
       "      <th>4</th>\n",
       "      <td>5</td>\n",
       "      <td>0</td>\n",
       "      <td>3</td>\n",
       "      <td>Allen, Mr. William Henry</td>\n",
       "      <td>male</td>\n",
       "      <td>35.000</td>\n",
       "      <td>0</td>\n",
       "      <td>0</td>\n",
       "      <td>373450</td>\n",
       "      <td>8.050</td>\n",
       "      <td>NaN</td>\n",
       "      <td>S</td>\n",
       "      <td>0</td>\n",
       "      <td>24</td>\n",
       "      <td>4</td>\n",
       "      <td>0</td>\n",
       "      <td>Mr</td>\n",
       "      <td>1</td>\n",
       "      <td>105.000</td>\n",
       "      <td>YES</td>\n",
       "      <td>mature</td>\n",
       "      <td>nan</td>\n",
       "    </tr>\n",
       "  </tbody>\n",
       "</table>\n",
       "</div>"
      ],
      "text/plain": [
       "   PASSENGERID  SURVIVED  PCLASS                                               NAME     SEX    AGE  SIBSP  PARCH            TICKET   FARE CABIN EMBARKED  NEW_CABIN_BOOL  NEW_NAME_COUNT  NEW_NAME_WORD_COUNT  NEW_NAME_DR NEW_TITLE  NEW_FAMILY_SIZE  NEW_AGE_PCLASS NEW_IS_ALONE NEW_AGE_CAT NEW_SEX_CAT\n",
       "0            1         0       3                            Braund, Mr. Owen Harris    male 22.000      1      0         A/5 21171  7.250   NaN        S               0              23                    4            0        Mr                2          66.000           NO      mature         nan\n",
       "1            2         1       1  Cumings, Mrs. John Bradley (Florence Briggs Th...  female 38.000      1      0          PC 17599 71.283   C85        C               1              51                    7            0       Mrs                2          38.000           NO      mature         nan\n",
       "2            3         1       3                             Heikkinen, Miss. Laina  female 26.000      0      0  STON/O2. 3101282  7.925   NaN        S               0              22                    3            0      Miss                1          78.000          YES      mature         nan\n",
       "3            4         1       1       Futrelle, Mrs. Jacques Heath (Lily May Peel)  female 35.000      1      0            113803 53.100  C123        S               1              44                    7            0       Mrs                2          35.000           NO      mature         nan\n",
       "4            5         0       3                           Allen, Mr. William Henry    male 35.000      0      0            373450  8.050   NaN        S               0              24                    4            0        Mr                1         105.000          YES      mature         nan"
      ]
     },
     "execution_count": 103,
     "metadata": {},
     "output_type": "execute_result"
    }
   ],
   "source": [
    "df.head()"
   ]
  },
  {
   "cell_type": "code",
   "execution_count": 104,
   "id": "d49b6f0e-8b20-4f33-b74e-c76a206e77e3",
   "metadata": {
    "tags": []
   },
   "outputs": [
    {
     "data": {
      "text/plain": [
       "(891, 22)"
      ]
     },
     "execution_count": 104,
     "metadata": {},
     "output_type": "execute_result"
    }
   ],
   "source": [
    "df.shape"
   ]
  },
  {
   "cell_type": "code",
   "execution_count": 105,
   "id": "8a28c530-50d3-4f33-8076-5d04c0c34286",
   "metadata": {
    "tags": []
   },
   "outputs": [
    {
     "name": "stdout",
     "output_type": "stream",
     "text": [
      "Observations(Gözlem):891\n",
      "Variables(Öznitelik): 22\n",
      "cat_cols:14\n",
      "num_cols:5 \n",
      "cat_but_car:3 \n",
      "num_but_cat:8 \n"
     ]
    }
   ],
   "source": [
    "cat_cols,num_cols,cat_but_car=grab_col_names(df)"
   ]
  },
  {
   "cell_type": "code",
   "execution_count": 106,
   "id": "5bbb39b0-c798-4918-b621-8ca99a8198bb",
   "metadata": {
    "tags": []
   },
   "outputs": [
    {
     "data": {
      "text/plain": [
       "['SEX',\n",
       " 'EMBARKED',\n",
       " 'NEW_TITLE',\n",
       " 'NEW_IS_ALONE',\n",
       " 'NEW_AGE_CAT',\n",
       " 'NEW_SEX_CAT',\n",
       " 'SURVIVED',\n",
       " 'PCLASS',\n",
       " 'SIBSP',\n",
       " 'PARCH',\n",
       " 'NEW_CABIN_BOOL',\n",
       " 'NEW_NAME_WORD_COUNT',\n",
       " 'NEW_NAME_DR',\n",
       " 'NEW_FAMILY_SIZE']"
      ]
     },
     "execution_count": 106,
     "metadata": {},
     "output_type": "execute_result"
    }
   ],
   "source": [
    "cat_cols"
   ]
  },
  {
   "cell_type": "code",
   "execution_count": 107,
   "id": "9ceb60c7-c695-4bdf-bad8-3ad36bd88102",
   "metadata": {
    "tags": []
   },
   "outputs": [
    {
     "data": {
      "text/plain": [
       "['PASSENGERID', 'AGE', 'FARE', 'NEW_NAME_COUNT', 'NEW_AGE_PCLASS']"
      ]
     },
     "execution_count": 107,
     "metadata": {},
     "output_type": "execute_result"
    }
   ],
   "source": [
    "num_cols"
   ]
  },
  {
   "cell_type": "code",
   "execution_count": 108,
   "id": "c33ca277-10af-44d9-a9f7-04b95e1d3a2b",
   "metadata": {
    "tags": []
   },
   "outputs": [],
   "source": [
    "num_cols=[col for col in num_cols if \"PASSENGERID\" not in col]"
   ]
  },
  {
   "cell_type": "code",
   "execution_count": 109,
   "id": "e4b7cd33-50a7-4563-829c-64dafaed7778",
   "metadata": {
    "tags": []
   },
   "outputs": [
    {
     "data": {
      "text/plain": [
       "['AGE', 'FARE', 'NEW_NAME_COUNT', 'NEW_AGE_PCLASS']"
      ]
     },
     "execution_count": 109,
     "metadata": {},
     "output_type": "execute_result"
    }
   ],
   "source": [
    "num_cols"
   ]
  },
  {
   "cell_type": "markdown",
   "id": "0342798e-acca-45a5-843e-63d0a789de14",
   "metadata": {},
   "source": [
    "## 2. Outliers (Aykırı Değerler)\n"
   ]
  },
  {
   "cell_type": "code",
   "execution_count": 110,
   "id": "68352266-3af8-4abd-afa0-167c3d02a37f",
   "metadata": {
    "tags": []
   },
   "outputs": [
    {
     "name": "stdout",
     "output_type": "stream",
     "text": [
      "AGE True\n",
      "FARE True\n",
      "NEW_NAME_COUNT True\n",
      "NEW_AGE_PCLASS True\n"
     ]
    }
   ],
   "source": [
    "for col in num_cols:\n",
    "    print(col,chech_outlier(df,num_cols))"
   ]
  },
  {
   "cell_type": "code",
   "execution_count": 111,
   "id": "21bbbf81-95fe-4607-ae78-ab840e6c3a06",
   "metadata": {
    "tags": []
   },
   "outputs": [],
   "source": [
    "for col in num_cols:\n",
    "    replace_with_threshlods(df,col)"
   ]
  },
  {
   "cell_type": "code",
   "execution_count": 112,
   "id": "63151277-0b3a-4fc7-b5f3-7fde5805f063",
   "metadata": {
    "tags": []
   },
   "outputs": [
    {
     "name": "stdout",
     "output_type": "stream",
     "text": [
      "AGE False\n",
      "FARE False\n",
      "NEW_NAME_COUNT False\n",
      "NEW_AGE_PCLASS False\n"
     ]
    }
   ],
   "source": [
    "for col in num_cols:\n",
    "    print(col,chech_outlier(df,num_cols))"
   ]
  },
  {
   "cell_type": "code",
   "execution_count": 113,
   "id": "67e4d7ec-7419-40af-8a08-43f8f072e746",
   "metadata": {
    "tags": []
   },
   "outputs": [],
   "source": [
    "## 3. Null (Eksik Değerler)\n"
   ]
  },
  {
   "cell_type": "code",
   "execution_count": 114,
   "id": "89822390-1b41-4715-9ab6-77c7f18eb6e9",
   "metadata": {
    "tags": []
   },
   "outputs": [],
   "source": [
    "def missing_values_table(dataframe,na_name=False):\n",
    "    na_columns=[col for col in dataframe.columns if dataframe[col].isnull().sum()>0]\n",
    "    n_miss=dataframe[na_columns].isnull().sum().sort_values(ascending=False)\n",
    "    ratio=(dataframe[na_columns].isnull().sum() / dataframe.shape[0]*100).sort_values(ascending=True)\n",
    "    missing_df=pd.concat([n_miss,np.round(ratio,2)],axis=1,keys=[\"n_miss\",\"ratio\"])\n",
    "    print(missing_df,end=\"\\n\")\n",
    "    if na_name:\n",
    "        return na_columns"
   ]
  },
  {
   "cell_type": "code",
   "execution_count": 115,
   "id": "acd2b485-e116-4573-90cd-ab42e60ffec3",
   "metadata": {
    "tags": []
   },
   "outputs": [
    {
     "name": "stdout",
     "output_type": "stream",
     "text": [
      "                n_miss  ratio\n",
      "CABIN              687 77.100\n",
      "AGE                177 19.870\n",
      "NEW_AGE_PCLASS     177 19.870\n",
      "EMBARKED             2  0.220\n"
     ]
    }
   ],
   "source": [
    "missing_values_table(df)"
   ]
  },
  {
   "cell_type": "code",
   "execution_count": 116,
   "id": "e5eebb0d-13d7-4884-b9e3-5dfd6a4ae21a",
   "metadata": {
    "tags": []
   },
   "outputs": [],
   "source": [
    "df.drop(\"CABIN\",inplace=True,axis=1)"
   ]
  },
  {
   "cell_type": "code",
   "execution_count": 117,
   "id": "9a6b8ee2-5c0a-4f00-bfe2-88824c209967",
   "metadata": {
    "tags": []
   },
   "outputs": [],
   "source": [
    "remove_cols=[\"TICKET\",\"NAME\"]\n",
    "df.drop(remove_cols,inplace=True,axis=1)"
   ]
  },
  {
   "cell_type": "code",
   "execution_count": 118,
   "id": "6ddab9e3-2bcf-4b88-b6d9-3a18eb65b00e",
   "metadata": {
    "tags": []
   },
   "outputs": [
    {
     "name": "stdout",
     "output_type": "stream",
     "text": [
      "                n_miss  ratio\n",
      "AGE                177 19.870\n",
      "NEW_AGE_PCLASS     177 19.870\n",
      "EMBARKED             2  0.220\n"
     ]
    }
   ],
   "source": [
    "missing_values_table(df)"
   ]
  },
  {
   "cell_type": "code",
   "execution_count": 119,
   "id": "636690aa-a832-4cdc-a109-a6c903187b94",
   "metadata": {
    "tags": []
   },
   "outputs": [],
   "source": [
    "df[\"AGE\"]=df[\"AGE\"].fillna(df.groupby(\"NEW_TITLE\")[\"AGE\"].transform(\"median\"))"
   ]
  },
  {
   "cell_type": "code",
   "execution_count": 120,
   "id": "5f148189-b0b7-4da0-9b47-7982041dd517",
   "metadata": {
    "tags": []
   },
   "outputs": [
    {
     "name": "stdout",
     "output_type": "stream",
     "text": [
      "                n_miss  ratio\n",
      "NEW_AGE_PCLASS     177 19.870\n",
      "EMBARKED             2  0.220\n"
     ]
    }
   ],
   "source": [
    "missing_values_table(df)\n",
    "#yaş değişkenine bağlı olan değerler de boş görünüyor\n",
    "#yaş üzerinden oluşturdugumuz değişkenleri tekrardan oluşturuyoruz"
   ]
  },
  {
   "cell_type": "code",
   "execution_count": 121,
   "id": "a0dff8a7-77dd-4f54-b9e9-77155dd3a5be",
   "metadata": {
    "tags": []
   },
   "outputs": [],
   "source": [
    "df[\"NEW_AGE_PCLASS\"] = df[\"AGE\"] * df[\"PCLASS\"]\n",
    "\n",
    "df.loc[(df['AGE'] < 18), 'NEW_AGE_CAT'] = 'young'\n",
    "df.loc[(df['AGE'] >= 18) & (df['AGE'] < 56), 'NEW_AGE_CAT'] = 'mature'\n",
    "df.loc[(df['AGE'] >= 56), 'NEW_AGE_CAT'] = 'senior'\n",
    "\n",
    "df.loc[(df['SEX'] == 'MALE') & (df['AGE'] <= 21), 'NEW_SEX_CAT'] = 'youngmale'\n",
    "df.loc[(df['SEX'] == 'MALE') & (df['AGE'] > 21) & (df['AGE'] < 50), 'NEW_SEX_CAT'] = 'maturemale'\n",
    "df.loc[(df['SEX'] == 'MALE') & (df['AGE'] >= 50), 'NEW_SEX_CAT'] = 'seniormale'\n",
    "df.loc[(df['SEX'] == 'FEMALE') & (df['AGE'] <= 21), 'NEW_SEX_CAT'] = 'youngfemale'\n",
    "df.loc[(df['SEX'] == 'FEMALE') & (df['AGE'] > 21) & (df['AGE'] < 50), 'NEW_SEX_CAT'] = 'maturefemale'\n",
    "df.loc[(df['SEX'] == 'FEMALE') & (df['AGE'] >= 50), 'NEW_SEX_CAT'] = 'seniorfemale'"
   ]
  },
  {
   "cell_type": "code",
   "execution_count": 122,
   "id": "d0055a7e-f8c1-48f2-b865-c24580b29f45",
   "metadata": {
    "tags": []
   },
   "outputs": [
    {
     "name": "stdout",
     "output_type": "stream",
     "text": [
      "          n_miss  ratio\n",
      "EMBARKED       2  0.220\n"
     ]
    }
   ],
   "source": [
    "missing_values_table(df)"
   ]
  },
  {
   "cell_type": "code",
   "execution_count": 123,
   "id": "2c1d5a80-7ead-4bd6-9231-600c5cc563c2",
   "metadata": {
    "tags": []
   },
   "outputs": [],
   "source": [
    "df=df.apply(lambda x:x.fillna(x.mode()[0]) if (x.dtype==\"O\" and len(x.unique())<=10) else x,axis=0)"
   ]
  },
  {
   "cell_type": "code",
   "execution_count": 124,
   "id": "17f7fd81-a994-4d5d-b0fb-67d8c3e3ccfd",
   "metadata": {
    "tags": []
   },
   "outputs": [
    {
     "name": "stdout",
     "output_type": "stream",
     "text": [
      "Empty DataFrame\n",
      "Columns: [n_miss, ratio]\n",
      "Index: []\n"
     ]
    }
   ],
   "source": [
    "missing_values_table(df)"
   ]
  },
  {
   "cell_type": "markdown",
   "id": "952dcdbe-2588-46a9-9c8c-72c9bfecc8eb",
   "metadata": {},
   "source": [
    "## 4-) Label Encoding"
   ]
  },
  {
   "cell_type": "code",
   "execution_count": 125,
   "id": "a83cb5a6-9c16-4899-ae88-fab8a1374713",
   "metadata": {
    "tags": []
   },
   "outputs": [
    {
     "data": {
      "text/plain": [
       "['SEX', 'NEW_CABIN_BOOL', 'NEW_IS_ALONE']"
      ]
     },
     "execution_count": 125,
     "metadata": {},
     "output_type": "execute_result"
    }
   ],
   "source": [
    "num_cols=[col for col in df.columns if df[col].dtype not in [\"float64\",\"int64\"]\n",
    "         and df[col].nunique()==2]\n",
    "num_cols"
   ]
  },
  {
   "cell_type": "code",
   "execution_count": 126,
   "id": "0accbbcf-29c0-4c52-bffd-9509b9669b90",
   "metadata": {
    "tags": []
   },
   "outputs": [],
   "source": [
    "\n",
    "def label_encoder(dataframe, binary_cols):\n",
    "    labelencoder = LabelEncoder()\n",
    "    for col in binary_cols:\n",
    "        dataframe[col] = labelencoder.fit_transform(dataframe[col])\n",
    "    return dataframe\n",
    "\n",
    "df = label_encoder(df, num_cols)\n",
    "def one_hot_encoder(dataframe,categorical_cols,drop_first=True):\n",
    "    dataframe=pd.get_dummies(dataframe,columns=categorical_cols,drop_first=drop_first)\n",
    "    return dataframe\n",
    "\n",
    "def cat_summary(dataframe,col_name,plot=False):\n",
    "    print(pd.DataFrame({col_name:dataframe[col_name].value_counts()\n",
    "                       ,\"Ratio\":100*dataframe[col_name].value_counts()/len(dataframe)}))\n",
    "    print(\"###########################################################\")\n",
    "    if plot:\n",
    "        sns.countplot(x=dataframe[col_name],data=dataframe)\n",
    "        plt.show()\n",
    "\n",
    "def rare_analyser(dataframe,target,cat_cols):\n",
    "    for col in cat_cols:\n",
    "        print(col,\":\",len(dataframe[col].value_counts()))\n",
    "        print(pd.DataFrame({\"COUNT\":dataframe[col].value_counts()\n",
    "                           ,\"RATIO\":dataframe[col].value_counts()/len(dataframe)\n",
    "                           ,\"TARGET_MEAN\":dataframe.groupby(col)[target].mean()}),end=\"\\n\\n\")\n",
    "        \n",
    "def rare_encoder(dataframe, rare_perc):\n",
    "    temp_df = dataframe.copy()\n",
    "\n",
    "    rare_columns = [col for col in temp_df.columns if temp_df[col].dtypes == 'O'\n",
    "                    and (temp_df[col].value_counts() / len(temp_df) < rare_perc).any(axis=None)]\n",
    "\n",
    "    for var in rare_columns:\n",
    "        tmp = temp_df[var].value_counts() / len(temp_df)\n",
    "        rare_labels = tmp[tmp < rare_perc].index\n",
    "        temp_df[var] = np.where(temp_df[var].isin(rare_labels), 'Rare', temp_df[var])\n",
    "\n",
    "    return temp_df"
   ]
  },
  {
   "cell_type": "code",
   "execution_count": 127,
   "id": "f6700577-5c43-412f-b767-fbbc32d29098",
   "metadata": {
    "tags": []
   },
   "outputs": [],
   "source": [
    "for col in num_cols:\n",
    "    label_encoder(df,num_cols)"
   ]
  },
  {
   "cell_type": "code",
   "execution_count": 128,
   "id": "d5fad57b-ad66-4bcf-a905-53e91b5ba100",
   "metadata": {
    "tags": []
   },
   "outputs": [
    {
     "data": {
      "text/plain": [
       "[]"
      ]
     },
     "execution_count": 128,
     "metadata": {},
     "output_type": "execute_result"
    }
   ],
   "source": [
    "num_cols=[col for col in df.columns if df[col].dtype not in [\"float64\",\"int64\"]\n",
    "         and df[col].nunique()==2]\n",
    "num_cols"
   ]
  },
  {
   "cell_type": "markdown",
   "id": "41ee693b-9098-4d27-af50-227246c5764e",
   "metadata": {},
   "source": [
    "## 5-) Rare Encoding"
   ]
  },
  {
   "cell_type": "code",
   "execution_count": 129,
   "id": "be857fd2-af72-4788-9dda-073403a56180",
   "metadata": {
    "tags": []
   },
   "outputs": [
    {
     "name": "stdout",
     "output_type": "stream",
     "text": [
      "SEX : 2\n",
      "     COUNT  RATIO  TARGET_MEAN\n",
      "SEX                           \n",
      "0      314  0.352        0.742\n",
      "1      577  0.648        0.189\n",
      "\n",
      "EMBARKED : 3\n",
      "          COUNT  RATIO  TARGET_MEAN\n",
      "EMBARKED                           \n",
      "C           168  0.189        0.554\n",
      "Q            77  0.086        0.390\n",
      "S           646  0.725        0.339\n",
      "\n",
      "NEW_TITLE : 17\n",
      "           COUNT  RATIO  TARGET_MEAN\n",
      "NEW_TITLE                           \n",
      "Capt           1  0.001        0.000\n",
      "Col            2  0.002        0.500\n",
      "Countess       1  0.001        1.000\n",
      "Don            1  0.001        0.000\n",
      "Dr             7  0.008        0.429\n",
      "Jonkheer       1  0.001        0.000\n",
      "Lady           1  0.001        1.000\n",
      "Major          2  0.002        0.500\n",
      "Master        40  0.045        0.575\n",
      "Miss         182  0.204        0.698\n",
      "Mlle           2  0.002        1.000\n",
      "Mme            1  0.001        1.000\n",
      "Mr           517  0.580        0.157\n",
      "Mrs          125  0.140        0.792\n",
      "Ms             1  0.001        1.000\n",
      "Rev            6  0.007        0.000\n",
      "Sir            1  0.001        1.000\n",
      "\n",
      "NEW_IS_ALONE : 2\n",
      "              COUNT  RATIO  TARGET_MEAN\n",
      "NEW_IS_ALONE                           \n",
      "0               354  0.397        0.506\n",
      "1               537  0.603        0.304\n",
      "\n",
      "NEW_AGE_CAT : 1\n",
      "             COUNT  RATIO  TARGET_MEAN\n",
      "NEW_AGE_CAT                           \n",
      "young          891  1.000        0.384\n",
      "\n",
      "NEW_SEX_CAT : 1\n",
      "             COUNT  RATIO  TARGET_MEAN\n",
      "NEW_SEX_CAT                           \n",
      "nan            891  1.000        0.384\n",
      "\n",
      "SURVIVED : 2\n",
      "          COUNT  RATIO  TARGET_MEAN\n",
      "SURVIVED                           \n",
      "0           549  0.616        0.000\n",
      "1           342  0.384        1.000\n",
      "\n",
      "PCLASS : 3\n",
      "        COUNT  RATIO  TARGET_MEAN\n",
      "PCLASS                           \n",
      "1         216  0.242        0.630\n",
      "2         184  0.207        0.473\n",
      "3         491  0.551        0.242\n",
      "\n",
      "SIBSP : 7\n",
      "       COUNT  RATIO  TARGET_MEAN\n",
      "SIBSP                           \n",
      "0        608  0.682        0.345\n",
      "1        209  0.235        0.536\n",
      "2         28  0.031        0.464\n",
      "3         16  0.018        0.250\n",
      "4         18  0.020        0.167\n",
      "5          5  0.006        0.000\n",
      "8          7  0.008        0.000\n",
      "\n",
      "PARCH : 7\n",
      "       COUNT  RATIO  TARGET_MEAN\n",
      "PARCH                           \n",
      "0        678  0.761        0.344\n",
      "1        118  0.132        0.551\n",
      "2         80  0.090        0.500\n",
      "3          5  0.006        0.600\n",
      "4          4  0.004        0.000\n",
      "5          5  0.006        0.200\n",
      "6          1  0.001        0.000\n",
      "\n",
      "NEW_CABIN_BOOL : 2\n",
      "                COUNT  RATIO  TARGET_MEAN\n",
      "NEW_CABIN_BOOL                           \n",
      "0                 687  0.771        0.300\n",
      "1                 204  0.229        0.667\n",
      "\n",
      "NEW_NAME_WORD_COUNT : 8\n",
      "                     COUNT  RATIO  TARGET_MEAN\n",
      "NEW_NAME_WORD_COUNT                           \n",
      "3                      305  0.342        0.292\n",
      "4                      388  0.435        0.340\n",
      "5                       96  0.108        0.427\n",
      "6                       53  0.059        0.774\n",
      "7                       38  0.043        0.842\n",
      "8                        9  0.010        0.556\n",
      "9                        1  0.001        1.000\n",
      "14                       1  0.001        1.000\n",
      "\n",
      "NEW_NAME_DR : 2\n",
      "             COUNT  RATIO  TARGET_MEAN\n",
      "NEW_NAME_DR                           \n",
      "0              881  0.989        0.383\n",
      "1               10  0.011        0.500\n",
      "\n",
      "NEW_FAMILY_SIZE : 9\n",
      "                 COUNT  RATIO  TARGET_MEAN\n",
      "NEW_FAMILY_SIZE                           \n",
      "1                  537  0.603        0.304\n",
      "2                  161  0.181        0.553\n",
      "3                  102  0.114        0.578\n",
      "4                   29  0.033        0.724\n",
      "5                   15  0.017        0.200\n",
      "6                   22  0.025        0.136\n",
      "7                   12  0.013        0.333\n",
      "8                    6  0.007        0.000\n",
      "11                   7  0.008        0.000\n",
      "\n"
     ]
    }
   ],
   "source": [
    "rare_analyser(df,\"SURVIVED\",cat_cols)"
   ]
  },
  {
   "cell_type": "code",
   "execution_count": 130,
   "id": "c782ec14-fdd0-4e4a-bc2a-d0753d39d90d",
   "metadata": {
    "tags": []
   },
   "outputs": [],
   "source": [
    "df=rare_encoder(df,0.01)"
   ]
  },
  {
   "cell_type": "code",
   "execution_count": 131,
   "id": "1403f196-28fd-4bc8-ab0b-dabbf8688c47",
   "metadata": {
    "tags": []
   },
   "outputs": [
    {
     "data": {
      "text/plain": [
       "NEW_TITLE\n",
       "Mr        517\n",
       "Miss      182\n",
       "Mrs       125\n",
       "Master     40\n",
       "Rare       27\n",
       "Name: count, dtype: int64"
      ]
     },
     "execution_count": 131,
     "metadata": {},
     "output_type": "execute_result"
    }
   ],
   "source": [
    "df[\"NEW_TITLE\"].value_counts()"
   ]
  },
  {
   "cell_type": "markdown",
   "id": "82e1128b-25dd-4686-ab92-640064d0458c",
   "metadata": {},
   "source": [
    "## 6-) One HOt Encoding"
   ]
  },
  {
   "cell_type": "code",
   "execution_count": 132,
   "id": "d698e17a-34bf-4855-820d-5c6aae07107b",
   "metadata": {
    "tags": []
   },
   "outputs": [
    {
     "data": {
      "text/plain": [
       "['PCLASS',\n",
       " 'SIBSP',\n",
       " 'PARCH',\n",
       " 'EMBARKED',\n",
       " 'NEW_NAME_WORD_COUNT',\n",
       " 'NEW_TITLE',\n",
       " 'NEW_FAMILY_SIZE',\n",
       " 'NEW_AGE_PCLASS']"
      ]
     },
     "execution_count": 132,
     "metadata": {},
     "output_type": "execute_result"
    }
   ],
   "source": [
    "ohe_cols=[col for col in df.columns if 10>=df[col].nunique()>2]\n",
    "ohe_cols"
   ]
  },
  {
   "cell_type": "code",
   "execution_count": 133,
   "id": "f2c4e8f2-ff43-48ec-9145-29930bfdcb6b",
   "metadata": {
    "tags": []
   },
   "outputs": [],
   "source": [
    "df=one_hot_encoder(df,ohe_cols)"
   ]
  },
  {
   "cell_type": "code",
   "execution_count": 134,
   "id": "ee52ea4a-315b-43e3-a4cb-0dfcd03ac5ff",
   "metadata": {
    "tags": []
   },
   "outputs": [
    {
     "data": {
      "text/html": [
       "<div>\n",
       "<style scoped>\n",
       "    .dataframe tbody tr th:only-of-type {\n",
       "        vertical-align: middle;\n",
       "    }\n",
       "\n",
       "    .dataframe tbody tr th {\n",
       "        vertical-align: top;\n",
       "    }\n",
       "\n",
       "    .dataframe thead th {\n",
       "        text-align: right;\n",
       "    }\n",
       "</style>\n",
       "<table border=\"1\" class=\"dataframe\">\n",
       "  <thead>\n",
       "    <tr style=\"text-align: right;\">\n",
       "      <th></th>\n",
       "      <th>PASSENGERID</th>\n",
       "      <th>SURVIVED</th>\n",
       "      <th>SEX</th>\n",
       "      <th>AGE</th>\n",
       "      <th>FARE</th>\n",
       "      <th>NEW_CABIN_BOOL</th>\n",
       "      <th>NEW_NAME_COUNT</th>\n",
       "      <th>NEW_NAME_DR</th>\n",
       "      <th>NEW_IS_ALONE</th>\n",
       "      <th>NEW_AGE_CAT</th>\n",
       "      <th>NEW_SEX_CAT</th>\n",
       "      <th>PCLASS_2</th>\n",
       "      <th>PCLASS_3</th>\n",
       "      <th>SIBSP_1</th>\n",
       "      <th>SIBSP_2</th>\n",
       "      <th>SIBSP_3</th>\n",
       "      <th>SIBSP_4</th>\n",
       "      <th>SIBSP_5</th>\n",
       "      <th>SIBSP_8</th>\n",
       "      <th>PARCH_1</th>\n",
       "      <th>PARCH_2</th>\n",
       "      <th>PARCH_3</th>\n",
       "      <th>PARCH_4</th>\n",
       "      <th>PARCH_5</th>\n",
       "      <th>PARCH_6</th>\n",
       "      <th>EMBARKED_Q</th>\n",
       "      <th>EMBARKED_S</th>\n",
       "      <th>NEW_NAME_WORD_COUNT_4</th>\n",
       "      <th>NEW_NAME_WORD_COUNT_5</th>\n",
       "      <th>NEW_NAME_WORD_COUNT_6</th>\n",
       "      <th>NEW_NAME_WORD_COUNT_7</th>\n",
       "      <th>NEW_NAME_WORD_COUNT_8</th>\n",
       "      <th>NEW_NAME_WORD_COUNT_9</th>\n",
       "      <th>NEW_NAME_WORD_COUNT_14</th>\n",
       "      <th>NEW_TITLE_Miss</th>\n",
       "      <th>NEW_TITLE_Mr</th>\n",
       "      <th>NEW_TITLE_Mrs</th>\n",
       "      <th>NEW_TITLE_Rare</th>\n",
       "      <th>NEW_FAMILY_SIZE_2</th>\n",
       "      <th>NEW_FAMILY_SIZE_3</th>\n",
       "      <th>NEW_FAMILY_SIZE_4</th>\n",
       "      <th>NEW_FAMILY_SIZE_5</th>\n",
       "      <th>NEW_FAMILY_SIZE_6</th>\n",
       "      <th>NEW_FAMILY_SIZE_7</th>\n",
       "      <th>NEW_FAMILY_SIZE_8</th>\n",
       "      <th>NEW_FAMILY_SIZE_11</th>\n",
       "      <th>NEW_AGE_PCLASS_-13.375</th>\n",
       "      <th>NEW_AGE_PCLASS_-6.6875</th>\n",
       "    </tr>\n",
       "  </thead>\n",
       "  <tbody>\n",
       "    <tr>\n",
       "      <th>0</th>\n",
       "      <td>1</td>\n",
       "      <td>0</td>\n",
       "      <td>1</td>\n",
       "      <td>-6.688</td>\n",
       "      <td>-26.724</td>\n",
       "      <td>0</td>\n",
       "      <td>5</td>\n",
       "      <td>0</td>\n",
       "      <td>0</td>\n",
       "      <td>young</td>\n",
       "      <td>nan</td>\n",
       "      <td>False</td>\n",
       "      <td>True</td>\n",
       "      <td>True</td>\n",
       "      <td>False</td>\n",
       "      <td>False</td>\n",
       "      <td>False</td>\n",
       "      <td>False</td>\n",
       "      <td>False</td>\n",
       "      <td>False</td>\n",
       "      <td>False</td>\n",
       "      <td>False</td>\n",
       "      <td>False</td>\n",
       "      <td>False</td>\n",
       "      <td>False</td>\n",
       "      <td>False</td>\n",
       "      <td>True</td>\n",
       "      <td>True</td>\n",
       "      <td>False</td>\n",
       "      <td>False</td>\n",
       "      <td>False</td>\n",
       "      <td>False</td>\n",
       "      <td>False</td>\n",
       "      <td>False</td>\n",
       "      <td>False</td>\n",
       "      <td>True</td>\n",
       "      <td>False</td>\n",
       "      <td>False</td>\n",
       "      <td>True</td>\n",
       "      <td>False</td>\n",
       "      <td>False</td>\n",
       "      <td>False</td>\n",
       "      <td>False</td>\n",
       "      <td>False</td>\n",
       "      <td>False</td>\n",
       "      <td>False</td>\n",
       "      <td>False</td>\n",
       "      <td>False</td>\n",
       "    </tr>\n",
       "    <tr>\n",
       "      <th>1</th>\n",
       "      <td>2</td>\n",
       "      <td>1</td>\n",
       "      <td>0</td>\n",
       "      <td>-6.688</td>\n",
       "      <td>-26.724</td>\n",
       "      <td>1</td>\n",
       "      <td>5</td>\n",
       "      <td>0</td>\n",
       "      <td>0</td>\n",
       "      <td>young</td>\n",
       "      <td>nan</td>\n",
       "      <td>False</td>\n",
       "      <td>False</td>\n",
       "      <td>True</td>\n",
       "      <td>False</td>\n",
       "      <td>False</td>\n",
       "      <td>False</td>\n",
       "      <td>False</td>\n",
       "      <td>False</td>\n",
       "      <td>False</td>\n",
       "      <td>False</td>\n",
       "      <td>False</td>\n",
       "      <td>False</td>\n",
       "      <td>False</td>\n",
       "      <td>False</td>\n",
       "      <td>False</td>\n",
       "      <td>False</td>\n",
       "      <td>False</td>\n",
       "      <td>False</td>\n",
       "      <td>False</td>\n",
       "      <td>True</td>\n",
       "      <td>False</td>\n",
       "      <td>False</td>\n",
       "      <td>False</td>\n",
       "      <td>False</td>\n",
       "      <td>False</td>\n",
       "      <td>True</td>\n",
       "      <td>False</td>\n",
       "      <td>True</td>\n",
       "      <td>False</td>\n",
       "      <td>False</td>\n",
       "      <td>False</td>\n",
       "      <td>False</td>\n",
       "      <td>False</td>\n",
       "      <td>False</td>\n",
       "      <td>False</td>\n",
       "      <td>False</td>\n",
       "      <td>True</td>\n",
       "    </tr>\n",
       "    <tr>\n",
       "      <th>2</th>\n",
       "      <td>3</td>\n",
       "      <td>1</td>\n",
       "      <td>0</td>\n",
       "      <td>-6.688</td>\n",
       "      <td>-26.724</td>\n",
       "      <td>0</td>\n",
       "      <td>5</td>\n",
       "      <td>0</td>\n",
       "      <td>1</td>\n",
       "      <td>young</td>\n",
       "      <td>nan</td>\n",
       "      <td>False</td>\n",
       "      <td>True</td>\n",
       "      <td>False</td>\n",
       "      <td>False</td>\n",
       "      <td>False</td>\n",
       "      <td>False</td>\n",
       "      <td>False</td>\n",
       "      <td>False</td>\n",
       "      <td>False</td>\n",
       "      <td>False</td>\n",
       "      <td>False</td>\n",
       "      <td>False</td>\n",
       "      <td>False</td>\n",
       "      <td>False</td>\n",
       "      <td>False</td>\n",
       "      <td>True</td>\n",
       "      <td>False</td>\n",
       "      <td>False</td>\n",
       "      <td>False</td>\n",
       "      <td>False</td>\n",
       "      <td>False</td>\n",
       "      <td>False</td>\n",
       "      <td>False</td>\n",
       "      <td>True</td>\n",
       "      <td>False</td>\n",
       "      <td>False</td>\n",
       "      <td>False</td>\n",
       "      <td>False</td>\n",
       "      <td>False</td>\n",
       "      <td>False</td>\n",
       "      <td>False</td>\n",
       "      <td>False</td>\n",
       "      <td>False</td>\n",
       "      <td>False</td>\n",
       "      <td>False</td>\n",
       "      <td>False</td>\n",
       "      <td>False</td>\n",
       "    </tr>\n",
       "    <tr>\n",
       "      <th>3</th>\n",
       "      <td>4</td>\n",
       "      <td>1</td>\n",
       "      <td>0</td>\n",
       "      <td>-6.688</td>\n",
       "      <td>-26.724</td>\n",
       "      <td>1</td>\n",
       "      <td>5</td>\n",
       "      <td>0</td>\n",
       "      <td>0</td>\n",
       "      <td>young</td>\n",
       "      <td>nan</td>\n",
       "      <td>False</td>\n",
       "      <td>False</td>\n",
       "      <td>True</td>\n",
       "      <td>False</td>\n",
       "      <td>False</td>\n",
       "      <td>False</td>\n",
       "      <td>False</td>\n",
       "      <td>False</td>\n",
       "      <td>False</td>\n",
       "      <td>False</td>\n",
       "      <td>False</td>\n",
       "      <td>False</td>\n",
       "      <td>False</td>\n",
       "      <td>False</td>\n",
       "      <td>False</td>\n",
       "      <td>True</td>\n",
       "      <td>False</td>\n",
       "      <td>False</td>\n",
       "      <td>False</td>\n",
       "      <td>True</td>\n",
       "      <td>False</td>\n",
       "      <td>False</td>\n",
       "      <td>False</td>\n",
       "      <td>False</td>\n",
       "      <td>False</td>\n",
       "      <td>True</td>\n",
       "      <td>False</td>\n",
       "      <td>True</td>\n",
       "      <td>False</td>\n",
       "      <td>False</td>\n",
       "      <td>False</td>\n",
       "      <td>False</td>\n",
       "      <td>False</td>\n",
       "      <td>False</td>\n",
       "      <td>False</td>\n",
       "      <td>False</td>\n",
       "      <td>True</td>\n",
       "    </tr>\n",
       "    <tr>\n",
       "      <th>4</th>\n",
       "      <td>5</td>\n",
       "      <td>0</td>\n",
       "      <td>1</td>\n",
       "      <td>-6.688</td>\n",
       "      <td>-26.724</td>\n",
       "      <td>0</td>\n",
       "      <td>5</td>\n",
       "      <td>0</td>\n",
       "      <td>1</td>\n",
       "      <td>young</td>\n",
       "      <td>nan</td>\n",
       "      <td>False</td>\n",
       "      <td>True</td>\n",
       "      <td>False</td>\n",
       "      <td>False</td>\n",
       "      <td>False</td>\n",
       "      <td>False</td>\n",
       "      <td>False</td>\n",
       "      <td>False</td>\n",
       "      <td>False</td>\n",
       "      <td>False</td>\n",
       "      <td>False</td>\n",
       "      <td>False</td>\n",
       "      <td>False</td>\n",
       "      <td>False</td>\n",
       "      <td>False</td>\n",
       "      <td>True</td>\n",
       "      <td>True</td>\n",
       "      <td>False</td>\n",
       "      <td>False</td>\n",
       "      <td>False</td>\n",
       "      <td>False</td>\n",
       "      <td>False</td>\n",
       "      <td>False</td>\n",
       "      <td>False</td>\n",
       "      <td>True</td>\n",
       "      <td>False</td>\n",
       "      <td>False</td>\n",
       "      <td>False</td>\n",
       "      <td>False</td>\n",
       "      <td>False</td>\n",
       "      <td>False</td>\n",
       "      <td>False</td>\n",
       "      <td>False</td>\n",
       "      <td>False</td>\n",
       "      <td>False</td>\n",
       "      <td>False</td>\n",
       "      <td>False</td>\n",
       "    </tr>\n",
       "  </tbody>\n",
       "</table>\n",
       "</div>"
      ],
      "text/plain": [
       "   PASSENGERID  SURVIVED  SEX    AGE    FARE  NEW_CABIN_BOOL  NEW_NAME_COUNT  NEW_NAME_DR  NEW_IS_ALONE NEW_AGE_CAT NEW_SEX_CAT  PCLASS_2  PCLASS_3  SIBSP_1  SIBSP_2  SIBSP_3  SIBSP_4  SIBSP_5  SIBSP_8  PARCH_1  PARCH_2  PARCH_3  PARCH_4  PARCH_5  PARCH_6  EMBARKED_Q  EMBARKED_S  NEW_NAME_WORD_COUNT_4  NEW_NAME_WORD_COUNT_5  NEW_NAME_WORD_COUNT_6  NEW_NAME_WORD_COUNT_7  NEW_NAME_WORD_COUNT_8  NEW_NAME_WORD_COUNT_9  NEW_NAME_WORD_COUNT_14  NEW_TITLE_Miss  NEW_TITLE_Mr  NEW_TITLE_Mrs  \\\n",
       "0            1         0    1 -6.688 -26.724               0               5            0             0       young         nan     False      True     True    False    False    False    False    False    False    False    False    False    False    False       False        True                   True                  False                  False                  False                  False                  False                   False           False          True          False   \n",
       "1            2         1    0 -6.688 -26.724               1               5            0             0       young         nan     False     False     True    False    False    False    False    False    False    False    False    False    False    False       False       False                  False                  False                  False                   True                  False                  False                   False           False         False           True   \n",
       "2            3         1    0 -6.688 -26.724               0               5            0             1       young         nan     False      True    False    False    False    False    False    False    False    False    False    False    False    False       False        True                  False                  False                  False                  False                  False                  False                   False            True         False          False   \n",
       "3            4         1    0 -6.688 -26.724               1               5            0             0       young         nan     False     False     True    False    False    False    False    False    False    False    False    False    False    False       False        True                  False                  False                  False                   True                  False                  False                   False           False         False           True   \n",
       "4            5         0    1 -6.688 -26.724               0               5            0             1       young         nan     False      True    False    False    False    False    False    False    False    False    False    False    False    False       False        True                   True                  False                  False                  False                  False                  False                   False           False          True          False   \n",
       "\n",
       "   NEW_TITLE_Rare  NEW_FAMILY_SIZE_2  NEW_FAMILY_SIZE_3  NEW_FAMILY_SIZE_4  NEW_FAMILY_SIZE_5  NEW_FAMILY_SIZE_6  NEW_FAMILY_SIZE_7  NEW_FAMILY_SIZE_8  NEW_FAMILY_SIZE_11  NEW_AGE_PCLASS_-13.375  NEW_AGE_PCLASS_-6.6875  \n",
       "0           False               True              False              False              False              False              False              False               False                   False                   False  \n",
       "1           False               True              False              False              False              False              False              False               False                   False                    True  \n",
       "2           False              False              False              False              False              False              False              False               False                   False                   False  \n",
       "3           False               True              False              False              False              False              False              False               False                   False                    True  \n",
       "4           False              False              False              False              False              False              False              False               False                   False                   False  "
      ]
     },
     "execution_count": 134,
     "metadata": {},
     "output_type": "execute_result"
    }
   ],
   "source": [
    "df.head()"
   ]
  },
  {
   "cell_type": "code",
   "execution_count": 137,
   "id": "80803fc9-21e2-4872-9b06-5f64b56e875b",
   "metadata": {
    "tags": []
   },
   "outputs": [],
   "source": [
    "###df['your_categorical_column'] = df['your_categorical_column'].replace({True: 1, False: 0})"
   ]
  },
  {
   "cell_type": "code",
   "execution_count": 138,
   "id": "0a39421e-af30-4ae8-9ce3-b2985caf2ebd",
   "metadata": {
    "tags": []
   },
   "outputs": [
    {
     "data": {
      "text/plain": [
       "(891, 48)"
      ]
     },
     "execution_count": 138,
     "metadata": {},
     "output_type": "execute_result"
    }
   ],
   "source": [
    "df.shape"
   ]
  },
  {
   "cell_type": "code",
   "execution_count": 151,
   "id": "6d3aa85d-dc6c-4efb-81fd-903d2f34806c",
   "metadata": {
    "tags": []
   },
   "outputs": [
    {
     "name": "stdout",
     "output_type": "stream",
     "text": [
      "Observations(Gözlem):891\n",
      "Variables(Öznitelik): 48\n",
      "cat_cols:47\n",
      "num_cols:1 \n",
      "cat_but_car:0 \n",
      "num_but_cat:45 \n"
     ]
    },
    {
     "data": {
      "text/plain": [
       "[]"
      ]
     },
     "execution_count": 151,
     "metadata": {},
     "output_type": "execute_result"
    }
   ],
   "source": [
    "cat_cols,num_cols,cat_but_car=grab_col_names(df)\n",
    "num_cols\n",
    "num_cols=[col for col in num_cols if \"PASSENGERID\" not in col]\n",
    "num_cols"
   ]
  },
  {
   "cell_type": "code",
   "execution_count": 152,
   "id": "a51cee0f-d2e7-48f0-910c-5172e07434e3",
   "metadata": {
    "tags": []
   },
   "outputs": [
    {
     "name": "stdout",
     "output_type": "stream",
     "text": [
      "NEW_AGE_CAT : 1\n",
      "             COUNT  RATIO  TARGET_MEAN\n",
      "NEW_AGE_CAT                           \n",
      "young          891  1.000        0.384\n",
      "\n",
      "NEW_SEX_CAT : 1\n",
      "             COUNT  RATIO  TARGET_MEAN\n",
      "NEW_SEX_CAT                           \n",
      "nan            891  1.000        0.384\n",
      "\n",
      "SURVIVED : 2\n",
      "          COUNT  RATIO  TARGET_MEAN\n",
      "SURVIVED                           \n",
      "0           549  0.616        0.000\n",
      "1           342  0.384        1.000\n",
      "\n",
      "SEX : 2\n",
      "     COUNT  RATIO  TARGET_MEAN\n",
      "SEX                           \n",
      "0      314  0.352        0.742\n",
      "1      577  0.648        0.189\n",
      "\n",
      "AGE : 1\n",
      "        COUNT  RATIO  TARGET_MEAN\n",
      "AGE                              \n",
      "-6.688    891  1.000        0.384\n",
      "\n",
      "FARE : 1\n",
      "         COUNT  RATIO  TARGET_MEAN\n",
      "FARE                              \n",
      "-26.724    891  1.000        0.384\n",
      "\n",
      "NEW_CABIN_BOOL : 2\n",
      "                COUNT  RATIO  TARGET_MEAN\n",
      "NEW_CABIN_BOOL                           \n",
      "0                 687  0.771        0.300\n",
      "1                 204  0.229        0.667\n",
      "\n",
      "NEW_NAME_COUNT : 1\n",
      "                COUNT  RATIO  TARGET_MEAN\n",
      "NEW_NAME_COUNT                           \n",
      "5                 891  1.000        0.384\n",
      "\n",
      "NEW_NAME_DR : 2\n",
      "             COUNT  RATIO  TARGET_MEAN\n",
      "NEW_NAME_DR                           \n",
      "0              881  0.989        0.383\n",
      "1               10  0.011        0.500\n",
      "\n",
      "NEW_IS_ALONE : 2\n",
      "              COUNT  RATIO  TARGET_MEAN\n",
      "NEW_IS_ALONE                           \n",
      "0               354  0.397        0.506\n",
      "1               537  0.603        0.304\n",
      "\n",
      "PCLASS_2 : 2\n",
      "          COUNT  RATIO  TARGET_MEAN\n",
      "PCLASS_2                           \n",
      "False       707  0.793        0.361\n",
      "True        184  0.207        0.473\n",
      "\n",
      "PCLASS_3 : 2\n",
      "          COUNT  RATIO  TARGET_MEAN\n",
      "PCLASS_3                           \n",
      "False       400  0.449        0.557\n",
      "True        491  0.551        0.242\n",
      "\n",
      "SIBSP_1 : 2\n",
      "         COUNT  RATIO  TARGET_MEAN\n",
      "SIBSP_1                           \n",
      "False      682  0.765        0.337\n",
      "True       209  0.235        0.536\n",
      "\n",
      "SIBSP_2 : 2\n",
      "         COUNT  RATIO  TARGET_MEAN\n",
      "SIBSP_2                           \n",
      "False      863  0.969        0.381\n",
      "True        28  0.031        0.464\n",
      "\n",
      "SIBSP_3 : 2\n",
      "         COUNT  RATIO  TARGET_MEAN\n",
      "SIBSP_3                           \n",
      "False      875  0.982        0.386\n",
      "True        16  0.018        0.250\n",
      "\n",
      "SIBSP_4 : 2\n",
      "         COUNT  RATIO  TARGET_MEAN\n",
      "SIBSP_4                           \n",
      "False      873  0.980        0.388\n",
      "True        18  0.020        0.167\n",
      "\n",
      "SIBSP_5 : 2\n",
      "         COUNT  RATIO  TARGET_MEAN\n",
      "SIBSP_5                           \n",
      "False      886  0.994        0.386\n",
      "True         5  0.006        0.000\n",
      "\n",
      "SIBSP_8 : 2\n",
      "         COUNT  RATIO  TARGET_MEAN\n",
      "SIBSP_8                           \n",
      "False      884  0.992        0.387\n",
      "True         7  0.008        0.000\n",
      "\n",
      "PARCH_1 : 2\n",
      "         COUNT  RATIO  TARGET_MEAN\n",
      "PARCH_1                           \n",
      "False      773  0.868        0.358\n",
      "True       118  0.132        0.551\n",
      "\n",
      "PARCH_2 : 2\n",
      "         COUNT  RATIO  TARGET_MEAN\n",
      "PARCH_2                           \n",
      "False      811  0.910        0.372\n",
      "True        80  0.090        0.500\n",
      "\n",
      "PARCH_3 : 2\n",
      "         COUNT  RATIO  TARGET_MEAN\n",
      "PARCH_3                           \n",
      "False      886  0.994        0.383\n",
      "True         5  0.006        0.600\n",
      "\n",
      "PARCH_4 : 2\n",
      "         COUNT  RATIO  TARGET_MEAN\n",
      "PARCH_4                           \n",
      "False      887  0.996        0.386\n",
      "True         4  0.004        0.000\n",
      "\n",
      "PARCH_5 : 2\n",
      "         COUNT  RATIO  TARGET_MEAN\n",
      "PARCH_5                           \n",
      "False      886  0.994        0.385\n",
      "True         5  0.006        0.200\n",
      "\n",
      "PARCH_6 : 2\n",
      "         COUNT  RATIO  TARGET_MEAN\n",
      "PARCH_6                           \n",
      "False      890  0.999        0.384\n",
      "True         1  0.001        0.000\n",
      "\n",
      "EMBARKED_Q : 2\n",
      "            COUNT  RATIO  TARGET_MEAN\n",
      "EMBARKED_Q                           \n",
      "False         814  0.914        0.383\n",
      "True           77  0.086        0.390\n",
      "\n",
      "EMBARKED_S : 2\n",
      "            COUNT  RATIO  TARGET_MEAN\n",
      "EMBARKED_S                           \n",
      "False         245  0.275        0.502\n",
      "True          646  0.725        0.339\n",
      "\n",
      "NEW_NAME_WORD_COUNT_4 : 2\n",
      "                       COUNT  RATIO  TARGET_MEAN\n",
      "NEW_NAME_WORD_COUNT_4                           \n",
      "False                    503  0.565        0.417\n",
      "True                     388  0.435        0.340\n",
      "\n",
      "NEW_NAME_WORD_COUNT_5 : 2\n",
      "                       COUNT  RATIO  TARGET_MEAN\n",
      "NEW_NAME_WORD_COUNT_5                           \n",
      "False                    795  0.892        0.379\n",
      "True                      96  0.108        0.427\n",
      "\n",
      "NEW_NAME_WORD_COUNT_6 : 2\n",
      "                       COUNT  RATIO  TARGET_MEAN\n",
      "NEW_NAME_WORD_COUNT_6                           \n",
      "False                    838  0.941        0.359\n",
      "True                      53  0.059        0.774\n",
      "\n",
      "NEW_NAME_WORD_COUNT_7 : 2\n",
      "                       COUNT  RATIO  TARGET_MEAN\n",
      "NEW_NAME_WORD_COUNT_7                           \n",
      "False                    853  0.957        0.363\n",
      "True                      38  0.043        0.842\n",
      "\n",
      "NEW_NAME_WORD_COUNT_8 : 2\n",
      "                       COUNT  RATIO  TARGET_MEAN\n",
      "NEW_NAME_WORD_COUNT_8                           \n",
      "False                    882  0.990        0.382\n",
      "True                       9  0.010        0.556\n",
      "\n",
      "NEW_NAME_WORD_COUNT_9 : 2\n",
      "                       COUNT  RATIO  TARGET_MEAN\n",
      "NEW_NAME_WORD_COUNT_9                           \n",
      "False                    890  0.999        0.383\n",
      "True                       1  0.001        1.000\n",
      "\n",
      "NEW_NAME_WORD_COUNT_14 : 2\n",
      "                        COUNT  RATIO  TARGET_MEAN\n",
      "NEW_NAME_WORD_COUNT_14                           \n",
      "False                     890  0.999        0.383\n",
      "True                        1  0.001        1.000\n",
      "\n",
      "NEW_TITLE_Miss : 2\n",
      "                COUNT  RATIO  TARGET_MEAN\n",
      "NEW_TITLE_Miss                           \n",
      "False             709  0.796        0.303\n",
      "True              182  0.204        0.698\n",
      "\n",
      "NEW_TITLE_Mr : 2\n",
      "              COUNT  RATIO  TARGET_MEAN\n",
      "NEW_TITLE_Mr                           \n",
      "False           374  0.420        0.698\n",
      "True            517  0.580        0.157\n",
      "\n",
      "NEW_TITLE_Mrs : 2\n",
      "               COUNT  RATIO  TARGET_MEAN\n",
      "NEW_TITLE_Mrs                           \n",
      "False            766  0.860        0.317\n",
      "True             125  0.140        0.792\n",
      "\n",
      "NEW_TITLE_Rare : 2\n",
      "                COUNT  RATIO  TARGET_MEAN\n",
      "NEW_TITLE_Rare                           \n",
      "False             864  0.970        0.382\n",
      "True               27  0.030        0.444\n",
      "\n",
      "NEW_FAMILY_SIZE_2 : 2\n",
      "                   COUNT  RATIO  TARGET_MEAN\n",
      "NEW_FAMILY_SIZE_2                           \n",
      "False                730  0.819        0.347\n",
      "True                 161  0.181        0.553\n",
      "\n",
      "NEW_FAMILY_SIZE_3 : 2\n",
      "                   COUNT  RATIO  TARGET_MEAN\n",
      "NEW_FAMILY_SIZE_3                           \n",
      "False                789  0.886        0.359\n",
      "True                 102  0.114        0.578\n",
      "\n",
      "NEW_FAMILY_SIZE_4 : 2\n",
      "                   COUNT  RATIO  TARGET_MEAN\n",
      "NEW_FAMILY_SIZE_4                           \n",
      "False                862  0.967        0.372\n",
      "True                  29  0.033        0.724\n",
      "\n",
      "NEW_FAMILY_SIZE_5 : 2\n",
      "                   COUNT  RATIO  TARGET_MEAN\n",
      "NEW_FAMILY_SIZE_5                           \n",
      "False                876  0.983        0.387\n",
      "True                  15  0.017        0.200\n",
      "\n",
      "NEW_FAMILY_SIZE_6 : 2\n",
      "                   COUNT  RATIO  TARGET_MEAN\n",
      "NEW_FAMILY_SIZE_6                           \n",
      "False                869  0.975        0.390\n",
      "True                  22  0.025        0.136\n",
      "\n",
      "NEW_FAMILY_SIZE_7 : 2\n",
      "                   COUNT  RATIO  TARGET_MEAN\n",
      "NEW_FAMILY_SIZE_7                           \n",
      "False                879  0.987        0.385\n",
      "True                  12  0.013        0.333\n",
      "\n",
      "NEW_FAMILY_SIZE_8 : 2\n",
      "                   COUNT  RATIO  TARGET_MEAN\n",
      "NEW_FAMILY_SIZE_8                           \n",
      "False                885  0.993        0.386\n",
      "True                   6  0.007        0.000\n",
      "\n",
      "NEW_FAMILY_SIZE_11 : 2\n",
      "                    COUNT  RATIO  TARGET_MEAN\n",
      "NEW_FAMILY_SIZE_11                           \n",
      "False                 884  0.992        0.387\n",
      "True                    7  0.008        0.000\n",
      "\n",
      "NEW_AGE_PCLASS_-13.375 : 2\n",
      "                        COUNT  RATIO  TARGET_MEAN\n",
      "NEW_AGE_PCLASS_-13.375                           \n",
      "False                     707  0.793        0.361\n",
      "True                      184  0.207        0.473\n",
      "\n",
      "NEW_AGE_PCLASS_-6.6875 : 2\n",
      "                        COUNT  RATIO  TARGET_MEAN\n",
      "NEW_AGE_PCLASS_-6.6875                           \n",
      "False                     675  0.758        0.305\n",
      "True                      216  0.242        0.630\n",
      "\n"
     ]
    }
   ],
   "source": [
    "rare_analyser(df,\"SURVIVED\",cat_cols)"
   ]
  },
  {
   "cell_type": "code",
   "execution_count": 154,
   "id": "99035bf4-0028-4e3c-8a12-9cf46fd74e5d",
   "metadata": {
    "tags": []
   },
   "outputs": [],
   "source": [
    "useless_cols = [col for col in df.columns if df[col].nunique() == 2 and\n",
    "                (df[col].value_counts() / len(df) < 0.01).any(axis=None)]\n",
    "#gereksiz sütunlar"
   ]
  },
  {
   "cell_type": "code",
   "execution_count": 155,
   "id": "eb5b6627-7e56-4847-87dd-714d9f8dcc08",
   "metadata": {
    "tags": []
   },
   "outputs": [
    {
     "data": {
      "text/plain": [
       "['SIBSP_5',\n",
       " 'SIBSP_8',\n",
       " 'PARCH_3',\n",
       " 'PARCH_4',\n",
       " 'PARCH_5',\n",
       " 'PARCH_6',\n",
       " 'NEW_NAME_WORD_COUNT_9',\n",
       " 'NEW_NAME_WORD_COUNT_14',\n",
       " 'NEW_FAMILY_SIZE_8',\n",
       " 'NEW_FAMILY_SIZE_11']"
      ]
     },
     "execution_count": 155,
     "metadata": {},
     "output_type": "execute_result"
    }
   ],
   "source": [
    "useless_cols"
   ]
  },
  {
   "cell_type": "code",
   "execution_count": 156,
   "id": "a236d3b6-38ea-4d01-96bb-17c88f84a04c",
   "metadata": {
    "tags": []
   },
   "outputs": [],
   "source": [
    "### df.drop(useless_cols,inplace=True,axis=1)\n",
    "#Sİlmek de bir tercih"
   ]
  },
  {
   "cell_type": "markdown",
   "id": "c046d624-95fa-4fd7-9c8f-d115a117925b",
   "metadata": {},
   "source": [
    "## 7 Standart Scaler"
   ]
  },
  {
   "cell_type": "code",
   "execution_count": 158,
   "id": "947e7e2f-aa1d-410b-a7be-d9063e27592b",
   "metadata": {
    "tags": []
   },
   "outputs": [
    {
     "name": "stdout",
     "output_type": "stream",
     "text": [
      "Empty DataFrame\n",
      "Columns: [n_miss, ratio]\n",
      "Index: []\n"
     ]
    }
   ],
   "source": [
    "missing_values_table(df)"
   ]
  },
  {
   "cell_type": "code",
   "execution_count": 160,
   "id": "ef6ee6dc-fd39-4d11-85f5-48aa55608660",
   "metadata": {
    "tags": []
   },
   "outputs": [],
   "source": [
    "#scaler=StandardScaler()\n",
    "#df[num_cols]=scaler.fit_transform(df[num_cols])\n",
    "#df[num_cols].head()"
   ]
  },
  {
   "cell_type": "code",
   "execution_count": 164,
   "id": "39c446e8-6850-4263-895b-3febbdad6c97",
   "metadata": {
    "tags": []
   },
   "outputs": [
    {
     "data": {
      "text/html": [
       "<div>\n",
       "<style scoped>\n",
       "    .dataframe tbody tr th:only-of-type {\n",
       "        vertical-align: middle;\n",
       "    }\n",
       "\n",
       "    .dataframe tbody tr th {\n",
       "        vertical-align: top;\n",
       "    }\n",
       "\n",
       "    .dataframe thead th {\n",
       "        text-align: right;\n",
       "    }\n",
       "</style>\n",
       "<table border=\"1\" class=\"dataframe\">\n",
       "  <thead>\n",
       "    <tr style=\"text-align: right;\">\n",
       "      <th></th>\n",
       "      <th>PASSENGERID</th>\n",
       "      <th>SURVIVED</th>\n",
       "      <th>SEX</th>\n",
       "      <th>AGE</th>\n",
       "      <th>FARE</th>\n",
       "      <th>NEW_CABIN_BOOL</th>\n",
       "      <th>NEW_NAME_COUNT</th>\n",
       "      <th>NEW_NAME_DR</th>\n",
       "      <th>NEW_IS_ALONE</th>\n",
       "      <th>NEW_AGE_CAT</th>\n",
       "      <th>NEW_SEX_CAT</th>\n",
       "      <th>PCLASS_2</th>\n",
       "      <th>PCLASS_3</th>\n",
       "      <th>SIBSP_1</th>\n",
       "      <th>SIBSP_2</th>\n",
       "      <th>SIBSP_3</th>\n",
       "      <th>SIBSP_4</th>\n",
       "      <th>SIBSP_5</th>\n",
       "      <th>SIBSP_8</th>\n",
       "      <th>PARCH_1</th>\n",
       "      <th>PARCH_2</th>\n",
       "      <th>PARCH_3</th>\n",
       "      <th>PARCH_4</th>\n",
       "      <th>PARCH_5</th>\n",
       "      <th>PARCH_6</th>\n",
       "      <th>EMBARKED_Q</th>\n",
       "      <th>EMBARKED_S</th>\n",
       "      <th>NEW_NAME_WORD_COUNT_4</th>\n",
       "      <th>NEW_NAME_WORD_COUNT_5</th>\n",
       "      <th>NEW_NAME_WORD_COUNT_6</th>\n",
       "      <th>NEW_NAME_WORD_COUNT_7</th>\n",
       "      <th>NEW_NAME_WORD_COUNT_8</th>\n",
       "      <th>NEW_NAME_WORD_COUNT_9</th>\n",
       "      <th>NEW_NAME_WORD_COUNT_14</th>\n",
       "      <th>NEW_TITLE_Miss</th>\n",
       "      <th>NEW_TITLE_Mr</th>\n",
       "      <th>NEW_TITLE_Mrs</th>\n",
       "      <th>NEW_TITLE_Rare</th>\n",
       "      <th>NEW_FAMILY_SIZE_2</th>\n",
       "      <th>NEW_FAMILY_SIZE_3</th>\n",
       "      <th>NEW_FAMILY_SIZE_4</th>\n",
       "      <th>NEW_FAMILY_SIZE_5</th>\n",
       "      <th>NEW_FAMILY_SIZE_6</th>\n",
       "      <th>NEW_FAMILY_SIZE_7</th>\n",
       "      <th>NEW_FAMILY_SIZE_8</th>\n",
       "      <th>NEW_FAMILY_SIZE_11</th>\n",
       "      <th>NEW_AGE_PCLASS_-13.375</th>\n",
       "      <th>NEW_AGE_PCLASS_-6.6875</th>\n",
       "    </tr>\n",
       "  </thead>\n",
       "  <tbody>\n",
       "    <tr>\n",
       "      <th>0</th>\n",
       "      <td>1</td>\n",
       "      <td>0</td>\n",
       "      <td>1</td>\n",
       "      <td>-6.688</td>\n",
       "      <td>-26.724</td>\n",
       "      <td>0</td>\n",
       "      <td>5</td>\n",
       "      <td>0</td>\n",
       "      <td>0</td>\n",
       "      <td>young</td>\n",
       "      <td>nan</td>\n",
       "      <td>False</td>\n",
       "      <td>True</td>\n",
       "      <td>True</td>\n",
       "      <td>False</td>\n",
       "      <td>False</td>\n",
       "      <td>False</td>\n",
       "      <td>False</td>\n",
       "      <td>False</td>\n",
       "      <td>False</td>\n",
       "      <td>False</td>\n",
       "      <td>False</td>\n",
       "      <td>False</td>\n",
       "      <td>False</td>\n",
       "      <td>False</td>\n",
       "      <td>False</td>\n",
       "      <td>True</td>\n",
       "      <td>True</td>\n",
       "      <td>False</td>\n",
       "      <td>False</td>\n",
       "      <td>False</td>\n",
       "      <td>False</td>\n",
       "      <td>False</td>\n",
       "      <td>False</td>\n",
       "      <td>False</td>\n",
       "      <td>True</td>\n",
       "      <td>False</td>\n",
       "      <td>False</td>\n",
       "      <td>True</td>\n",
       "      <td>False</td>\n",
       "      <td>False</td>\n",
       "      <td>False</td>\n",
       "      <td>False</td>\n",
       "      <td>False</td>\n",
       "      <td>False</td>\n",
       "      <td>False</td>\n",
       "      <td>False</td>\n",
       "      <td>False</td>\n",
       "    </tr>\n",
       "    <tr>\n",
       "      <th>1</th>\n",
       "      <td>2</td>\n",
       "      <td>1</td>\n",
       "      <td>0</td>\n",
       "      <td>-6.688</td>\n",
       "      <td>-26.724</td>\n",
       "      <td>1</td>\n",
       "      <td>5</td>\n",
       "      <td>0</td>\n",
       "      <td>0</td>\n",
       "      <td>young</td>\n",
       "      <td>nan</td>\n",
       "      <td>False</td>\n",
       "      <td>False</td>\n",
       "      <td>True</td>\n",
       "      <td>False</td>\n",
       "      <td>False</td>\n",
       "      <td>False</td>\n",
       "      <td>False</td>\n",
       "      <td>False</td>\n",
       "      <td>False</td>\n",
       "      <td>False</td>\n",
       "      <td>False</td>\n",
       "      <td>False</td>\n",
       "      <td>False</td>\n",
       "      <td>False</td>\n",
       "      <td>False</td>\n",
       "      <td>False</td>\n",
       "      <td>False</td>\n",
       "      <td>False</td>\n",
       "      <td>False</td>\n",
       "      <td>True</td>\n",
       "      <td>False</td>\n",
       "      <td>False</td>\n",
       "      <td>False</td>\n",
       "      <td>False</td>\n",
       "      <td>False</td>\n",
       "      <td>True</td>\n",
       "      <td>False</td>\n",
       "      <td>True</td>\n",
       "      <td>False</td>\n",
       "      <td>False</td>\n",
       "      <td>False</td>\n",
       "      <td>False</td>\n",
       "      <td>False</td>\n",
       "      <td>False</td>\n",
       "      <td>False</td>\n",
       "      <td>False</td>\n",
       "      <td>True</td>\n",
       "    </tr>\n",
       "    <tr>\n",
       "      <th>2</th>\n",
       "      <td>3</td>\n",
       "      <td>1</td>\n",
       "      <td>0</td>\n",
       "      <td>-6.688</td>\n",
       "      <td>-26.724</td>\n",
       "      <td>0</td>\n",
       "      <td>5</td>\n",
       "      <td>0</td>\n",
       "      <td>1</td>\n",
       "      <td>young</td>\n",
       "      <td>nan</td>\n",
       "      <td>False</td>\n",
       "      <td>True</td>\n",
       "      <td>False</td>\n",
       "      <td>False</td>\n",
       "      <td>False</td>\n",
       "      <td>False</td>\n",
       "      <td>False</td>\n",
       "      <td>False</td>\n",
       "      <td>False</td>\n",
       "      <td>False</td>\n",
       "      <td>False</td>\n",
       "      <td>False</td>\n",
       "      <td>False</td>\n",
       "      <td>False</td>\n",
       "      <td>False</td>\n",
       "      <td>True</td>\n",
       "      <td>False</td>\n",
       "      <td>False</td>\n",
       "      <td>False</td>\n",
       "      <td>False</td>\n",
       "      <td>False</td>\n",
       "      <td>False</td>\n",
       "      <td>False</td>\n",
       "      <td>True</td>\n",
       "      <td>False</td>\n",
       "      <td>False</td>\n",
       "      <td>False</td>\n",
       "      <td>False</td>\n",
       "      <td>False</td>\n",
       "      <td>False</td>\n",
       "      <td>False</td>\n",
       "      <td>False</td>\n",
       "      <td>False</td>\n",
       "      <td>False</td>\n",
       "      <td>False</td>\n",
       "      <td>False</td>\n",
       "      <td>False</td>\n",
       "    </tr>\n",
       "    <tr>\n",
       "      <th>3</th>\n",
       "      <td>4</td>\n",
       "      <td>1</td>\n",
       "      <td>0</td>\n",
       "      <td>-6.688</td>\n",
       "      <td>-26.724</td>\n",
       "      <td>1</td>\n",
       "      <td>5</td>\n",
       "      <td>0</td>\n",
       "      <td>0</td>\n",
       "      <td>young</td>\n",
       "      <td>nan</td>\n",
       "      <td>False</td>\n",
       "      <td>False</td>\n",
       "      <td>True</td>\n",
       "      <td>False</td>\n",
       "      <td>False</td>\n",
       "      <td>False</td>\n",
       "      <td>False</td>\n",
       "      <td>False</td>\n",
       "      <td>False</td>\n",
       "      <td>False</td>\n",
       "      <td>False</td>\n",
       "      <td>False</td>\n",
       "      <td>False</td>\n",
       "      <td>False</td>\n",
       "      <td>False</td>\n",
       "      <td>True</td>\n",
       "      <td>False</td>\n",
       "      <td>False</td>\n",
       "      <td>False</td>\n",
       "      <td>True</td>\n",
       "      <td>False</td>\n",
       "      <td>False</td>\n",
       "      <td>False</td>\n",
       "      <td>False</td>\n",
       "      <td>False</td>\n",
       "      <td>True</td>\n",
       "      <td>False</td>\n",
       "      <td>True</td>\n",
       "      <td>False</td>\n",
       "      <td>False</td>\n",
       "      <td>False</td>\n",
       "      <td>False</td>\n",
       "      <td>False</td>\n",
       "      <td>False</td>\n",
       "      <td>False</td>\n",
       "      <td>False</td>\n",
       "      <td>True</td>\n",
       "    </tr>\n",
       "    <tr>\n",
       "      <th>4</th>\n",
       "      <td>5</td>\n",
       "      <td>0</td>\n",
       "      <td>1</td>\n",
       "      <td>-6.688</td>\n",
       "      <td>-26.724</td>\n",
       "      <td>0</td>\n",
       "      <td>5</td>\n",
       "      <td>0</td>\n",
       "      <td>1</td>\n",
       "      <td>young</td>\n",
       "      <td>nan</td>\n",
       "      <td>False</td>\n",
       "      <td>True</td>\n",
       "      <td>False</td>\n",
       "      <td>False</td>\n",
       "      <td>False</td>\n",
       "      <td>False</td>\n",
       "      <td>False</td>\n",
       "      <td>False</td>\n",
       "      <td>False</td>\n",
       "      <td>False</td>\n",
       "      <td>False</td>\n",
       "      <td>False</td>\n",
       "      <td>False</td>\n",
       "      <td>False</td>\n",
       "      <td>False</td>\n",
       "      <td>True</td>\n",
       "      <td>True</td>\n",
       "      <td>False</td>\n",
       "      <td>False</td>\n",
       "      <td>False</td>\n",
       "      <td>False</td>\n",
       "      <td>False</td>\n",
       "      <td>False</td>\n",
       "      <td>False</td>\n",
       "      <td>True</td>\n",
       "      <td>False</td>\n",
       "      <td>False</td>\n",
       "      <td>False</td>\n",
       "      <td>False</td>\n",
       "      <td>False</td>\n",
       "      <td>False</td>\n",
       "      <td>False</td>\n",
       "      <td>False</td>\n",
       "      <td>False</td>\n",
       "      <td>False</td>\n",
       "      <td>False</td>\n",
       "      <td>False</td>\n",
       "    </tr>\n",
       "  </tbody>\n",
       "</table>\n",
       "</div>"
      ],
      "text/plain": [
       "   PASSENGERID  SURVIVED  SEX    AGE    FARE  NEW_CABIN_BOOL  NEW_NAME_COUNT  NEW_NAME_DR  NEW_IS_ALONE NEW_AGE_CAT NEW_SEX_CAT  PCLASS_2  PCLASS_3  SIBSP_1  SIBSP_2  SIBSP_3  SIBSP_4  SIBSP_5  SIBSP_8  PARCH_1  PARCH_2  PARCH_3  PARCH_4  PARCH_5  PARCH_6  EMBARKED_Q  EMBARKED_S  NEW_NAME_WORD_COUNT_4  NEW_NAME_WORD_COUNT_5  NEW_NAME_WORD_COUNT_6  NEW_NAME_WORD_COUNT_7  NEW_NAME_WORD_COUNT_8  NEW_NAME_WORD_COUNT_9  NEW_NAME_WORD_COUNT_14  NEW_TITLE_Miss  NEW_TITLE_Mr  NEW_TITLE_Mrs  \\\n",
       "0            1         0    1 -6.688 -26.724               0               5            0             0       young         nan     False      True     True    False    False    False    False    False    False    False    False    False    False    False       False        True                   True                  False                  False                  False                  False                  False                   False           False          True          False   \n",
       "1            2         1    0 -6.688 -26.724               1               5            0             0       young         nan     False     False     True    False    False    False    False    False    False    False    False    False    False    False       False       False                  False                  False                  False                   True                  False                  False                   False           False         False           True   \n",
       "2            3         1    0 -6.688 -26.724               0               5            0             1       young         nan     False      True    False    False    False    False    False    False    False    False    False    False    False    False       False        True                  False                  False                  False                  False                  False                  False                   False            True         False          False   \n",
       "3            4         1    0 -6.688 -26.724               1               5            0             0       young         nan     False     False     True    False    False    False    False    False    False    False    False    False    False    False       False        True                  False                  False                  False                   True                  False                  False                   False           False         False           True   \n",
       "4            5         0    1 -6.688 -26.724               0               5            0             1       young         nan     False      True    False    False    False    False    False    False    False    False    False    False    False    False       False        True                   True                  False                  False                  False                  False                  False                   False           False          True          False   \n",
       "\n",
       "   NEW_TITLE_Rare  NEW_FAMILY_SIZE_2  NEW_FAMILY_SIZE_3  NEW_FAMILY_SIZE_4  NEW_FAMILY_SIZE_5  NEW_FAMILY_SIZE_6  NEW_FAMILY_SIZE_7  NEW_FAMILY_SIZE_8  NEW_FAMILY_SIZE_11  NEW_AGE_PCLASS_-13.375  NEW_AGE_PCLASS_-6.6875  \n",
       "0           False               True              False              False              False              False              False              False               False                   False                   False  \n",
       "1           False               True              False              False              False              False              False              False               False                   False                    True  \n",
       "2           False              False              False              False              False              False              False              False               False                   False                   False  \n",
       "3           False               True              False              False              False              False              False              False               False                   False                    True  \n",
       "4           False              False              False              False              False              False              False              False               False                   False                   False  "
      ]
     },
     "execution_count": 164,
     "metadata": {},
     "output_type": "execute_result"
    }
   ],
   "source": [
    "df.head()"
   ]
  },
  {
   "cell_type": "markdown",
   "id": "a5a83402-cac4-4f38-a1e7-1e03fc5c5c25",
   "metadata": {
    "tags": []
   },
   "source": [
    "## 8-) Modelleme"
   ]
  },
  {
   "cell_type": "code",
   "execution_count": 184,
   "id": "1949853d-386a-4983-863e-d796fac4953d",
   "metadata": {
    "tags": []
   },
   "outputs": [
    {
     "name": "stdout",
     "output_type": "stream",
     "text": [
      "(268, 46)\n",
      "(268,)\n",
      "(623, 46)\n",
      "(623,)\n"
     ]
    }
   ],
   "source": [
    "from sklearn.model_selection import train_test_split\n",
    "y=df[\"SURVIVED\"]\n",
    "x=df.drop([\"PASSENGERID\",\"SURVIVED\"],axis=1)\n",
    "x_train,x_test,y_train,y_test=train_test_split(x,y,test_size=0.3,random_state=17)\n",
    "print(x_test.shape)\n",
    "print(y_test.shape)\n",
    "\n",
    "print(x_train.shape)\n",
    "print(y_train.shape)"
   ]
  },
  {
   "cell_type": "code",
   "execution_count": 185,
   "id": "62ffb85e-278b-4357-9bcc-7032e696685e",
   "metadata": {
    "tags": []
   },
   "outputs": [],
   "source": [
    "from sklearn.ensemble import RandomForestClassifier\n",
    "from sklearn.metrics import accuracy_score"
   ]
  },
  {
   "cell_type": "code",
   "execution_count": 187,
   "id": "64494d32-5992-46a6-851c-673e7fac2762",
   "metadata": {
    "tags": []
   },
   "outputs": [],
   "source": [
    "# RandomForestClassifier modeli eğitme\n",
    "#rf_model = RandomForestClassifier(random_state=46).fit(x_train, y_train)\n",
    "\n",
    "# Doğruluk skorunu hesaplayın ve ekrana yazdırın\n",
    "#accuracy = accuracy_score(y_test, y_pred)\n",
    "#print(\"Accuracy:\", accuracy)"
   ]
  },
  {
   "cell_type": "markdown",
   "id": "350b654e-af61-409c-90d5-17387e5fcde7",
   "metadata": {},
   "source": [
    "## Soru: Ön işleme yapmadan score ne olurdu??"
   ]
  },
  {
   "cell_type": "code",
   "execution_count": 188,
   "id": "e3f85541-0ba5-4436-99e0-d5111d90a585",
   "metadata": {
    "tags": []
   },
   "outputs": [
    {
     "data": {
      "text/plain": [
       "0.7090909090909091"
      ]
     },
     "execution_count": 188,
     "metadata": {},
     "output_type": "execute_result"
    }
   ],
   "source": [
    "dff = load()\n",
    "dff.dropna(inplace=True)\n",
    "dff = pd.get_dummies(dff, columns=[\"Sex\", \"Embarked\"], drop_first=True)\n",
    "y = dff[\"Survived\"]\n",
    "X = dff.drop([\"PassengerId\", \"Survived\", \"Name\", \"Ticket\", \"Cabin\"], axis=1)\n",
    "X_train, X_test, y_train, y_test = train_test_split(X, y, test_size=0.30, random_state=17)\n",
    "rf_model = RandomForestClassifier(random_state=46).fit(X_train, y_train)\n",
    "y_pred = rf_model.predict(X_test)\n",
    "accuracy_score(y_pred, y_test)"
   ]
  },
  {
   "cell_type": "markdown",
   "id": "1dfab8e1-16cb-4042-b194-f43b2ea21a41",
   "metadata": {},
   "source": [
    "## YEni türettiğimiz değişkenler ne alemde"
   ]
  },
  {
   "cell_type": "code",
   "execution_count": 189,
   "id": "e765f001-4cda-466c-85fd-09abd3f1eb0d",
   "metadata": {
    "tags": []
   },
   "outputs": [],
   "source": [
    "def plot_importance(model, features, num=len(X), save=False):\n",
    "    feature_imp = pd.DataFrame({'Value': model.feature_importances_, 'Feature': features.columns})\n",
    "    plt.figure(figsize=(10, 10))\n",
    "    sns.set(font_scale=1)\n",
    "    sns.barplot(x=\"Value\", y=\"Feature\", data=feature_imp.sort_values(by=\"Value\",\n",
    "                                                                     ascending=False)[0:num])\n",
    "    plt.title('Features')\n",
    "    plt.tight_layout()\n",
    "    plt.show()\n",
    "    if save:\n",
    "        plt.savefig('importances.png')"
   ]
  },
  {
   "cell_type": "code",
   "execution_count": 190,
   "id": "562d1dc1-3ead-4eff-a3d4-219d6728d091",
   "metadata": {
    "tags": []
   },
   "outputs": [
    {
     "data": {
      "image/png": "[encoded data removed]",
      "text/plain": [
       "<Figure size 1000x1000 with 1 Axes>"
      ]
     },
     "metadata": {},
     "output_type": "display_data"
    }
   ],
   "source": [
    "plot_importance(rf_model, X_train)\n"
   ]
  },
  {
   "cell_type": "code",
   "execution_count": null,
   "id": "024d5b7f-8d63-4aec-b458-ee5624504da3",
   "metadata": {},
   "outputs": [],
   "source": []
  }
 ],
 "metadata": {
  "kernelspec": {
   "display_name": "Python 3 (ipykernel)",
   "language": "python",
   "name": "python3"
  },
  "language_info": {
   "codemirror_mode": {
    "name": "ipython",
    "version": 3
   },
   "file_extension": ".py",
   "mimetype": "text/x-python",
   "name": "python",
   "nbconvert_exporter": "python",
   "pygments_lexer": "ipython3",
   "version": "3.11.5"
  }
 },
 "nbformat": 4,
 "nbformat_minor": 5
}
